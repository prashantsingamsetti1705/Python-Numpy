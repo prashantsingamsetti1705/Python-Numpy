{
 "cells": [
  {
   "cell_type": "code",
   "execution_count": 9,
   "id": "fb7fc9c6-f2d6-4cd6-83cf-1bccad6cf4bc",
   "metadata": {},
   "outputs": [
    {
     "name": "stdout",
     "output_type": "stream",
     "text": [
      "[[10 30 30]\n",
      " [40 50 60]]\n",
      "[10 30 30 40 50 60]\n"
     ]
    }
   ],
   "source": [
    "#here we are going to study of faltten(),ravel()\n",
    "# here flaten is used for convrert nd arrat to 1d array\n",
    "import numpy as np\n",
    "a=np.array([10,30,30,40,50,60]).reshape(2,3)\n",
    "print(a)\n",
    "#flatten()\n",
    "b=a.flatten()\n",
    "print(b)"
   ]
  },
  {
   "cell_type": "code",
   "execution_count": 21,
   "id": "5d7a2bb2-bd39-441c-b446-480a5561dff1",
   "metadata": {},
   "outputs": [
    {
     "name": "stdout",
     "output_type": "stream",
     "text": [
      "shape= (2, 3)\n",
      "size= 6\n",
      "dim= 2\n",
      "--------------------------------------------------\n",
      "shape= (6,)\n",
      "size= 6\n",
      "dim= 1\n"
     ]
    }
   ],
   "source": [
    "print(\"shape=\",a.shape)\n",
    "print(\"size=\",a.size)\n",
    "print(\"dim=\",a.ndim)\n",
    "#copy ied value here is\n",
    "print(\"-\"*50)\n",
    "print(\"shape=\",b.shape)\n",
    "print(\"size=\",b.size)\n",
    "print(\"dim=\",b.ndim)"
   ]
  },
  {
   "cell_type": "code",
   "execution_count": 69,
   "id": "ad95744f-64d3-4af9-8c2e-3d5aeef828ec",
   "metadata": {},
   "outputs": [
    {
     "name": "stdout",
     "output_type": "stream",
     "text": [
      "[[[13 12 10]\n",
      "  [18 14 16]]\n",
      "\n",
      " [[17 12 16]\n",
      "  [12 18 14]]]\n",
      "[13 12 10 18 14 16 17 12 16 12 18 14]\n",
      "[13 12 10 18 14 16 17 12 16 12 18 14]\n"
     ]
    }
   ],
   "source": [
    "#here are using the reval()\n",
    "a=np.random.randint(10,20,size=(2,2,3))\n",
    "print(a)\n",
    "#here we are converting the 1-d array\n",
    "b=a.flatten()\n",
    "print(b)\n",
    "c=b.ravel()\n",
    "print(c)"
   ]
  },
  {
   "cell_type": "code",
   "execution_count": 67,
   "id": "0c5656ed-acfc-4868-b48a-5a1f15e1644c",
   "metadata": {},
   "outputs": [
    {
     "name": "stdout",
     "output_type": "stream",
     "text": [
      "[[[100 100 100]\n",
      "  [100 100 100]]\n",
      "\n",
      " [[ 12  11  16]\n",
      "  [ 16  18  14]]] original value\n",
      "[100  13  19  14  13  16  12  11  16  16  18  14] view value base---->None\n",
      "[100  13  19  14  13  16  12  11  16  16  18  14] copied value base--->[100  13  19  14  13  16  12  11  16  16  18  14]\n"
     ]
    }
   ],
   "source": [
    "print(\"{} original value\".format(a))\n",
    "print(\"{} view value base---->{}\".format(b,b.base))\n",
    "print(\"{} copied value base--->{}\".format(c,c.base))"
   ]
  },
  {
   "cell_type": "code",
   "execution_count": 73,
   "id": "fe6a41a5-05e8-425d-8a20-c66e7912a963",
   "metadata": {},
   "outputs": [
    {
     "name": "stdout",
     "output_type": "stream",
     "text": [
      "[[[11 12 10]\n",
      "  [18 14 16]]\n",
      "\n",
      " [[17 12 16]\n",
      "  [12 18 14]]]\n",
      "-----\n",
      "[13 12 10 18 14 16 17 12 16 12 18 14]\n",
      "------\n",
      "[13 12 10 18 14 16 17 12 16 12 18 14]\n"
     ]
    }
   ],
   "source": [
    "a[0,0,0]=11\n",
    "print(a)\n",
    "print(\"-----\")\n",
    "print(b)\n",
    "print(\"------\")\n",
    "print(c)\n"
   ]
  },
  {
   "cell_type": "code",
   "execution_count": 75,
   "id": "c7f5defa-88b8-411e-a795-67bd9a7a89aa",
   "metadata": {},
   "outputs": [
    {
     "name": "stdout",
     "output_type": "stream",
     "text": [
      "[[[11 12 10]\n",
      "  [18 14 16]]\n",
      "\n",
      " [[17 12 16]\n",
      "  [12 18 14]]]\n",
      "-----\n",
      "[13 10 10 18 14 16 17 12 16 12 18 14]\n",
      "------\n",
      "[13 10 10 18 14 16 17 12 16 12 18 14]\n"
     ]
    }
   ],
   "source": [
    "c[1]=10\n",
    "print(a)\n",
    "print(\"-----\")\n",
    "print(b)\n",
    "print(\"------\")\n",
    "print(c)"
   ]
  },
  {
   "cell_type": "code",
   "execution_count": null,
   "id": "f9bcc326-695d-4fe9-a11b-b8a811d623c2",
   "metadata": {},
   "outputs": [],
   "source": []
  }
 ],
 "metadata": {
  "kernelspec": {
   "display_name": "Python [conda env:base] *",
   "language": "python",
   "name": "conda-base-py"
  },
  "language_info": {
   "codemirror_mode": {
    "name": "ipython",
    "version": 3
   },
   "file_extension": ".py",
   "mimetype": "text/x-python",
   "name": "python",
   "nbconvert_exporter": "python",
   "pygments_lexer": "ipython3",
   "version": "3.12.7"
  }
 },
 "nbformat": 4,
 "nbformat_minor": 5
}
