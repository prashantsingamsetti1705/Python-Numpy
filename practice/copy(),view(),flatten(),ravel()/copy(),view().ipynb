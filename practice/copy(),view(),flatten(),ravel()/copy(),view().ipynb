{
 "cells": [
  {
   "cell_type": "code",
   "execution_count": null,
   "id": "99ba1b27-c685-438c-b189-a55ee4ed7ab4",
   "metadata": {},
   "outputs": [],
   "source": [
    "# The copy returns None.\n",
    "# The view returns the original array."
   ]
  },
  {
   "cell_type": "code",
   "execution_count": 29,
   "id": "b5f1f50f-8aea-482e-be6b-f36fef8c0ed1",
   "metadata": {},
   "outputs": [
    {
     "name": "stdout",
     "output_type": "stream",
     "text": [
      "[10 20 30 40 50 60 70 80] 1755416111664\n",
      "content of a\n",
      "dim of a = 1\n",
      "shape of a= (8,)\n",
      "----------------------------------------------------\n",
      "[10 20 30 40 50 60 70 80] 1755416111184 None\n"
     ]
    }
   ],
   "source": [
    "#copy(),veiw()\n",
    "#here copyis ashallow copy it had diffrent id and no base\n",
    "#where view has the diferent id and and base \n",
    "import numpy as np \n",
    "a=np.array([10,20,30,40,50,60,70,80])\n",
    "print(a,id(a))\n",
    "print(\"content of a\")\n",
    "print(\"dim of a =\",a.ndim)\n",
    "print(\"shape of a=\",a.shape)\n",
    "print(\"-\"*52)\n",
    "#copy()\n",
    "b=np.copy(a)\n",
    "print(b,id(b),b.base)"
   ]
  },
  {
   "cell_type": "code",
   "execution_count": 31,
   "id": "2991f19d-d527-4509-89d8-cbffc28803a3",
   "metadata": {},
   "outputs": [
    {
     "name": "stdout",
     "output_type": "stream",
     "text": [
      "[100  20  30  40  50  60 -12] 2241293581072\n",
      "[ 20  20  30  40  50  60 -12] [ 20  20  30  40  50  60 -12]\n"
     ]
    }
   ],
   "source": [
    "c=b.copy()\n",
    "print(c,id(c))\n",
    "a[0]=20\n",
    "print(a,b)"
   ]
  },
  {
   "cell_type": "code",
   "execution_count": 41,
   "id": "07879ac2-1cd7-4aae-8fc0-2f1d35c89470",
   "metadata": {},
   "outputs": [
    {
     "name": "stdout",
     "output_type": "stream",
     "text": [
      "[ 10  20  30  40  50  60  70  80 100 100 100 100] [ 10  20  30  40  50  60  70  80 200 200 200 200] 1755416113488\n"
     ]
    }
   ],
   "source": [
    "a=np.append(a,100)\n",
    "b=np.append(b,200)\n",
    "#here we append t\n",
    "print(a,b,id(a))"
   ]
  },
  {
   "cell_type": "code",
   "execution_count": 5,
   "id": "1864ae11-b967-48c5-b4e6-df8d2f1e9bfe",
   "metadata": {},
   "outputs": [
    {
     "name": "stdout",
     "output_type": "stream",
     "text": [
      "[10 20 30 40 50 60 80] 2241252441136\n",
      "[10 20 30 40 50 60 80] 2241252441232\n"
     ]
    }
   ],
   "source": [
    "import numpy as np\n",
    "a=np.array([10,20,30,40,50,60,80,])\n",
    "print(a,id(a))\n",
    "#here the id is diferet od pervious and copy\n",
    "b=a.view()\n",
    "print(b,id(b))"
   ]
  },
  {
   "cell_type": "code",
   "execution_count": 17,
   "id": "2e783a21-f1e0-4569-aa7f-1613b37ed725",
   "metadata": {},
   "outputs": [
    {
     "name": "stdout",
     "output_type": "stream",
     "text": [
      "[100  20  30  40  50  60  80] 2241252441040\n"
     ]
    }
   ],
   "source": [
    "c=b.copy()\n",
    "print(c,id(c))"
   ]
  },
  {
   "cell_type": "code",
   "execution_count": 25,
   "id": "4e6a17bd-304c-46b5-af6e-c5644b866f08",
   "metadata": {},
   "outputs": [
    {
     "name": "stdout",
     "output_type": "stream",
     "text": [
      "[100  20  30  40  50  60  80] [100  20  30  40  50  60  80]\n",
      "[100  20  30  40  50  60  80]\n",
      "original obj[100  20  30  40  50  60 -12],view obj[100  20  30  40  50  60 -12],copyobj[100  20  30  40  50  60  80]\n"
     ]
    }
   ],
   "source": [
    "a[0]=100\n",
    "print(a,b)\n",
    "a[-1]=-12\n",
    "print(c)\n",
    "print(\"original obj{},view obj{},copyobj{}\".format(a,b,c))"
   ]
  },
  {
   "cell_type": "code",
   "execution_count": 29,
   "id": "f677477c-a6a2-4761-a7ae-8693fcd88b4b",
   "metadata": {},
   "outputs": [
    {
     "name": "stdout",
     "output_type": "stream",
     "text": [
      "original obj[100  20  30  40  50  60 -12],view obj[100  20  30  40  50  60 -12]---base[100  20  30  40  50  60  80],copyobj[100  20  30  40  50  60 -12]-----baseNone\n"
     ]
    }
   ],
   "source": [
    "print(\"original obj{},view obj{}---base{},copyobj{}-----base{}\".format(a,b,c,b.base,c.base))"
   ]
  },
  {
   "cell_type": "code",
   "execution_count": null,
   "id": "4553be64-d228-4c3a-bf16-982b0774f753",
   "metadata": {},
   "outputs": [],
   "source": []
  }
 ],
 "metadata": {
  "kernelspec": {
   "display_name": "Python [conda env:base] *",
   "language": "python",
   "name": "conda-base-py"
  },
  "language_info": {
   "codemirror_mode": {
    "name": "ipython",
    "version": 3
   },
   "file_extension": ".py",
   "mimetype": "text/x-python",
   "name": "python",
   "nbconvert_exporter": "python",
   "pygments_lexer": "ipython3",
   "version": "3.12.7"
  }
 },
 "nbformat": 4,
 "nbformat_minor": 5
}
