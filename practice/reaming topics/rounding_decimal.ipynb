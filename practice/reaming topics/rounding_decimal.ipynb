{
 "cells": [
  {
   "cell_type": "code",
   "execution_count": 1,
   "id": "9dbd24a1-d402-4633-8912-aeabc3a41968",
   "metadata": {},
   "outputs": [],
   "source": [
    "# numpy aproch the rundig the decimals around(),fix(),trunc(),floor(),ceil()\n"
   ]
  },
  {
   "cell_type": "code",
   "execution_count": 5,
   "id": "398d4d54-54ca-4f96-a54a-ed56ada7c3e7",
   "metadata": {},
   "outputs": [
    {
     "name": "stdout",
     "output_type": "stream",
     "text": [
      "content of the a\n",
      "[[10 20 30]\n",
      " [40 50 70]]\n",
      "(2, 3)\n",
      "dim of the a 2\n"
     ]
    }
   ],
   "source": [
    "import numpy as np\n",
    "a=np.array([10,20,30,40,50,70]).reshape(2,3)\n",
    "print(\"content of the a\")\n",
    "print(a)\n",
    "print(a.shape)\n",
    "print(\"dim of the a\",a.ndim)"
   ]
  },
  {
   "cell_type": "code",
   "execution_count": 15,
   "id": "ffb79655-23d2-43cd-9131-0724840946a5",
   "metadata": {},
   "outputs": [
    {
     "name": "stdout",
     "output_type": "stream",
     "text": [
      "[0.33333333 0.4        0.5        0.5       ]\n"
     ]
    }
   ],
   "source": [
    "a1=np.array([10,20,30,40])\n",
    "a2=np.array([30,50,60,80])\n",
    "c=np.divide(a1,a2)\n",
    "print(c)"
   ]
  },
  {
   "cell_type": "code",
   "execution_count": 17,
   "id": "bfc1057e-4d28-4999-8204-9d99b181a656",
   "metadata": {},
   "outputs": [
    {
     "name": "stdout",
     "output_type": "stream",
     "text": [
      "[0. 0. 0. 0.]\n"
     ]
    }
   ],
   "source": [
    "#--->it will elminates the decimal values\n",
    "d=np.around(c)\n",
    "print(d)"
   ]
  },
  {
   "cell_type": "code",
   "execution_count": 23,
   "id": "473de3b3-7d3c-4c6f-bbab-bd62738116c9",
   "metadata": {},
   "outputs": [
    {
     "name": "stdout",
     "output_type": "stream",
     "text": [
      "[0. 0. 0. 0.]\n"
     ]
    }
   ],
   "source": [
    "d=np.fix(c)\n",
    "print(d)"
   ]
  },
  {
   "cell_type": "code",
   "execution_count": 25,
   "id": "ef364f50-6b71-4689-916d-1229a01000b7",
   "metadata": {},
   "outputs": [
    {
     "name": "stdout",
     "output_type": "stream",
     "text": [
      "[10.  0. 17.]\n"
     ]
    }
   ],
   "source": [
    "import numpy as np \n",
    "a=np.trunc([10.666,0.336,17.55])\n",
    "print(a)"
   ]
  },
  {
   "cell_type": "code",
   "execution_count": 27,
   "id": "913a2c8e-2ee4-420f-b43b-da9b2471d9b7",
   "metadata": {},
   "outputs": [
    {
     "name": "stdout",
     "output_type": "stream",
     "text": [
      "[10.  0. 17.  3. 17.]\n"
     ]
    }
   ],
   "source": [
    "import numpy as np \n",
    "a=np.trunc([10.666,0.336,17.55,3.665,17.1666])\n",
    "print(a)"
   ]
  },
  {
   "cell_type": "code",
   "execution_count": 29,
   "id": "a6b95846-0e56-4dbd-beeb-449e8728ccfc",
   "metadata": {},
   "outputs": [
    {
     "name": "stdout",
     "output_type": "stream",
     "text": [
      "[10.  0. 17.  3. 17.]\n"
     ]
    }
   ],
   "source": [
    "import numpy as np \n",
    "a=np.fix([10.666,0.336,17.55,3.665,17.1666])\n",
    "print(a)"
   ]
  },
  {
   "cell_type": "code",
   "execution_count": 31,
   "id": "1b6ebe41-5612-4536-bd83-0ad3187d9377",
   "metadata": {},
   "outputs": [
    {
     "name": "stdout",
     "output_type": "stream",
     "text": [
      "[ 1.  0. 16.  3. 17.]\n"
     ]
    }
   ],
   "source": [
    "import numpy as np \n",
    "a=np.fix([1.666,0.336,16.55,3.665,17.1666])\n",
    "print(a)"
   ]
  },
  {
   "cell_type": "code",
   "execution_count": 33,
   "id": "0e81ee7c-963c-4873-a02e-50b1c19648a0",
   "metadata": {},
   "outputs": [
    {
     "name": "stdout",
     "output_type": "stream",
     "text": [
      "[20. 55. 23.]\n"
     ]
    }
   ],
   "source": [
    "#now  we are usig the around operation\n",
    "a=np.around([20.14,55.166,23.114])\n",
    "print(a)"
   ]
  },
  {
   "cell_type": "code",
   "execution_count": 35,
   "id": "41d3c0b9-2758-4bae-a1ef-40835c189a10",
   "metadata": {},
   "outputs": [
    {
     "name": "stdout",
     "output_type": "stream",
     "text": [
      "[20. 55. 23.]\n"
     ]
    }
   ],
   "source": [
    "#now  we are usig the floor operation\n",
    "a=np.floor([20.14,55.166,23.114])\n",
    "print(a)"
   ]
  },
  {
   "cell_type": "code",
   "execution_count": 41,
   "id": "451c1cdc-196e-420f-83be-0259460ab902",
   "metadata": {},
   "outputs": [
    {
     "name": "stdout",
     "output_type": "stream",
     "text": [
      "[21. 56. 24.]\n"
     ]
    }
   ],
   "source": [
    "#now we are performing the ceil()\n",
    "a=np.ceil([20.156,55.1666,23.114])\n",
    "print(a)"
   ]
  },
  {
   "cell_type": "code",
   "execution_count": null,
   "id": "70bf2618-d59b-4005-948f-220d24089853",
   "metadata": {},
   "outputs": [],
   "source": []
  }
 ],
 "metadata": {
  "kernelspec": {
   "display_name": "Python [conda env:base] *",
   "language": "python",
   "name": "conda-base-py"
  },
  "language_info": {
   "codemirror_mode": {
    "name": "ipython",
    "version": 3
   },
   "file_extension": ".py",
   "mimetype": "text/x-python",
   "name": "python",
   "nbconvert_exporter": "python",
   "pygments_lexer": "ipython3",
   "version": "3.12.7"
  }
 },
 "nbformat": 4,
 "nbformat_minor": 5
}
