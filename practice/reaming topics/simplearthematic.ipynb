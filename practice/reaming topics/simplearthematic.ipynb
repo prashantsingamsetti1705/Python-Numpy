{
 "cells": [
  {
   "cell_type": "code",
   "execution_count": 15,
   "id": "99e286e9-a7a4-4078-8934-b60cda5ac8c9",
   "metadata": {},
   "outputs": [
    {
     "name": "stdout",
     "output_type": "stream",
     "text": [
      "addition operation\n",
      "[ 30  74 100 176]\n"
     ]
    }
   ],
   "source": [
    "#here simple arthematic in nmupyis simmilar to the the python arthematic operation \n",
    "# add(),subtract(),multiply(),divide(),mod(),power(),dividemode(),absolute()\n",
    "import numpy as np \n",
    "a=np.array([10,44,55,96])\n",
    "b=np.array([20,30,45,80])\n",
    "print(\"addition operation\")\n",
    "c=np.add(a,b)\n",
    "print(c)"
   ]
  },
  {
   "cell_type": "code",
   "execution_count": 19,
   "id": "bdbf16fa-fc98-4129-ad6f-67726c724d36",
   "metadata": {},
   "outputs": [
    {
     "name": "stdout",
     "output_type": "stream",
     "text": [
      "subratcting operation\n",
      "[-10  14  10  16]\n"
     ]
    }
   ],
   "source": [
    "import numpy as np \n",
    "a=np.array([10,44,55,96])\n",
    "b=np.array([20,30,45,80])\n",
    "print(\"subratcting operation\")\n",
    "c=np.subtract(a,b)\n",
    "print(c)"
   ]
  },
  {
   "cell_type": "code",
   "execution_count": 23,
   "id": "d5e2ea25-e07c-401c-bbc0-93e62cfede01",
   "metadata": {},
   "outputs": [
    {
     "name": "stdout",
     "output_type": "stream",
     "text": [
      "multiple operation\n",
      "[ 200 1320 2475 7680]\n"
     ]
    }
   ],
   "source": [
    "import numpy as np \n",
    "a=np.array([10,44,55,96])\n",
    "b=np.array([20,30,45,80])\n",
    "print(\"multiple operation\")\n",
    "c=np.multiply(a,b)\n",
    "print(c)"
   ]
  },
  {
   "cell_type": "code",
   "execution_count": 11,
   "id": "6134e086-3575-4ec0-a780-2e5e0d16b1ef",
   "metadata": {},
   "outputs": [
    {
     "name": "stdout",
     "output_type": "stream",
     "text": [
      "multiple operation\n",
      "11675\n"
     ]
    }
   ],
   "source": [
    "import numpy as np \n",
    "a=np.array([10,44,55,96])\n",
    "b=np.array([20,30,45,80])\n",
    "print(\"multiple operation\")\n",
    "c=np.dot(a,b)\n",
    "print(c)"
   ]
  },
  {
   "cell_type": "code",
   "execution_count": 31,
   "id": "5c8f6eb1-a172-4eb1-82c5-293c4d8e4395",
   "metadata": {},
   "outputs": [
    {
     "name": "stdout",
     "output_type": "stream",
     "text": [
      "dived operation\n",
      "[0.5        1.46666667 1.22222222 1.2       ]\n"
     ]
    }
   ],
   "source": [
    "import numpy as np \n",
    "a=np.array([10,44,55,96])\n",
    "b=np.array([20,30,45,80])\n",
    "print(\"dived operation\")\n",
    "c=np.divide(a,b)\n",
    "print(c)"
   ]
  },
  {
   "cell_type": "code",
   "execution_count": 33,
   "id": "91e51e15-39c2-4497-8abd-3a493072e9f9",
   "metadata": {},
   "outputs": [
    {
     "name": "stdout",
     "output_type": "stream",
     "text": [
      "dived operation\n",
      "[10 14 10 16]\n"
     ]
    }
   ],
   "source": [
    "import numpy as np \n",
    "a=np.array([10,44,55,96])\n",
    "b=np.array([20,30,45,80])\n",
    "print(\"mode operation\")\n",
    "c=np.mod(a,b)\n",
    "print(c)"
   ]
  },
  {
   "cell_type": "code",
   "execution_count": 35,
   "id": "695fb7ca-0357-4927-af55-0aa3ca65c979",
   "metadata": {},
   "outputs": [
    {
     "name": "stdout",
     "output_type": "stream",
     "text": [
      "power operation\n",
      "[1661992960          0  571719255          0]\n"
     ]
    }
   ],
   "source": [
    "import numpy as np \n",
    "a=np.array([10,44,55,96])\n",
    "b=np.array([20,30,45,80])\n",
    "print(\"power operation\")\n",
    "c=np.power(a,b)\n",
    "print(c)"
   ]
  },
  {
   "cell_type": "code",
   "execution_count": 39,
   "id": "21bdab0a-2e57-4d58-887b-2da050a5d073",
   "metadata": {},
   "outputs": [
    {
     "name": "stdout",
     "output_type": "stream",
     "text": [
      "dividemod operation\n",
      "(array([0, 1, 1, 1]), array([10, 14, 10, 16]))\n"
     ]
    }
   ],
   "source": [
    "import numpy as np \n",
    "a=np.array([10,44,55,96])\n",
    "b=np.array([20,30,45,80])\n",
    "print(\"dividemod operation\")#---> it gives the floor div and mod\n",
    "c=np.divmod(a,b)\n",
    "print(c)"
   ]
  },
  {
   "cell_type": "code",
   "execution_count": 43,
   "id": "e0980a3c-0fc0-4374-8dd7-01551f8cdbfa",
   "metadata": {},
   "outputs": [
    {
     "name": "stdout",
     "output_type": "stream",
     "text": [
      "comtent of a\n",
      "perfroming the abolute value\n",
      "[10  2  4 16 23]\n"
     ]
    }
   ],
   "source": [
    "import numpy as np\n",
    "a=np.array([10,-2,-4,-16,-23])\n",
    "print(\"comtent of a\")\n",
    "print(\"perfroming the abolute value\")\n",
    "b=np.absolute(a)#----> it convert the the neg to posti\n",
    "print(b)"
   ]
  },
  {
   "cell_type": "code",
   "execution_count": null,
   "id": "2ea4d59f-a7b8-45c7-b0bf-59ef40eff78e",
   "metadata": {},
   "outputs": [],
   "source": []
  }
 ],
 "metadata": {
  "kernelspec": {
   "display_name": "Python [conda env:base] *",
   "language": "python",
   "name": "conda-base-py"
  },
  "language_info": {
   "codemirror_mode": {
    "name": "ipython",
    "version": 3
   },
   "file_extension": ".py",
   "mimetype": "text/x-python",
   "name": "python",
   "nbconvert_exporter": "python",
   "pygments_lexer": "ipython3",
   "version": "3.12.7"
  }
 },
 "nbformat": 4,
 "nbformat_minor": 5
}
