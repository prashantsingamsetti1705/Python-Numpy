{
 "cells": [
  {
   "cell_type": "code",
   "execution_count": 3,
   "id": "5a91fc48-c310-4578-a127-bb7261f74e56",
   "metadata": {},
   "outputs": [
    {
     "name": "stdout",
     "output_type": "stream",
     "text": [
      "[20 20 70 90 56 78]\n",
      "sorting the 1-d array\n",
      "[20 20 56 70 78 90]\n"
     ]
    }
   ],
   "source": [
    "#sort() here we are sorting the the nd array\n",
    "#here axis=0 col,axis=1 row\n",
    "import numpy as np\n",
    "a=np.array([20,20,70,90,56,78])\n",
    "print(a)\n",
    "print(\"sorting the 1-d array\")\n",
    "a=np.sort(a)\n",
    "print(a)"
   ]
  },
  {
   "cell_type": "code",
   "execution_count": 5,
   "id": "8ec8733c-6ea7-4cdd-bd89-4a262395e69e",
   "metadata": {},
   "outputs": [
    {
     "name": "stdout",
     "output_type": "stream",
     "text": [
      "sorting to revserse order\n",
      "[90 78 70 56 20 20]\n"
     ]
    }
   ],
   "source": [
    "# now weare sorting into reverse order \n",
    "print(\"sorting to revserse order\")\n",
    "a=np.sort(a)[::-1]\n",
    "print(a)"
   ]
  },
  {
   "cell_type": "code",
   "execution_count": 11,
   "id": "70c68596-514f-4608-bae3-6d11b3843b78",
   "metadata": {},
   "outputs": [
    {
     "name": "stdout",
     "output_type": "stream",
     "text": [
      "[90 78 70 56 20 20]\n",
      "max value of the array\n",
      "maxvalue= 90\n",
      "min value of the array\n",
      "minvalue= 20\n"
     ]
    }
   ],
   "source": [
    "#now we are finding the largest muber of 1-d array\n",
    "print(a)\n",
    "print(\"max value of the array\")\n",
    "b=a[0]\n",
    "print(\"maxvalue=\",b)\n",
    "print(\"min value of the array\")\n",
    "a=np.sort(a)\n",
    "b=a[0]\n",
    "print(\"minvalue=\",b)"
   ]
  },
  {
   "cell_type": "code",
   "execution_count": 17,
   "id": "d876f916-9f11-4a73-911f-165a828693e0",
   "metadata": {},
   "outputs": [
    {
     "name": "stdout",
     "output_type": "stream",
     "text": [
      "matrix before sorting\n",
      "[[10 55 88]\n",
      " [12 13 45]]\n",
      "matrix after sorting\n",
      "[[10 13 45]\n",
      " [12 55 88]]\n"
     ]
    }
   ],
   "source": [
    "#now we are sorting the the 2d matrix col\n",
    "import numpy as np\n",
    "a=np.array([10,55,88,12,13,45]).reshape(2,3)\n",
    "print(\"matrix before sorting\")\n",
    "print(a)\n",
    "print(\"matrix after sorting\")\n",
    "a=np.sort(a,axis=0)\n",
    "print(a)"
   ]
  },
  {
   "cell_type": "code",
   "execution_count": 19,
   "id": "dc10ce53-9982-477a-82b7-76fa7e5213a4",
   "metadata": {},
   "outputs": [
    {
     "name": "stdout",
     "output_type": "stream",
     "text": [
      "matrix before sorting\n",
      "[[10 55 88]\n",
      " [12 13 45]]\n",
      "matrix after sorting\n",
      "[[10 55 88]\n",
      " [12 13 45]]\n"
     ]
    }
   ],
   "source": [
    "#now we are sorting the the 2d matrix row \n",
    "import numpy as np\n",
    "a=np.array([10,55,88,12,13,45]).reshape(2,3)\n",
    "print(\"matrix before sorting\")\n",
    "print(a)\n",
    "print(\"matrix after sorting\")\n",
    "a=np.sort(a,axis=1)\n",
    "print(a)"
   ]
  },
  {
   "cell_type": "code",
   "execution_count": null,
   "id": "2276495e-3965-4b80-8dc8-57886ce2a80c",
   "metadata": {},
   "outputs": [],
   "source": []
  }
 ],
 "metadata": {
  "kernelspec": {
   "display_name": "Python [conda env:base] *",
   "language": "python",
   "name": "conda-base-py"
  },
  "language_info": {
   "codemirror_mode": {
    "name": "ipython",
    "version": 3
   },
   "file_extension": ".py",
   "mimetype": "text/x-python",
   "name": "python",
   "nbconvert_exporter": "python",
   "pygments_lexer": "ipython3",
   "version": "3.12.7"
  }
 },
 "nbformat": 4,
 "nbformat_minor": 5
}
