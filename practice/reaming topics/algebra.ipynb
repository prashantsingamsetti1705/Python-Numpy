{
 "cells": [
  {
   "cell_type": "code",
   "execution_count": 1,
   "id": "12f1e0a2-3a34-4514-a89d-2e99cb071118",
   "metadata": {},
   "outputs": [],
   "source": [
    "#dot (),inner(),outer(),det(),solve(),inv(),trance()\n"
   ]
  },
  {
   "cell_type": "code",
   "execution_count": 7,
   "id": "6ffce611-55b3-4f9d-9e5b-7a09d67fc71f",
   "metadata": {},
   "outputs": [
    {
     "name": "stdout",
     "output_type": "stream",
     "text": [
      "content of a\n",
      "[[10 20]\n",
      " [20 30]]\n"
     ]
    }
   ],
   "source": [
    "import numpy as np\n",
    "a=np.array([[10,20],[20,30]])\n",
    "print(\"content of a\")\n",
    "print(a)"
   ]
  },
  {
   "cell_type": "code",
   "execution_count": 11,
   "id": "f1b5ef40-6895-4891-9f6c-2338ee0ec2a3",
   "metadata": {},
   "outputs": [
    {
     "name": "stdout",
     "output_type": "stream",
     "text": [
      "dot\n",
      "9900\n"
     ]
    }
   ],
   "source": [
    "#now we are per forming the dot prodect to it\n",
    "a1=np.array([10,20,40,20,30,40,50])\n",
    "a2=np.array([10,20,30,40,50,60,70])\n",
    "print(\"dot\")\n",
    "b=np.dot(a1,a2)\n",
    "print(b)"
   ]
  },
  {
   "cell_type": "code",
   "execution_count": 13,
   "id": "76690efd-fe55-4a9c-b463-f27f30fe8b9f",
   "metadata": {},
   "outputs": [
    {
     "name": "stdout",
     "output_type": "stream",
     "text": [
      "inner operation\n",
      "--------------------------------------------------\n",
      "3000\n"
     ]
    }
   ],
   "source": [
    "#now we are performin the inner operation \n",
    "a1=np.array([10,20,30,40])\n",
    "a2=np.array([10,20,30,40])\n",
    "print(\"inner operation\")\n",
    "print(\"-\"*50)\n",
    "b=np.inner(a1,a2)\n",
    "print(b)"
   ]
  },
  {
   "cell_type": "code",
   "execution_count": 37,
   "id": "c50403a8-18a6-4641-9213-fcd3a866d2ae",
   "metadata": {},
   "outputs": [
    {
     "name": "stdout",
     "output_type": "stream",
     "text": [
      "matrix-a\n",
      "[[10 21 23]\n",
      " [44 45 96]]\n",
      "matrix-b\n",
      "[[10 21 23]\n",
      " [44 45 96]]\n",
      "inner operation\n",
      "[[ 1070  3593]\n",
      " [ 3593 13177]]\n"
     ]
    }
   ],
   "source": [
    "#now we are per forming the inner operation to 2d array\n",
    "a=np.array([10,21,23,44,45,96]).reshape(2,3)\n",
    "print(\"matrix-a\")\n",
    "print(a)\n",
    "b=np.array([10,21,23,44,45,96]).reshape(2,3)\n",
    "print(\"matrix-b\")\n",
    "print(b)\n",
    "print(\"inner operation\")\n",
    "c=np.inner(a,b)\n",
    "print(c)"
   ]
  },
  {
   "cell_type": "code",
   "execution_count": 23,
   "id": "6ff5a807-a522-4a8f-ad92-b5e5c5d1fd95",
   "metadata": {},
   "outputs": [
    {
     "name": "stdout",
     "output_type": "stream",
     "text": [
      "outer operation\n",
      "[[ 100  200  300  400  500]\n",
      " [ 200  400  600  800 1000]\n",
      " [ 300  600  900 1200 1500]\n",
      " [ 400  800 1200 1600 2000]\n",
      " [ 500 1000 1500 2000 2500]]\n"
     ]
    }
   ],
   "source": [
    "#now we are per for min the outer operation to 1d array\n",
    "a=np.array([10,20,30,40,50])\n",
    "b=np.array([10,20,30,40,50])\n",
    "print(\"outer operation\")\n",
    "c=np.outer(a,b)\n",
    "print(c)"
   ]
  },
  {
   "cell_type": "code",
   "execution_count": null,
   "id": "ef043941-52c1-48b9-9a52-a5840e4ddcae",
   "metadata": {},
   "outputs": [],
   "source": [
    "#now we are performin the det operation the 2d array"
   ]
  },
  {
   "cell_type": "code",
   "execution_count": 39,
   "id": "e62c7097-0cb9-4269-a7b5-00efe9fa06ef",
   "metadata": {},
   "outputs": [
    {
     "name": "stdout",
     "output_type": "stream",
     "text": [
      "[[40 50]\n",
      " [60 70]]\n",
      "per formin the det operation ot it\n",
      "-200.0000000000001\n"
     ]
    }
   ],
   "source": [
    "import numpy as np\n",
    "a=np.array([40,50,60,70]).reshape(2,2)\n",
    "print(a)\n",
    "print(\"per formin the det operation ot it\")\n",
    "b=np.linalg.det(a)\n",
    "print(b)"
   ]
  },
  {
   "cell_type": "code",
   "execution_count": 47,
   "id": "3ab92d92-ec87-422d-b0ad-c20d9e056936",
   "metadata": {},
   "outputs": [
    {
     "name": "stdout",
     "output_type": "stream",
     "text": [
      "[[40 50 60]\n",
      " [70 80 90]\n",
      " [50 60 90]]\n",
      "per formin the det operation ot it\n",
      "thr det of 2d matrix is---> -6000.000000000006\n"
     ]
    }
   ],
   "source": [
    "import numpy as np\n",
    "a=np.array([40,50,60,70,80,90,50,60,90]).reshape(3,3)\n",
    "print(a)\n",
    "print(\"per formin the det operation ot it\")\n",
    "b=np.linalg.det(a)\n",
    "print(\"thr det of 2d matrix is--->\",b)"
   ]
  },
  {
   "cell_type": "code",
   "execution_count": 57,
   "id": "954bf5df-9c5e-411e-8436-66d379aff252",
   "metadata": {},
   "outputs": [
    {
     "name": "stdout",
     "output_type": "stream",
     "text": [
      "1-st matrix\n",
      "[[40 50]\n",
      " [60 80]]\n",
      "2-nd matrix\n",
      "[[40 50]\n",
      " [60 80]]\n",
      "performing the solve operation\n",
      "[[ 1.00000000e+00  0.00000000e+00]\n",
      " [-6.66133815e-16  1.00000000e+00]]\n"
     ]
    }
   ],
   "source": [
    "#now we are per formin the solveoperation to the 2d array\n",
    "import numpy as np \n",
    "a1=np.array([40,50,60,80]).reshape(2,2)\n",
    "a2=np.array([40,50,60,80]).reshape(2,2)\n",
    "print(\"1-st matrix\")\n",
    "print(a1)\n",
    "print(\"2-nd matrix\")\n",
    "print(a2)\n",
    "print(\"performing the solve operation\")\n",
    "b=np.linalg.solve(a1,a2)\n",
    "print(b)"
   ]
  },
  {
   "cell_type": "code",
   "execution_count": 59,
   "id": "0fecb8f6-c0af-4efe-b1a0-3beefc0ba74e",
   "metadata": {},
   "outputs": [
    {
     "name": "stdout",
     "output_type": "stream",
     "text": [
      "1-st matrix\n",
      "[[40 50 60]\n",
      " [80 50 60]\n",
      " [60 80 77]]\n",
      "2-nd matrix\n",
      "[[40 50 60]\n",
      " [80 50 60]\n",
      " [60 80 77]]\n",
      "performing the solve operation\n",
      "[[ 1.00000000e+00  8.88178420e-17  0.00000000e+00]\n",
      " [ 0.00000000e+00  1.00000000e+00  0.00000000e+00]\n",
      " [ 0.00000000e+00 -7.45018082e-17  1.00000000e+00]]\n"
     ]
    }
   ],
   "source": [
    "#now we are per formin the solveoperation to the 2d array\n",
    "import numpy as np \n",
    "a1=np.array([40,50,60,80,50,60,60,80,77]).reshape(3,3)\n",
    "a2=np.array([40,50,60,80,50,60,60,80,77]).reshape(3,3)\n",
    "print(\"1-st matrix\")\n",
    "print(a1)\n",
    "print(\"2-nd matrix\")\n",
    "print(a2)\n",
    "print(\"performing the solve operation\")\n",
    "b=np.linalg.solve(a1,a2)\n",
    "print(b)"
   ]
  },
  {
   "cell_type": "code",
   "execution_count": 75,
   "id": "2dbb9a78-3b59-4126-8048-e0a84248f083",
   "metadata": {},
   "outputs": [
    {
     "name": "stdout",
     "output_type": "stream",
     "text": [
      "[[10 20]\n",
      " [30 40]]\n",
      "inveres of the matrix\n",
      "[[-0.2   0.1 ]\n",
      " [ 0.15 -0.05]]\n"
     ]
    }
   ],
   "source": [
    "#now we are per forming the inv() of 2d array\n",
    "import numpy as np\n",
    "a=np.array([10,20,30,40,50,60,11,11,11]).reshape(3,2)\n",
    "print(a)\n",
    "print(\"inveres of the matrix\")\n",
    "b=np.linalg.inv(a)\n",
    "print(a)"
   ]
  },
  {
   "cell_type": "code",
   "execution_count": null,
   "id": "ecbb49a0-b2ad-46de-a963-c6ae62008941",
   "metadata": {},
   "outputs": [],
   "source": []
  }
 ],
 "metadata": {
  "kernelspec": {
   "display_name": "Python [conda env:base] *",
   "language": "python",
   "name": "conda-base-py"
  },
  "language_info": {
   "codemirror_mode": {
    "name": "ipython",
    "version": 3
   },
   "file_extension": ".py",
   "mimetype": "text/x-python",
   "name": "python",
   "nbconvert_exporter": "python",
   "pygments_lexer": "ipython3",
   "version": "3.12.7"
  }
 },
 "nbformat": 4,
 "nbformat_minor": 5
}
