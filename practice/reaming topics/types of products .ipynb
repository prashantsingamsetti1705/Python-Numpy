{
 "cells": [
  {
   "cell_type": "code",
   "execution_count": 11,
   "id": "e72b7401-b964-47e5-89b1-eaa72ecfd903",
   "metadata": {},
   "outputs": [
    {
     "name": "stdout",
     "output_type": "stream",
     "text": [
      "content of a\n",
      "[10 20 40 55]\n",
      "product of a\n",
      "440000\n",
      "cumlative product of a\n",
      "[440000]\n"
     ]
    }
   ],
   "source": [
    "#there are different types of the porduct in nd array\n",
    "#pord(),cumpord()--->axis=0 col,axis=1--->row\n",
    "import numpy as np\n",
    "a=np.array([10,20,40,55])\n",
    "print(\"content of a\")\n",
    "print(a)\n",
    "print(\"product of a\")\n",
    "a=np.prod(a)\n",
    "print(a)\n",
    "print(\"cumlative product of a\")\n",
    "b=np.cumprod(b)\n",
    "print(b)"
   ]
  },
  {
   "cell_type": "code",
   "execution_count": 24,
   "id": "7fc1a575-a1d6-407c-ba15-70c3f341bcc6",
   "metadata": {},
   "outputs": [
    {
     "name": "stdout",
     "output_type": "stream",
     "text": [
      "[ 100  400  900 1600 2500]\n",
      "[12000000 12000000]\n"
     ]
    }
   ],
   "source": [
    "#some more example \n",
    "a=np.array([10,20,30,40,50])\n",
    "b=np.array([10,20,30,40,50])\n",
    "c=np.prod([a,b],axis=0)\n",
    "print(c)\n",
    "c=np.prod([a,b],axis=1)\n",
    "print(c)"
   ]
  },
  {
   "cell_type": "code",
   "execution_count": null,
   "id": "62cc7123-1e0e-49cd-b182-6011293f11ea",
   "metadata": {},
   "outputs": [],
   "source": [
    "#now we are performig the 2d array of product"
   ]
  },
  {
   "cell_type": "code",
   "execution_count": 46,
   "id": "aed372e6-89a0-44a8-ae94-4fceeb70dad4",
   "metadata": {},
   "outputs": [
    {
     "name": "stdout",
     "output_type": "stream",
     "text": [
      "[[19 11 11]\n",
      " [13 17 17]]\n",
      "product of a\n",
      "[247 187 187]\n",
      "row prod\n",
      "[8637343]\n"
     ]
    }
   ],
   "source": [
    "import numpy as np\n",
    "a=np.random.randint(10,20,size=(2,3))\n",
    "print(a)\n",
    "print(\"product of a\")\n",
    "a=np.prod(a,axis=0)\n",
    "print(a)\n",
    "print(\"row prod\")\n",
    "b=np.prod([a],axis=1)\n",
    "print(b)"
   ]
  },
  {
   "cell_type": "code",
   "execution_count": 50,
   "id": "5275dc2f-2a73-42d7-a325-bfdcb9c150dc",
   "metadata": {},
   "outputs": [
    {
     "name": "stdout",
     "output_type": "stream",
     "text": [
      "[[11 14 13]\n",
      " [11 15 18]]\n",
      "cumproduct of a\n",
      "[[ 11  14  13]\n",
      " [121 210 234]]\n",
      "row prod\n",
      "[[[  11   14   13]\n",
      "  [1331 2940 3042]]]\n"
     ]
    }
   ],
   "source": [
    "import numpy as np\n",
    "a=np.random.randint(10,20,size=(2,3))\n",
    "print(a)\n",
    "print(\"cumproduct of a\")\n",
    "a=np.cumprod(a,axis=0)\n",
    "print(a)\n",
    "print(\"row prod\")\n",
    "b=np.cumprod([a],axis=1)\n",
    "print(b)"
   ]
  },
  {
   "cell_type": "code",
   "execution_count": null,
   "id": "c9371016-8cf4-4133-8cf6-a0d3964f1712",
   "metadata": {},
   "outputs": [],
   "source": []
  },
  {
   "cell_type": "code",
   "execution_count": null,
   "id": "7063a30b-db58-4ce1-9716-bb8c632444ea",
   "metadata": {},
   "outputs": [],
   "source": []
  }
 ],
 "metadata": {
  "kernelspec": {
   "display_name": "Python [conda env:base] *",
   "language": "python",
   "name": "conda-base-py"
  },
  "language_info": {
   "codemirror_mode": {
    "name": "ipython",
    "version": 3
   },
   "file_extension": ".py",
   "mimetype": "text/x-python",
   "name": "python",
   "nbconvert_exporter": "python",
   "pygments_lexer": "ipython3",
   "version": "3.12.7"
  }
 },
 "nbformat": 4,
 "nbformat_minor": 5
}
