{
 "cells": [
  {
   "cell_type": "code",
   "execution_count": 1,
   "id": "7bd94394-cbd5-4101-9242-e39c3886ea9b",
   "metadata": {},
   "outputs": [
    {
     "name": "stdout",
     "output_type": "stream",
     "text": [
      "1-d array\n",
      "sum operation\n",
      "220\n"
     ]
    }
   ],
   "source": [
    "# in numpy there are diffrent types of the summ there are sum(),cumsum\n",
    "import numpy as np\n",
    "a=np.array([10,20,30,40,50,70])\n",
    "print(\"1-d array\")\n",
    "print(\"sum operation\")\n",
    "a=np.sum(a)\n",
    "print(a)"
   ]
  },
  {
   "cell_type": "code",
   "execution_count": 3,
   "id": "96f62adb-80fd-422e-bfca-bda582e1e2f0",
   "metadata": {},
   "outputs": [
    {
     "name": "stdout",
     "output_type": "stream",
     "text": [
      "1-d array\n",
      "sum operation\n",
      "[ 10  30  60 100 150 220]\n"
     ]
    }
   ],
   "source": [
    "import numpy as np\n",
    "a=np.array([10,20,30,40,50,70])\n",
    "print(\"1-d array\")\n",
    "print(\"cum-sum operation\")\n",
    "a=np.cumsum(a)\n",
    "print(a)"
   ]
  },
  {
   "cell_type": "code",
   "execution_count": 9,
   "id": "c4bd2256-fefb-47ca-8bf1-0fe433a02594",
   "metadata": {},
   "outputs": [
    {
     "name": "stdout",
     "output_type": "stream",
     "text": [
      "content of a\n",
      "[[10 20 30]\n",
      " [88 36 14]]\n",
      "sum of the ad array\n",
      "[98 56 44]\n"
     ]
    }
   ],
   "source": [
    "#now we are performing the sum,cum on 2-d array here axis=0---col  we are performing the sum of col \n",
    "a=np.array([10,20,30,88,36,14]).reshape(2,3)\n",
    "print(\"content of a\")\n",
    "print(a)\n",
    "print(\"sum of the ad array\")\n",
    "a=np.sum(a,axis=0)\n",
    "print(a)"
   ]
  },
  {
   "cell_type": "code",
   "execution_count": 11,
   "id": "c2e6d93d-9566-4c72-89f9-41980ea1adab",
   "metadata": {},
   "outputs": [
    {
     "name": "stdout",
     "output_type": "stream",
     "text": [
      "content of a\n",
      "[[10 20 30]\n",
      " [88 36 14]]\n",
      "sum of the ad array\n",
      "[ 60 138]\n"
     ]
    }
   ],
   "source": [
    "#now we are performing the sum,cum on 2-d array here axis=1---row  we are performing the sum of row\n",
    "a=np.array([10,20,30,88,36,14]).reshape(2,3)\n",
    "print(\"content of a\")\n",
    "print(a)\n",
    "print(\"sum of the ad array\")\n",
    "a=np.sum(a,axis=1)\n",
    "print(a)"
   ]
  },
  {
   "cell_type": "code",
   "execution_count": 17,
   "id": "e755aa94-b313-4676-8f06-b6470dcb7f7e",
   "metadata": {},
   "outputs": [
    {
     "name": "stdout",
     "output_type": "stream",
     "text": [
      "content of a\n",
      "[[10 20 30]\n",
      " [88 36 14]]\n",
      "cumsum of the ad array\n",
      "[[10 20 30]\n",
      " [98 56 44]]\n"
     ]
    }
   ],
   "source": [
    "#now we are performing the sum,cum on 2-d array here axis=0---col  we are performing the cumsum of col \n",
    "a=np.array([10,20,30,88,36,14]).reshape(2,3)\n",
    "print(\"content of a\")\n",
    "print(a)\n",
    "print(\"cumsum of the ad array\")\n",
    "a=np.cumsum(a,axis=0)\n",
    "print(a)"
   ]
  },
  {
   "cell_type": "code",
   "execution_count": 19,
   "id": "aac1f1cc-f30b-4653-b2c2-e3dc9247cbaa",
   "metadata": {},
   "outputs": [
    {
     "name": "stdout",
     "output_type": "stream",
     "text": [
      "content of a\n",
      "[[10 20 30]\n",
      " [88 36 14]]\n",
      "cumsum of the ad array\n",
      "[[ 10  30  60]\n",
      " [ 88 124 138]]\n"
     ]
    }
   ],
   "source": [
    "#now we are performing the sum,cum on 2-d array here axis=1---row  we are performing the cumsum of row\n",
    "a=np.array([10,20,30,88,36,14]).reshape(2,3)\n",
    "print(\"content of a\")\n",
    "print(a)\n",
    "print(\"cumsum of the ad array\")\n",
    "a=np.cumsum(a,axis=1)\n",
    "print(a)"
   ]
  },
  {
   "cell_type": "code",
   "execution_count": null,
   "id": "51830a86-a62b-46de-b2a8-51286dae3243",
   "metadata": {},
   "outputs": [],
   "source": []
  }
 ],
 "metadata": {
  "kernelspec": {
   "display_name": "Python [conda env:base] *",
   "language": "python",
   "name": "conda-base-py"
  },
  "language_info": {
   "codemirror_mode": {
    "name": "ipython",
    "version": 3
   },
   "file_extension": ".py",
   "mimetype": "text/x-python",
   "name": "python",
   "nbconvert_exporter": "python",
   "pygments_lexer": "ipython3",
   "version": "3.12.7"
  }
 },
 "nbformat": 4,
 "nbformat_minor": 5
}
