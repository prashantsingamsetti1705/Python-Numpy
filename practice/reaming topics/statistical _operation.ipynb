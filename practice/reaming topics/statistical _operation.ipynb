{
 "cells": [
  {
   "cell_type": "code",
   "execution_count": 1,
   "id": "b5f1f50f-8aea-482e-be6b-f36fef8c0ed1",
   "metadata": {},
   "outputs": [],
   "source": [
    "#staticial opartion in numpy there are \n",
    "#amax(),amin(),mean()"
   ]
  },
  {
   "cell_type": "code",
   "execution_count": 3,
   "id": "9d49dd55-00b7-4fbb-a7eb-88ed0d7b9853",
   "metadata": {},
   "outputs": [
    {
     "name": "stdout",
     "output_type": "stream",
     "text": [
      "content of a\n",
      "[11 17 22 27 10 25 28 26 27 13 10 22 25 12 18]\n"
     ]
    }
   ],
   "source": [
    "import numpy as np\n",
    "a=np.random.randint(10,30,size=15)\n",
    "print(\"content of a\")\n",
    "print(a)"
   ]
  },
  {
   "cell_type": "code",
   "execution_count": 5,
   "id": "eea0ad73-fb56-40cb-bda6-13f104379441",
   "metadata": {},
   "outputs": [
    {
     "name": "stdout",
     "output_type": "stream",
     "text": [
      "max value= 28\n",
      "min value= 10\n"
     ]
    }
   ],
   "source": [
    "#find the max,min\n",
    "maxv=np.amax(a)\n",
    "minv=np.amin(a)\n",
    "print(\"max value=\",maxv)\n",
    "print(\"min value=\",minv)"
   ]
  },
  {
   "cell_type": "code",
   "execution_count": 21,
   "id": "a8a2e66c-5b1d-4a23-b1d5-87ad33af016f",
   "metadata": {},
   "outputs": [
    {
     "name": "stdout",
     "output_type": "stream",
     "text": [
      "[[10 20 30 40]\n",
      " [60 70 80 50]]\n",
      "dim of a= 2\n",
      "maximum of a= 80\n",
      "minimum of a= 10\n"
     ]
    }
   ],
   "source": [
    "a=np.array([10,20,30,40,60,70,80,50]).reshape(2,4)\n",
    "print(a)\n",
    "print(\"dim of a=\",a.ndim)\n",
    "print(\"maximum of a=\",np.max(a))\n",
    "print(\"minimum of a=\",np.min(a))"
   ]
  },
  {
   "cell_type": "code",
   "execution_count": 23,
   "id": "a7a47fab-9fad-489a-ade4-ef9801bdbddb",
   "metadata": {},
   "outputs": [
    {
     "name": "stdout",
     "output_type": "stream",
     "text": [
      "--------------------------------------\n",
      "Content of a\n",
      "[[16 23 22 22]\n",
      " [22 26 15 12]\n",
      " [26 29 19 11]\n",
      " [29 23 11 11]]\n",
      "--------------------------------------\n",
      "Max Value= 29\n",
      "Min Value= 11\n",
      "--------------------------------------\n"
     ]
    }
   ],
   "source": [
    "#Find Max and min Values from ndarray--2 Dim\n",
    "a=np.random.randint(10,30,size=(4,4))\n",
    "print(\"--------------------------------------\")\n",
    "print(\"Content of a\")\n",
    "print(a)\n",
    "print(\"--------------------------------------\")\n",
    "maxv=np.amax(a)\n",
    "minv=np.amin(a)\n",
    "print(\"Max Value=\",maxv)\n",
    "print(\"Min Value=\",minv)\n",
    "print(\"--------------------------------------\")"
   ]
  },
  {
   "cell_type": "code",
   "execution_count": 27,
   "id": "57724e5c-912f-4fa6-9683-74885d48c440",
   "metadata": {},
   "outputs": [
    {
     "name": "stdout",
     "output_type": "stream",
     "text": [
      "given matrix\n",
      "[[16 23 22 22]\n",
      " [22 26 15 12]\n",
      " [26 29 19 11]\n",
      " [29 23 11 11]]\n",
      "---------------------------\n",
      "max value= 29\n",
      "min value= 11\n",
      "----------------------------\n",
      "col max= [29 29 22 22]\n",
      "row max= [23 26 29 29]\n",
      "Column Min= [16 23 11 11]\n",
      "Row Min= [16 12 11 11]\n",
      "--------------------------------------\n"
     ]
    }
   ],
   "source": [
    "#now req is colwise and row wise \n",
    "#here if axis=0 then it refers columns\n",
    "#here if axis=1 then it refers columns\n",
    "maxv=np.amax(a)\n",
    "minv=np.amin(a)\n",
    "colmax=np.amax(a,axis=0)\n",
    "rowmax=np.amax(a,axis=1)\n",
    "colmin=np.amin(a,axis=0)\n",
    "rowmin=np.amin(a,axis=1)\n",
    "print(\"given matrix\")\n",
    "print(a)\n",
    "print(\"---------------------------\")\n",
    "print(\"max value=\",maxv)\n",
    "print(\"min value=\",minv)\n",
    "print(\"----------------------------\")\n",
    "print(\"col max=\",colmax)\n",
    "print(\"row max=\",rowmax)\n",
    "print(\"Column Min=\",colmin)\n",
    "print(\"Row Min=\",rowmin)\n",
    "print(\"--------------------------------------\")"
   ]
  },
  {
   "cell_type": "code",
   "execution_count": 29,
   "id": "cde9471b-7348-4f16-a79a-5a56591034a9",
   "metadata": {},
   "outputs": [
    {
     "name": "stdout",
     "output_type": "stream",
     "text": [
      "mean([3 1 2 4])=2.5\n"
     ]
    }
   ],
   "source": [
    "#Find the mean on ndarray by using mean()--1-Dim\n",
    "a=np.array([3,1,2,4])\n",
    "m=np.mean(a)\n",
    "print(\"mean({})={}\".format(a,m))"
   ]
  },
  {
   "cell_type": "code",
   "execution_count": 37,
   "id": "0a75897b-256c-440b-b7f4-036c50ce1f32",
   "metadata": {},
   "outputs": [
    {
     "name": "stdout",
     "output_type": "stream",
     "text": [
      "sum= 10\n",
      "mean([3 1 2 4])=2.5\n"
     ]
    }
   ],
   "source": [
    "#our won mean (average)\n",
    "s=0\n",
    "for v in a:\n",
    "    s=s+v\n",
    "print(\"sum=\",s)\n",
    "print(\"mean({})={}\".format(a,s/len(a)))"
   ]
  },
  {
   "cell_type": "code",
   "execution_count": 41,
   "id": "3e519fbf-149a-4ce0-9a9c-4270eb04fddc",
   "metadata": {},
   "outputs": [
    {
     "name": "stdout",
     "output_type": "stream",
     "text": [
      "---------------------\n",
      "matrix -A\n",
      "[[3 1]\n",
      " [2 4]]\n",
      "-------------\n",
      "mean/n[[3 1]\n",
      " [2 4]]=2.5\n",
      "col mean/n ([[3 1]\n",
      " [2 4]])=[2.5 2.5]\n",
      "row mean/n ([[3 1]\n",
      " [2 4]])=[2. 3.]\n"
     ]
    }
   ],
   "source": [
    "#find the mean for col and row\n",
    "a=np.array([3,1,2,4]).reshape(2,2)\n",
    "print(\"---------------------\")\n",
    "print(\"matrix -A\")\n",
    "print(a)\n",
    "print(\"-------------\")\n",
    "m=np.mean(a)\n",
    "cm=np.mean(a,axis=0)\n",
    "rm=np.mean(a,axis=1)\n",
    "print(\"mean/n{}={}\".format(a,m))\n",
    "print(\"col mean/n ({})={}\".format(a,cm))\n",
    "print(\"row mean/n ({})={}\".format(a,rm))"
   ]
  },
  {
   "cell_type": "code",
   "execution_count": 57,
   "id": "676bb08b-ef4c-47d5-be14-df708247834c",
   "metadata": {},
   "outputs": [
    {
     "name": "stdout",
     "output_type": "stream",
     "text": [
      "mean of a matrix \n",
      "[[43 43 17 22]\n",
      " [24 27 15 33]\n",
      " [32 31 40 16]\n",
      " [34 27 15 42]] ------->the amean of the matrix 28.8125\n",
      "mean of col\n",
      "the mean of cm [33.25 32.   21.75 28.25]\n",
      "mean of row\n",
      "the mean of cm [31.25 24.75 29.75 29.5 ]\n"
     ]
    }
   ],
   "source": [
    "a=np.random.randint(10,44,size=(4,4))\n",
    "print(\"mean of a matrix \")\n",
    "print(a,\"------->the amean of the matrix\",np.mean(a))\n",
    "print(\"mean of col\")\n",
    "cm=np.mean(a,axis=0)\n",
    "print(\"the mean of cm\",cm)\n",
    "print(\"mean of row\")\n",
    "rm=np.mean(a,axis=1)\n",
    "print(\"the mean of cm\",rm)"
   ]
  },
  {
   "cell_type": "code",
   "execution_count": 59,
   "id": "27951ec1-9fab-41d9-b11e-6bfaf075ba6c",
   "metadata": {},
   "outputs": [
    {
     "name": "stdout",
     "output_type": "stream",
     "text": [
      "----------------------------------\n",
      "Content of a\n",
      "[10  2 14  3 18 20  5]\n",
      "----------------------------------\n",
      "Median([10  2 14  3 18 20  5])=10.0\n",
      "----------------------------------\n"
     ]
    }
   ],
   "source": [
    "#Find the median of ndarray--1-Dim with ODD Number of Elements\n",
    "a=np.array([10,2,14,3,18,20,5])\n",
    "print(\"----------------------------------\")\n",
    "print(\"Content of a\")\n",
    "print(a)\n",
    "print(\"----------------------------------\")\n",
    "m=np.median(a)\n",
    "print(\"Median({})={}\".format(a,m))\n",
    "print(\"----------------------------------\")"
   ]
  },
  {
   "cell_type": "code",
   "execution_count": 61,
   "id": "c8c85a9e-f01c-4f48-a73e-73a6eb8a244e",
   "metadata": {},
   "outputs": [
    {
     "name": "stdout",
     "output_type": "stream",
     "text": [
      "----------------------------------\n",
      "Content of a\n",
      "[10  2 14  3 18 20  5  6]\n",
      "----------------------------------\n",
      "Median([10  2 14  3 18 20  5  6])=8.0\n",
      "----------------------------------\n"
     ]
    }
   ],
   "source": [
    "#Find the median of ndarray--1-Dim with Even Number of Elements\n",
    "a=np.array([10,2,14,3,18,20,5,6])\n",
    "print(\"----------------------------------\")\n",
    "print(\"Content of a\")\n",
    "print(a)\n",
    "print(\"----------------------------------\")\n",
    "m=np.median(a)\n",
    "print(\"Median({})={}\".format(a,m))\n",
    "print(\"----------------------------------\")"
   ]
  },
  {
   "cell_type": "code",
   "execution_count": 67,
   "id": "a83fd8bf-8331-4dc0-b61e-a5e48c0ad1fa",
   "metadata": {},
   "outputs": [
    {
     "name": "stdout",
     "output_type": "stream",
     "text": [
      "[[[19 11 15 19]\n",
      "  [19 10 15 13]\n",
      "  [11 11 18 11]\n",
      "  [10 12 11 12]]\n",
      "\n",
      " [[10 10 19 13]\n",
      "  [16 16 13 11]\n",
      "  [19 15 17 14]\n",
      "  [18 10 18 18]]]\n",
      "median\n",
      "col meadian/n([[[19 11 15 19]\n",
      "  [19 10 15 13]\n",
      "  [11 11 18 11]\n",
      "  [10 12 11 12]]\n",
      "\n",
      " [[10 10 19 13]\n",
      "  [16 16 13 11]\n",
      "  [19 15 17 14]\n",
      "  [18 10 18 18]]])=[[14.5 10.5 17.  16. ]\n",
      " [17.5 13.  14.  12. ]\n",
      " [15.  13.  17.5 12.5]\n",
      " [14.  11.  14.5 15. ]]\n",
      "row meadian/n([[[19 11 15 19]\n",
      "  [19 10 15 13]\n",
      "  [11 11 18 11]\n",
      "  [10 12 11 12]]\n",
      "\n",
      " [[10 10 19 13]\n",
      "  [16 16 13 11]\n",
      "  [19 15 17 14]\n",
      "  [18 10 18 18]]])=[[15.  11.  15.  12.5]\n",
      " [17.  12.5 17.5 13.5]]\n"
     ]
    }
   ],
   "source": [
    "#find the meadin of ndarray---1d -dim with even number of elements\n",
    "a=np.random.randint(10,20,size=(4,4))\n",
    "print(a)\n",
    "print(\"median\")\n",
    "cm=np.median(a,axis=0)\n",
    "rm=np.median(a,axis=1)\n",
    "print(\"col meadian/n({})={}\".format(a,cm))\n",
    "print(\"row meadian/n({})={}\".format(a,rm))"
   ]
  },
  {
   "cell_type": "code",
   "execution_count": 69,
   "id": "7bf5dff4-b122-4845-b24d-50ba592ec3d4",
   "metadata": {},
   "outputs": [
    {
     "name": "stdout",
     "output_type": "stream",
     "text": [
      "Content of a\n",
      "[3 1 2 4]\n",
      "Variance= 1.25\n"
     ]
    }
   ],
   "source": [
    "#Finding Variance by using var()\n",
    "a=np.array([3,1,2,4])\n",
    "print(\"Content of a\")\n",
    "print(a)\n",
    "v=np.var(a)\n",
    "print(\"Variance=\",v)"
   ]
  },
  {
   "cell_type": "code",
   "execution_count": 71,
   "id": "191a195a-42cf-43d6-8bc7-4b2b08d833db",
   "metadata": {},
   "outputs": [
    {
     "name": "stdout",
     "output_type": "stream",
     "text": [
      "------------------------------------\n",
      "Content of a\n",
      "[[3 1]\n",
      " [2 4]]\n",
      "------------------------------------\n",
      "Variance= 1.25\n",
      "Col Var= [0.25 2.25]\n",
      "Row Var= [1. 1.]\n",
      "------------------------------------\n"
     ]
    }
   ],
   "source": [
    "#Find Col and Row-wise variance\n",
    "a=np.array([3,1,2,4]).reshape(2,2)\n",
    "print(\"------------------------------------\")\n",
    "print(\"Content of a\")\n",
    "print(a)\n",
    "print(\"------------------------------------\")\n",
    "v=np.var(a)\n",
    "print(\"Variance=\",v)\n",
    "cv=np.var(a,axis=0)\n",
    "rv=np.var(a,axis=1)\n",
    "print(\"Col Var=\",cv)\n",
    "print(\"Row Var=\",rv)\n",
    "print(\"------------------------------------\")"
   ]
  },
  {
   "cell_type": "code",
   "execution_count": 74,
   "id": "1653afe5-4eb3-45ab-97c2-512df8808460",
   "metadata": {},
   "outputs": [
    {
     "name": "stdout",
     "output_type": "stream",
     "text": [
      "------------------------------------\n",
      "Content of a\n",
      "[[ 0  1  2]\n",
      " [ 3  4  5]\n",
      " [ 6  7  8]\n",
      " [ 9 10 11]]\n",
      "------------------------------------\n",
      "Variance= 11.916666666666666\n",
      "Col Var= [11.25 11.25 11.25]\n",
      "Row Var= [0.66666667 0.66666667 0.66666667 0.66666667]\n",
      "------------------------------------\n"
     ]
    }
   ],
   "source": [
    "#Find Col and Row-wise variance\n",
    "a=np.arange(4*3).reshape(4,3)\n",
    "print(\"------------------------------------\")\n",
    "print(\"Content of a\")\n",
    "print(a)\n",
    "print(\"------------------------------------\")\n",
    "v=np.var(a)\n",
    "print(\"Variance=\",v)\n",
    "cv=np.var(a,axis=0)\n",
    "rv=np.var(a,axis=1)\n",
    "print(\"Col Var=\",cv)\n",
    "print(\"Row Var=\",rv)\n",
    "print(\"------------------------------------\")"
   ]
  },
  {
   "cell_type": "code",
   "execution_count": null,
   "id": "c15b5138-5332-41f9-94fb-3749d76a065d",
   "metadata": {},
   "outputs": [],
   "source": []
  }
 ],
 "metadata": {
  "kernelspec": {
   "display_name": "Python [conda env:base] *",
   "language": "python",
   "name": "conda-base-py"
  },
  "language_info": {
   "codemirror_mode": {
    "name": "ipython",
    "version": 3
   },
   "file_extension": ".py",
   "mimetype": "text/x-python",
   "name": "python",
   "nbconvert_exporter": "python",
   "pygments_lexer": "ipython3",
   "version": "3.12.7"
  }
 },
 "nbformat": 4,
 "nbformat_minor": 5
}
