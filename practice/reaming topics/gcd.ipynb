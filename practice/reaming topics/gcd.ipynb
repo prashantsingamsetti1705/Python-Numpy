{
 "cells": [
  {
   "cell_type": "code",
   "execution_count": 1,
   "id": "51dfcca1-a031-4a3b-9f8e-9c7333320b5a",
   "metadata": {},
   "outputs": [],
   "source": [
    "#we are doin the gcd is satnd for the Finding GCD (Greatest Common Denominator) here it is two type they are \n",
    "#-->gcd(),gcd.reduce()"
   ]
  },
  {
   "cell_type": "code",
   "execution_count": 3,
   "id": "c618d6da-2e9c-4002-9d46-3f746967db8c",
   "metadata": {},
   "outputs": [
    {
     "name": "stdout",
     "output_type": "stream",
     "text": [
      "10\n"
     ]
    }
   ],
   "source": [
    "import numpy as np \n",
    "a1=40\n",
    "a2=50\n",
    "print(\"performin the the gcd operation)\n",
    "c=np.gcd(a1,a2)\n",
    "print(c)"
   ]
  },
  {
   "cell_type": "code",
   "execution_count": 5,
   "id": "4d77d3a6-31f8-4c09-81ec-7056cbc80dab",
   "metadata": {},
   "outputs": [
    {
     "name": "stdout",
     "output_type": "stream",
     "text": [
      "performin the the gcd operation\n",
      "[10 10  6 40]\n"
     ]
    }
   ],
   "source": [
    "import numpy as np\n",
    "a1=np.array([10,20,30,40])\n",
    "a2=np.array([20,50,66,80])\n",
    "print(\"performin the the gcd operation\")\n",
    "d=np.gcd(a1,a2)\n",
    "print(d)"
   ]
  },
  {
   "cell_type": "code",
   "execution_count": 7,
   "id": "fd98bc02-549d-4821-9dc1-4756d0297dad",
   "metadata": {},
   "outputs": [
    {
     "name": "stdout",
     "output_type": "stream",
     "text": [
      "performin the the gcd operation\n"
     ]
    },
    {
     "ename": "TypeError",
     "evalue": "only integer scalar arrays can be converted to a scalar index",
     "output_type": "error",
     "traceback": [
      "\u001b[1;31m---------------------------------------------------------------------------\u001b[0m",
      "\u001b[1;31mTypeError\u001b[0m                                 Traceback (most recent call last)",
      "Cell \u001b[1;32mIn[7], line 5\u001b[0m\n\u001b[0;32m      3\u001b[0m a2\u001b[38;5;241m=\u001b[39mnp\u001b[38;5;241m.\u001b[39marray([\u001b[38;5;241m20\u001b[39m,\u001b[38;5;241m50\u001b[39m,\u001b[38;5;241m66\u001b[39m,\u001b[38;5;241m80\u001b[39m])\n\u001b[0;32m      4\u001b[0m \u001b[38;5;28mprint\u001b[39m(\u001b[38;5;124m\"\u001b[39m\u001b[38;5;124mperformin the the gcd operation\u001b[39m\u001b[38;5;124m\"\u001b[39m)\n\u001b[1;32m----> 5\u001b[0m d\u001b[38;5;241m=\u001b[39mnp\u001b[38;5;241m.\u001b[39mgcd\u001b[38;5;241m.\u001b[39mreduce(a1,a2)\n\u001b[0;32m      6\u001b[0m \u001b[38;5;28mprint\u001b[39m(d)\n",
      "\u001b[1;31mTypeError\u001b[0m: only integer scalar arrays can be converted to a scalar index"
     ]
    }
   ],
   "source": [
    "import numpy as np\n",
    "a1=np.array([10,20,30,40])\n",
    "a2=np.array([20,50,66,80])\n",
    "print(\"performin the the gcd operation\")\n",
    "d=np.gcd.reduce(a1,a2)#TypeError: only integer scalar arrays can be converted to a scalar index\n",
    "print(d)"
   ]
  },
  {
   "cell_type": "code",
   "execution_count": 9,
   "id": "33daee9d-da04-428f-843c-2b3ac5af9638",
   "metadata": {},
   "outputs": [
    {
     "name": "stdout",
     "output_type": "stream",
     "text": [
      "performin the the gcd operation\n",
      "10\n"
     ]
    }
   ],
   "source": [
    "import numpy as np\n",
    "a1=np.array([10,20,30,40])\n",
    "print(\"performin the the gcd reduce operation\")\n",
    "d=np.gcd.reduce(a1)\n",
    "print(d)"
   ]
  },
  {
   "cell_type": "code",
   "execution_count": null,
   "id": "003d2c22-73b1-45a4-ae4f-c7611675801b",
   "metadata": {},
   "outputs": [],
   "source": []
  }
 ],
 "metadata": {
  "kernelspec": {
   "display_name": "Python [conda env:base] *",
   "language": "python",
   "name": "conda-base-py"
  },
  "language_info": {
   "codemirror_mode": {
    "name": "ipython",
    "version": 3
   },
   "file_extension": ".py",
   "mimetype": "text/x-python",
   "name": "python",
   "nbconvert_exporter": "python",
   "pygments_lexer": "ipython3",
   "version": "3.12.7"
  }
 },
 "nbformat": 4,
 "nbformat_minor": 5
}
