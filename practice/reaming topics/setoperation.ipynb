{
 "cells": [
  {
   "cell_type": "code",
   "execution_count": 1,
   "id": "40bd083b-63dc-4af0-b055-06cbf7c78d64",
   "metadata": {},
   "outputs": [],
   "source": [
    "#the set operation the numpy we are performing the the number of aporcahes of the set operation"
   ]
  },
  {
   "cell_type": "code",
   "execution_count": 3,
   "id": "8333d711-0046-46af-b3ca-182c6b7f1228",
   "metadata": {},
   "outputs": [],
   "source": [
    "#unique(),union1d(),intersectd1(),setdiff1d(),setxor1d()--->this thye perdine function of the set in the numpy"
   ]
  },
  {
   "cell_type": "code",
   "execution_count": 5,
   "id": "d2a7e49f-1242-454f-87a2-9ba241566d89",
   "metadata": {},
   "outputs": [
    {
     "name": "stdout",
     "output_type": "stream",
     "text": [
      "[10 20 30] [20 30 40]\n"
     ]
    }
   ],
   "source": [
    "import numpy as np\n",
    "a=np.array([10,20,30])\n",
    "a2=np.array([20,30,40])\n",
    "print(a,a2)\n",
    "#now we unique "
   ]
  },
  {
   "cell_type": "code",
   "execution_count": 11,
   "id": "9ea3284b-fe22-4da6-80a4-a5248742c476",
   "metadata": {},
   "outputs": [
    {
     "name": "stdout",
     "output_type": "stream",
     "text": [
      "[10 20 30 40]\n"
     ]
    }
   ],
   "source": [
    "c=np.unique([a,a2])\n",
    "print(c)"
   ]
  },
  {
   "cell_type": "code",
   "execution_count": 13,
   "id": "5f7ce144-258f-4f73-8afa-1839eaf382ae",
   "metadata": {},
   "outputs": [
    {
     "name": "stdout",
     "output_type": "stream",
     "text": [
      "[10 20 30 40]\n"
     ]
    }
   ],
   "source": [
    "a=np.array([10,20,30,20,40,30])\n",
    "c=np.unique(a)\n",
    "print(c)"
   ]
  },
  {
   "cell_type": "code",
   "execution_count": 21,
   "id": "33e8cda3-4eae-4eec-9fef-dadf026b8d59",
   "metadata": {},
   "outputs": [
    {
     "name": "stdout",
     "output_type": "stream",
     "text": [
      "[10 20 30] [20 40 50]\n",
      "permoing the union\n",
      "[10 20 30 40 50]\n"
     ]
    }
   ],
   "source": [
    "#now are performin the union operartion--> it will elminate the a number which is repeated more than on time\n",
    "a1=np.array([10,20,30])\n",
    "a2=np.array([20,40,50])\n",
    "print(a1,a2)\n",
    "c=np.union1d(a1,a2)\n",
    "print(\"permoing the union\")\n",
    "print(c)"
   ]
  },
  {
   "cell_type": "code",
   "execution_count": 23,
   "id": "21c996f2-711c-4278-8ce9-914143f41fd3",
   "metadata": {},
   "outputs": [
    {
     "name": "stdout",
     "output_type": "stream",
     "text": [
      "[10 20 30] [20 40 50]\n",
      "[10 30]\n"
     ]
    }
   ],
   "source": [
    "#now are performin the setdiff1d operartion--> it will elminate the common element of a1,a2 --->it will print first set of elements\n",
    "a1=np.array([10,20,30])\n",
    "a2=np.array([20,40,50])\n",
    "print(a1,a2)\n",
    "c=np.setdiff1d(a1,a2)\n",
    "print(c)"
   ]
  },
  {
   "cell_type": "code",
   "execution_count": 25,
   "id": "48e4fbdd-6c39-44c4-abc9-d7782af2d5a8",
   "metadata": {},
   "outputs": [
    {
     "name": "stdout",
     "output_type": "stream",
     "text": [
      "[10 20 30] [20 40 50]\n",
      "[20]\n"
     ]
    }
   ],
   "source": [
    "#now are performin the setdiff1d operartion--> it will print only common elements\n",
    "a1=np.array([10,20,30])\n",
    "a2=np.array([20,40,50])\n",
    "print(a1,a2)\n",
    "c=np.intersect1d(a1,a2)\n",
    "print(c)"
   ]
  },
  {
   "cell_type": "code",
   "execution_count": 27,
   "id": "deb48d02-c55c-4ff3-9853-7be16f9fc8d0",
   "metadata": {},
   "outputs": [
    {
     "name": "stdout",
     "output_type": "stream",
     "text": [
      "[10 20 30] [20 40 50]\n",
      "[10 30 40 50]\n"
     ]
    }
   ],
   "source": [
    "#now are performin the setdiff1d operartion--> it will print only the uniue elements \n",
    "a1=np.array([10,20,30])\n",
    "a2=np.array([20,40,50])\n",
    "print(a1,a2)\n",
    "c=np.setxor1d(a1,a2)\n",
    "print(c)"
   ]
  },
  {
   "cell_type": "code",
   "execution_count": null,
   "id": "0815b5dc-ea12-4a9c-9941-7059fa6fb724",
   "metadata": {},
   "outputs": [],
   "source": []
  }
 ],
 "metadata": {
  "kernelspec": {
   "display_name": "Python [conda env:base] *",
   "language": "python",
   "name": "conda-base-py"
  },
  "language_info": {
   "codemirror_mode": {
    "name": "ipython",
    "version": 3
   },
   "file_extension": ".py",
   "mimetype": "text/x-python",
   "name": "python",
   "nbconvert_exporter": "python",
   "pygments_lexer": "ipython3",
   "version": "3.12.7"
  }
 },
 "nbformat": 4,
 "nbformat_minor": 5
}
