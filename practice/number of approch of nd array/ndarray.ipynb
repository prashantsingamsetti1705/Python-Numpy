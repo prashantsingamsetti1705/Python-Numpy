{
 "cells": [
  {
   "cell_type": "code",
   "execution_count": 9,
   "id": "d5d15ed1-f41d-4775-bf01-a57c56093917",
   "metadata": {},
   "outputs": [
    {
     "name": "stdout",
     "output_type": "stream",
     "text": [
      "--------------------------------------------------\n",
      "content of a= [0. 1. 2. 3. 4. 5.]\n",
      "type of a= <class 'numpy.ndarray'>\n",
      "Values type of a= float64\n",
      "Dimension of a= 1\n",
      "Shape of a= (6,)\n",
      "Size of a= 6\n",
      "--------------------------------------------------\n"
     ]
    }
   ],
   "source": [
    "#numpy.arange(Value)----------------> 0 to Value-1 with Default Step     +1\n",
    "#genarte range of values from 0 to 10\n",
    "import numpy as np\n",
    "a=np.arange(6,dtype=float)\n",
    "print(\"-\"*50)\n",
    "print(\"content of a=\",a)\n",
    "print(\"type of a=\",type(a))\n",
    "print(\"Values type of a=\",a.dtype)\n",
    "print(\"Dimension of a=\",a.ndim)\n",
    "print(\"Shape of a=\",a.shape)\n",
    "print(\"Size of a=\",a.size)\n",
    "print(\"-\"*50)"
   ]
  },
  {
   "cell_type": "code",
   "execution_count": 11,
   "id": "80625443-ec1c-4265-8782-a8f516a9e69c",
   "metadata": {},
   "outputs": [
    {
     "name": "stdout",
     "output_type": "stream",
     "text": [
      "--------------------------------------------------\n",
      "content of a\n",
      " [[0. 1.]\n",
      " [2. 3.]\n",
      " [4. 5.]]\n",
      "type of a= <class 'numpy.ndarray'>\n",
      "Values type of a= float64\n",
      "Dimension of a= 2\n",
      "Shape of a= (3, 2)\n",
      "Size of a= 6\n",
      "--------------------------------------------------\n"
     ]
    }
   ],
   "source": [
    "a.shape=(3,2)\n",
    "print(\"-\"*50)\n",
    "print(\"content of a\\n\",a)\n",
    "print(\"type of a=\",type(a))\n",
    "print(\"Values type of a=\",a.dtype)\n",
    "print(\"Dimension of a=\",a.ndim)\n",
    "print(\"Shape of a=\",a.shape)\n",
    "print(\"Size of a=\",a.size)\n",
    "print(\"-\"*50)\n"
   ]
  },
  {
   "cell_type": "code",
   "execution_count": 13,
   "id": "13329c8d-40cd-4c57-a4b5-240afdaff6cd",
   "metadata": {},
   "outputs": [
    {
     "name": "stdout",
     "output_type": "stream",
     "text": [
      "--------------------------------------------------\n",
      "content of a\n",
      " [[10. 12. 14.]\n",
      " [16. 18. 20.]\n",
      " [22. 24. 26.]]\n",
      "type of a= <class 'numpy.ndarray'>\n",
      "Values type of a= float64\n",
      "Dimension of a= 2\n",
      "Shape of a= (3, 3)\n",
      "Size of a= 9\n",
      "--------------------------------------------------\n"
     ]
    }
   ],
   "source": [
    "#Generate the range of values as 10 12 14 16 18 20 22 24 26 with Matrix Format\n",
    "a=np.arange(10,27,2,dtype=float) # \n",
    "print(\"-\"*50)\n",
    "a.shape=(3,3)\n",
    "print(\"content of a\\n\",a)\n",
    "print(\"type of a=\",type(a))\n",
    "print(\"Values type of a=\",a.dtype)\n",
    "print(\"Dimension of a=\",a.ndim)\n",
    "print(\"Shape of a=\",a.shape)\n",
    "print(\"Size of a=\",a.size)\n",
    "print(\"-\"*50)"
   ]
  },
  {
   "cell_type": "code",
   "execution_count": 15,
   "id": "c3529ebd-b20a-4d68-91c3-eb4658c03efc",
   "metadata": {},
   "outputs": [
    {
     "name": "stdout",
     "output_type": "stream",
     "text": [
      "--------------------------------------------------\n",
      "content of a\n",
      " [10.  10.5 11.  11.5 12.  12.5 13.  13.5 14.  14.5 15.  15.5 16.  16.5\n",
      " 17.  17.5 18.  18.5 19.  19.5 20.  20.5 21.  21.5 22.  22.5 23.  23.5\n",
      " 24.  24.5 25.  25.5 26.  26.5]\n",
      "type of a= <class 'numpy.ndarray'>\n",
      "Values type of a= float64\n",
      "Dimension of a= 1\n",
      "Shape of a= (34,)\n",
      "Size of a= 34\n",
      "--------------------------------------------------\n"
     ]
    }
   ],
   "source": [
    "#Generate the range of values as 10 12 14 16 18 20 22 24 26 with Matrix Format\n",
    "a=np.arange(10,27,0.5,dtype=float) # \n",
    "print(\"-\"*50)\n",
    "#a.shape=(3,3)\n",
    "print(\"content of a\\n\",a)\n",
    "print(\"type of a=\",type(a))\n",
    "print(\"Values type of a=\",a.dtype)\n",
    "print(\"Dimension of a=\",a.ndim)\n",
    "print(\"Shape of a=\",a.shape)\n",
    "print(\"Size of a=\",a.size)\n",
    "print(\"-\"*50)"
   ]
  },
  {
   "cell_type": "code",
   "execution_count": 17,
   "id": "db83b94c-2081-4f53-bdf3-396b85e96469",
   "metadata": {},
   "outputs": [
    {
     "name": "stdout",
     "output_type": "stream",
     "text": [
      "--------------------------------------------------\n",
      "content of a\n",
      " [10.   10.25 10.5  10.75 11.   11.25 11.5  11.75 12.   12.25 12.5  12.75\n",
      " 13.   13.25 13.5  13.75 14.   14.25 14.5  14.75]\n",
      "type of a= <class 'numpy.ndarray'>\n",
      "Values type of a= float64\n",
      "Dimension of a= 1\n",
      "Shape of a= (20,)\n",
      "Size of a= 20\n",
      "--------------------------------------------------\n"
     ]
    }
   ],
   "source": [
    "#Generate the range of values as 10 to 15 with Interval value 0.25 with Matrix Format\n",
    "a=np.arange(10,15,0.25,dtype=float) # \n",
    "print(\"-\"*50)\n",
    "#a.shape=(3,3)\n",
    "print(\"content of a\\n\",a)\n",
    "print(\"type of a=\",type(a))\n",
    "print(\"Values type of a=\",a.dtype)\n",
    "print(\"Dimension of a=\",a.ndim)\n",
    "print(\"Shape of a=\",a.shape)\n",
    "print(\"Size of a=\",a.size)\n",
    "print(\"-\"*50)"
   ]
  },
  {
   "cell_type": "code",
   "execution_count": 19,
   "id": "81e4a6ba-8e97-45ca-a562-863246f6573c",
   "metadata": {},
   "outputs": [
    {
     "name": "stdout",
     "output_type": "stream",
     "text": [
      "--------------------------------------------------\n",
      "content of a\n",
      " [[10.   10.25 10.5  10.75 11.  ]\n",
      " [11.25 11.5  11.75 12.   12.25]\n",
      " [12.5  12.75 13.   13.25 13.5 ]\n",
      " [13.75 14.   14.25 14.5  14.75]]\n",
      "type of a= <class 'numpy.ndarray'>\n",
      "Values type of a= float64\n",
      "Dimension of a= 2\n",
      "Shape of a= (4, 5)\n",
      "Size of a= 20\n",
      "--------------------------------------------------\n"
     ]
    }
   ],
   "source": [
    "#Generate the range of values as 10 to 15 with Interval value 0.25 with Matrix Format\n",
    "a=np.arange(10,15,0.25,dtype=float) # \n",
    "print(\"-\"*50)\n",
    "a.shape=(4,5)\n",
    "print(\"content of a\\n\",a)\n",
    "print(\"type of a=\",type(a))\n",
    "print(\"Values type of a=\",a.dtype)\n",
    "print(\"Dimension of a=\",a.ndim)\n",
    "print(\"Shape of a=\",a.shape)\n",
    "print(\"Size of a=\",a.size)\n",
    "print(\"-\"*50)"
   ]
  },
  {
   "cell_type": "code",
   "execution_count": 21,
   "id": "d52dc01b-d350-45c5-92aa-5830cb868099",
   "metadata": {},
   "outputs": [
    {
     "name": "stdout",
     "output_type": "stream",
     "text": [
      "--------------------------------------------------\n",
      "content of a\n",
      " [[10.   10.25 10.5  10.75]\n",
      " [11.   11.25 11.5  11.75]\n",
      " [12.   12.25 12.5  12.75]\n",
      " [13.   13.25 13.5  13.75]\n",
      " [14.   14.25 14.5  14.75]]\n",
      "type of a= <class 'numpy.ndarray'>\n",
      "Values type of a= float64\n",
      "Dimension of a= 2\n",
      "Shape of a= (5, 4)\n",
      "Size of a= 20\n",
      "--------------------------------------------------\n"
     ]
    }
   ],
   "source": [
    "#Generate the range of values as 10 to 15 with Interval value 0.25 with Matrix Format\n",
    "a=np.arange(10,15,0.25,dtype=float).reshape(5,4)\n",
    "print(\"-\"*50)\n",
    "print(\"content of a\\n\",a)\n",
    "print(\"type of a=\",type(a))\n",
    "print(\"Values type of a=\",a.dtype)\n",
    "print(\"Dimension of a=\",a.ndim)\n",
    "print(\"Shape of a=\",a.shape)\n",
    "print(\"Size of a=\",a.size)\n",
    "print(\"-\"*50)"
   ]
  },
  {
   "cell_type": "code",
   "execution_count": 23,
   "id": "183d4582-11f6-4820-ba7f-944c0869d354",
   "metadata": {},
   "outputs": [
    {
     "name": "stdout",
     "output_type": "stream",
     "text": [
      "--------------------------------------------------\n",
      "content of a\n",
      " [[[10.   10.25]\n",
      "  [10.5  10.75]\n",
      "  [11.   11.25]\n",
      "  [11.5  11.75]\n",
      "  [12.   12.25]]\n",
      "\n",
      " [[12.5  12.75]\n",
      "  [13.   13.25]\n",
      "  [13.5  13.75]\n",
      "  [14.   14.25]\n",
      "  [14.5  14.75]]]\n",
      "type of a= <class 'numpy.ndarray'>\n",
      "Values type of a= float64\n",
      "Dimension of a= 3\n",
      "Shape of a= (2, 5, 2)\n",
      "Size of a= 20\n",
      "--------------------------------------------------\n"
     ]
    }
   ],
   "source": [
    "#Generate the range of values as 10 to 15 with Interval value 0.25 with 3-D Matrix Format\n",
    "a=np.arange(10,15,0.25,dtype=float).reshape(2,5,2)\n",
    "print(\"-\"*50)\n",
    "print(\"content of a\\n\",a)\n",
    "print(\"type of a=\",type(a))\n",
    "print(\"Values type of a=\",a.dtype)\n",
    "print(\"Dimension of a=\",a.ndim)\n",
    "print(\"Shape of a=\",a.shape)\n",
    "print(\"Size of a=\",a.size)\n",
    "print(\"-\"*50)"
   ]
  },
  {
   "cell_type": "code",
   "execution_count": 25,
   "id": "6efe9356-cfb1-4c85-91a2-f4e06be9de7a",
   "metadata": {},
   "outputs": [
    {
     "name": "stdout",
     "output_type": "stream",
     "text": [
      "--------------------------------------------------\n",
      "content of a\n",
      " [[[10.   10.25 10.5  10.75 11.  ]\n",
      "  [11.25 11.5  11.75 12.   12.25]]\n",
      "\n",
      " [[12.5  12.75 13.   13.25 13.5 ]\n",
      "  [13.75 14.   14.25 14.5  14.75]]]\n",
      "type of a= <class 'numpy.ndarray'>\n",
      "Values type of a= float64\n",
      "Dimension of a= 3\n",
      "Shape of a= (2, 2, 5)\n",
      "Size of a= 20\n",
      "--------------------------------------------------\n"
     ]
    }
   ],
   "source": [
    "#Generate the range of values as 10 to 15 with Interval value 0.25 with 3-D Matrix Format\n",
    "a=np.arange(10,15,0.25,dtype=float).reshape(2,2,5)\n",
    "print(\"-\"*50)\n",
    "print(\"content of a\\n\",a)\n",
    "print(\"type of a=\",type(a))\n",
    "print(\"Values type of a=\",a.dtype)\n",
    "print(\"Dimension of a=\",a.ndim)\n",
    "print(\"Shape of a=\",a.shape)\n",
    "print(\"Size of a=\",a.size)\n",
    "print(\"-\"*50)"
   ]
  },
  {
   "cell_type": "code",
   "execution_count": 49,
   "id": "5b6a2d6f-7015-44a9-867c-cb3a93253092",
   "metadata": {},
   "outputs": [
    {
     "name": "stdout",
     "output_type": "stream",
     "text": [
      "--------------------------------------------------\n",
      "content of a\n",
      " [[0. 0. 0.]\n",
      " [0. 0. 0.]\n",
      " [0. 0. 0.]]\n",
      "type of a= <class 'numpy.ndarray'>\n",
      "Values type of a= float64\n",
      "Dimension of a= 2\n",
      "Shape of a= (3, 3)\n",
      "Size of a= 9\n",
      "--------------------------------------------------\n"
     ]
    }
   ],
   "source": [
    "#Generate the range of values as 10 to 15 with Interval value 0.25 with 3-D Matrix Format\n",
    "a=np.zeros(9).reshape(3,3)\n",
    "print(\"-\"*50)\n",
    "print(\"content of a\\n\",a)\n",
    "print(\"type of a=\",type(a))\n",
    "print(\"Values type of a=\",a.dtype)\n",
    "print(\"Dimension of a=\",a.ndim)\n",
    "print(\"Shape of a=\",a.shape)\n",
    "print(\"Size of a=\",a.size)\n",
    "print(\"-\"*50)"
   ]
  },
  {
   "cell_type": "code",
   "execution_count": 39,
   "id": "cb92847c-5024-427e-9920-4e65168c6d3e",
   "metadata": {},
   "outputs": [
    {
     "name": "stdout",
     "output_type": "stream",
     "text": [
      "--------------------------------------------------\n",
      "content of a\n",
      " [[[0. 0. 0.]\n",
      "  [0. 0. 0.]\n",
      "  [0. 0. 0.]]\n",
      "\n",
      " [[0. 0. 0.]\n",
      "  [0. 0. 0.]\n",
      "  [0. 0. 0.]]]\n",
      "type of a= <class 'numpy.ndarray'>\n",
      "Values type of a= float64\n",
      "Dimension of a= 3\n",
      "Shape of a= (2, 3, 3)\n",
      "Size of a= 18\n",
      "--------------------------------------------------\n"
     ]
    }
   ],
   "source": [
    "#Generate the range of values as 10 to 15 with Interval value 0.25 with 3-D Matrix Format\n",
    "a=np.zeros((2,3,3),dtype=float)\n",
    "print(\"-\"*50)\n",
    "print(\"content of a\\n\",a)\n",
    "print(\"type of a=\",type(a))\n",
    "print(\"Values type of a=\",a.dtype)\n",
    "print(\"Dimension of a=\",a.ndim)\n",
    "print(\"Shape of a=\",a.shape)\n",
    "print(\"Size of a=\",a.size)\n",
    "print(\"-\"*50)"
   ]
  },
  {
   "cell_type": "code",
   "execution_count": 43,
   "id": "8a3d8e19-e654-4a93-8ba4-0ec2c89b2c46",
   "metadata": {},
   "outputs": [
    {
     "name": "stdout",
     "output_type": "stream",
     "text": [
      "--------------------------------------------------\n",
      "content of a\n",
      " [[[1. 1. 1.]\n",
      "  [1. 1. 1.]\n",
      "  [1. 1. 1.]]\n",
      "\n",
      " [[1. 1. 1.]\n",
      "  [1. 1. 1.]\n",
      "  [1. 1. 1.]]]\n",
      "type of a= <class 'numpy.ndarray'>\n",
      "Values type of a= float64\n",
      "Dimension of a= 3\n",
      "Shape of a= (2, 3, 3)\n",
      "Size of a= 18\n",
      "--------------------------------------------------\n"
     ]
    }
   ],
   "source": [
    "a=np.ones((2,3,3),dtype=float)\n",
    "print(\"-\"*50)\n",
    "print(\"content of a\\n\",a)\n",
    "print(\"type of a=\",type(a))\n",
    "print(\"Values type of a=\",a.dtype)\n",
    "print(\"Dimension of a=\",a.ndim)\n",
    "print(\"Shape of a=\",a.shape)\n",
    "print(\"Size of a=\",a.size)\n",
    "print(\"-\"*50)"
   ]
  },
  {
   "cell_type": "code",
   "execution_count": 45,
   "id": "ce4f51af-7eb4-4048-8d7a-320c2f1a470e",
   "metadata": {},
   "outputs": [
    {
     "name": "stdout",
     "output_type": "stream",
     "text": [
      "--------------------------------------------------\n",
      "content of a\n",
      " [[1. 1. 1.]\n",
      " [1. 1. 1.]\n",
      " [1. 1. 1.]]\n",
      "type of a= <class 'numpy.ndarray'>\n",
      "Values type of a= float64\n",
      "Dimension of a= 2\n",
      "Shape of a= (3, 3)\n",
      "Size of a= 9\n",
      "--------------------------------------------------\n"
     ]
    }
   ],
   "source": [
    "a=np.ones((3,3),dtype=float)\n",
    "print(\"-\"*50)\n",
    "print(\"content of a\\n\",a)\n",
    "print(\"type of a=\",type(a))\n",
    "print(\"Values type of a=\",a.dtype)\n",
    "print(\"Dimension of a=\",a.ndim)\n",
    "print(\"Shape of a=\",a.shape)\n",
    "print(\"Size of a=\",a.size)\n",
    "print(\"-\"*50)"
   ]
  },
  {
   "cell_type": "code",
   "execution_count": 47,
   "id": "cdb515bd-3c1a-4d47-8118-6c80002dc6b7",
   "metadata": {},
   "outputs": [
    {
     "name": "stdout",
     "output_type": "stream",
     "text": [
      "--------------------------------------------------\n",
      "content of a\n",
      " [[[5. 5. 5.]\n",
      "  [5. 5. 5.]\n",
      "  [5. 5. 5.]]\n",
      "\n",
      " [[5. 5. 5.]\n",
      "  [5. 5. 5.]\n",
      "  [5. 5. 5.]]]\n",
      "type of a= <class 'numpy.ndarray'>\n",
      "Values type of a= float64\n",
      "Dimension of a= 3\n",
      "Shape of a= (2, 3, 3)\n",
      "Size of a= 18\n",
      "--------------------------------------------------\n"
     ]
    }
   ],
   "source": [
    "a=np.full((2,3,3),5,dtype=float)\n",
    "print(\"-\"*50)\n",
    "print(\"content of a\\n\",a)\n",
    "print(\"type of a=\",type(a))\n",
    "print(\"Values type of a=\",a.dtype)\n",
    "print(\"Dimension of a=\",a.ndim)\n",
    "print(\"Shape of a=\",a.shape)\n",
    "print(\"Size of a=\",a.size)\n",
    "print(\"-\"*50)"
   ]
  },
  {
   "cell_type": "code",
   "execution_count": 3,
   "id": "b8056403-611f-4fba-8803-b9e701c021b6",
   "metadata": {},
   "outputs": [
    {
     "name": "stdout",
     "output_type": "stream",
     "text": [
      "content of a [10.         10.02040816 10.04081633 10.06122449 10.08163265 10.10204082\n",
      " 10.12244898 10.14285714 10.16326531 10.18367347 10.20408163 10.2244898\n",
      " 10.24489796 10.26530612 10.28571429 10.30612245 10.32653061 10.34693878\n",
      " 10.36734694 10.3877551  10.40816327 10.42857143 10.44897959 10.46938776\n",
      " 10.48979592 10.51020408 10.53061224 10.55102041 10.57142857 10.59183673\n",
      " 10.6122449  10.63265306 10.65306122 10.67346939 10.69387755 10.71428571\n",
      " 10.73469388 10.75510204 10.7755102  10.79591837 10.81632653 10.83673469\n",
      " 10.85714286 10.87755102 10.89795918 10.91836735 10.93877551 10.95918367\n",
      " 10.97959184 11.        ]\n",
      "a <class 'numpy.ndarray'>\n"
     ]
    }
   ],
   "source": [
    "import numpy as np \n",
    "a=np.linspace(10,11)\n",
    "print(\"content of a\",a)\n",
    "print(\"a\",type(a))"
   ]
  },
  {
   "cell_type": "code",
   "execution_count": 9,
   "id": "fd3e337d-77d6-4237-aa28-b3e2021c9fac",
   "metadata": {},
   "outputs": [
    {
     "name": "stdout",
     "output_type": "stream",
     "text": [
      "content of a [10.         10.02040816 10.04081633 10.06122449 10.08163265 10.10204082\n",
      " 10.12244898 10.14285714 10.16326531 10.18367347 10.20408163 10.2244898\n",
      " 10.24489796 10.26530612 10.28571429 10.30612245 10.32653061 10.34693878\n",
      " 10.36734694 10.3877551  10.40816327 10.42857143 10.44897959 10.46938776\n",
      " 10.48979592 10.51020408 10.53061224 10.55102041 10.57142857 10.59183673\n",
      " 10.6122449  10.63265306 10.65306122 10.67346939 10.69387755 10.71428571\n",
      " 10.73469388 10.75510204 10.7755102  10.79591837 10.81632653 10.83673469\n",
      " 10.85714286 10.87755102 10.89795918 10.91836735 10.93877551 10.95918367\n",
      " 10.97959184 11.        ]\n",
      "a <class 'numpy.ndarray'>\n"
     ]
    }
   ],
   "source": [
    "import numpy as np \n",
    "a=np.linspace(10,11,endpoint=True)\n",
    "print(\"content of a\",a)\n",
    "print(\"a\",type(a))"
   ]
  },
  {
   "cell_type": "code",
   "execution_count": 29,
   "id": "8986365e-fc44-4e6b-be70-c08e913fe850",
   "metadata": {},
   "outputs": [
    {
     "name": "stdout",
     "output_type": "stream",
     "text": [
      "content of a [10.  10.2 10.4 10.6 10.8 11. ]\n",
      "a <class 'numpy.ndarray'>\n",
      "val of rat step 0.2\n"
     ]
    }
   ],
   "source": [
    "import numpy as np \n",
    "a,vi=np.linspace(10,11,num=6,endpoint=True,retstep=True)\n",
    "print(\"content of a\",a)\n",
    "print(\"a\",type(a))\n",
    "print(\"val of rat step\",vi)"
   ]
  },
  {
   "cell_type": "code",
   "execution_count": 5,
   "id": "0baf51ae-b4aa-465e-8e83-ac5c2833beb2",
   "metadata": {},
   "outputs": [
    {
     "name": "stdout",
     "output_type": "stream",
     "text": [
      "unit Matrix\n",
      "[[1 0]\n",
      " [0 1]]\n"
     ]
    }
   ],
   "source": [
    "import numpy as np\n",
    "lst=[1,0,0,1]\n",
    "a=np.array(lst)\n",
    "a.shape=(2,2)\n",
    "print(\"unit Matrix\")\n",
    "print(a)"
   ]
  },
  {
   "cell_type": "code",
   "execution_count": 7,
   "id": "364a0528-535a-46aa-a930-e41eaf12dee9",
   "metadata": {},
   "outputs": [
    {
     "ename": "ValueError",
     "evalue": "cannot reshape array of size 4 into shape (9,)",
     "output_type": "error",
     "traceback": [
      "\u001b[1;31m---------------------------------------------------------------------------\u001b[0m",
      "\u001b[1;31mValueError\u001b[0m                                Traceback (most recent call last)",
      "Cell \u001b[1;32mIn[7], line 2\u001b[0m\n\u001b[0;32m      1\u001b[0m \u001b[38;5;66;03m#convert 2D into 1 D\u001b[39;00m\n\u001b[1;32m----> 2\u001b[0m a\u001b[38;5;241m.\u001b[39mshape\u001b[38;5;241m=\u001b[39m(\u001b[38;5;241m9\u001b[39m,)\n\u001b[0;32m      3\u001b[0m \u001b[38;5;28mprint\u001b[39m(\u001b[38;5;124m\"\u001b[39m\u001b[38;5;124mUnit Matrix in 1-D\u001b[39m\u001b[38;5;124m\"\u001b[39m)\n\u001b[0;32m      4\u001b[0m \u001b[38;5;28mprint\u001b[39m(a)\n",
      "\u001b[1;31mValueError\u001b[0m: cannot reshape array of size 4 into shape (9,)"
     ]
    }
   ],
   "source": [
    "#convert 2D into 1 D\n",
    "a.shape=(9,)\n",
    "print(\"Unit Matrix in 1-D\")\n",
    "print(a)\n",
    "print(\"Dim of a=\",a.ndim)\n",
    "print(\"Shape of a=\",a.shape)"
   ]
  },
  {
   "cell_type": "code",
   "execution_count": 9,
   "id": "1b87e1ad-2469-4551-bde5-aaf7569c27dd",
   "metadata": {},
   "outputs": [
    {
     "name": "stdout",
     "output_type": "stream",
     "text": [
      "Unit Matrix\n",
      "[[1 0 0]\n",
      " [0 1 0]\n",
      " [0 0 1]]\n",
      "Dim of a= 2\n",
      "Shape of a= (3, 3)\n"
     ]
    }
   ],
   "source": [
    "#Create ndarray object with 3x 3 identity OR Unit Matrix\n",
    "import numpy as np\n",
    "a=np.identity(3,dtype=int)\n",
    "print(\"Unit Matrix\")\n",
    "print(a)\n",
    "print(\"Dim of a=\",a.ndim)\n",
    "print(\"Shape of a=\",a.shape)"
   ]
  },
  {
   "cell_type": "code",
   "execution_count": 17,
   "id": "c1d8ce21-a6ff-4fc3-99ac-c53ea4c500bc",
   "metadata": {},
   "outputs": [
    {
     "name": "stdout",
     "output_type": "stream",
     "text": [
      "Unit Matrix in 1-D\n",
      "[[1 0 0]\n",
      " [0 1 0]\n",
      " [0 0 1]]\n",
      "Dim of a= 2\n",
      "Shape of a= (3, 3)\n"
     ]
    }
   ],
   "source": [
    "#convert 2D into 1 D\n",
    "a.shape=(3,3)\n",
    "print(\"Unit Matrix in 1-D\")\n",
    "print(a)\n",
    "print(\"Dim of a=\",a.ndim)\n",
    "print(\"Shape of a=\",a.shape)"
   ]
  },
  {
   "cell_type": "code",
   "execution_count": 1,
   "id": "1b01c86c-07e0-44f2-b3c3-ba1ee1f81df4",
   "metadata": {},
   "outputs": [
    {
     "name": "stdout",
     "output_type": "stream",
     "text": [
      "[[1. 0. 0.]\n",
      " [0. 1. 0.]\n",
      " [0. 0. 1.]]\n"
     ]
    }
   ],
   "source": [
    "import numpy as np\n",
    "a=np.eye(3)\n",
    "print(a)"
   ]
  },
  {
   "cell_type": "code",
   "execution_count": 5,
   "id": "8a88918e-66dc-44c2-af3b-0f006746b5ff",
   "metadata": {},
   "outputs": [
    {
     "name": "stdout",
     "output_type": "stream",
     "text": [
      "[[1 0 0 0 0 0]\n",
      " [0 1 0 0 0 0]\n",
      " [0 0 1 0 0 0]\n",
      " [0 0 0 1 0 0]\n",
      " [0 0 0 0 1 0]\n",
      " [0 0 0 0 0 1]]\n"
     ]
    }
   ],
   "source": [
    "import numpy as np\n",
    "a=np.eye(6,dtype=int)\n",
    "print(a)"
   ]
  },
  {
   "cell_type": "code",
   "execution_count": 11,
   "id": "683d0d3a-1ff0-4b57-85e9-6b166124d390",
   "metadata": {},
   "outputs": [
    {
     "name": "stdout",
     "output_type": "stream",
     "text": [
      "[[0 0 0 0 0 0]\n",
      " [0 0 0 0 0 0]\n",
      " [1 0 0 0 0 0]\n",
      " [0 1 0 0 0 0]\n",
      " [0 0 1 0 0 0]\n",
      " [0 0 0 1 0 0]]\n"
     ]
    }
   ],
   "source": [
    "import numpy as np\n",
    "a=np.eye(6,k=-2,dtype=int)\n",
    "print(a)"
   ]
  },
  {
   "cell_type": "code",
   "execution_count": 13,
   "id": "8ee1fbaa-c2eb-4335-a896-27293478cbed",
   "metadata": {},
   "outputs": [
    {
     "name": "stdout",
     "output_type": "stream",
     "text": [
      "[[0 0 0 0 0 0]\n",
      " [1 0 0 0 0 0]\n",
      " [0 1 0 0 0 0]\n",
      " [0 0 1 0 0 0]\n",
      " [0 0 0 1 0 0]\n",
      " [0 0 0 0 1 0]]\n"
     ]
    }
   ],
   "source": [
    "import numpy as np\n",
    "a=np.eye(6,k=-1,dtype=int)\n",
    "print(a)"
   ]
  },
  {
   "cell_type": "code",
   "execution_count": 15,
   "id": "3ba6be34-474b-41f8-836a-8f4c6836ff7f",
   "metadata": {},
   "outputs": [
    {
     "name": "stdout",
     "output_type": "stream",
     "text": [
      "[[1 0 0 0 0 0]\n",
      " [0 1 0 0 0 0]\n",
      " [0 0 1 0 0 0]\n",
      " [0 0 0 1 0 0]\n",
      " [0 0 0 0 1 0]\n",
      " [0 0 0 0 0 1]]\n"
     ]
    }
   ],
   "source": [
    "import numpy as np\n",
    "a=np.eye(6,k=0,dtype=int)\n",
    "print(a)"
   ]
  },
  {
   "cell_type": "code",
   "execution_count": 17,
   "id": "f0d27140-929a-40a9-bc31-83205e8a69d6",
   "metadata": {},
   "outputs": [
    {
     "name": "stdout",
     "output_type": "stream",
     "text": [
      "[[0 1 0 0 0 0]\n",
      " [0 0 1 0 0 0]\n",
      " [0 0 0 1 0 0]\n",
      " [0 0 0 0 1 0]\n",
      " [0 0 0 0 0 1]\n",
      " [0 0 0 0 0 0]]\n"
     ]
    }
   ],
   "source": [
    "import numpy as np\n",
    "a=np.eye(6,k=1,dtype=int)\n",
    "print(a)"
   ]
  },
  {
   "cell_type": "code",
   "execution_count": 19,
   "id": "5b30f9a9-9cef-4bc3-a1b8-7bd31697e2b5",
   "metadata": {},
   "outputs": [
    {
     "name": "stdout",
     "output_type": "stream",
     "text": [
      "[[0 0 1 0 0 0]\n",
      " [0 0 0 1 0 0]\n",
      " [0 0 0 0 1 0]\n",
      " [0 0 0 0 0 1]\n",
      " [0 0 0 0 0 0]\n",
      " [0 0 0 0 0 0]]\n"
     ]
    }
   ],
   "source": [
    "import numpy as np\n",
    "a=np.eye(6,k=2,dtype=int)\n",
    "print(a)"
   ]
  },
  {
   "cell_type": "code",
   "execution_count": 21,
   "id": "cf674e4c-154e-49cd-8b20-32a01ecd922e",
   "metadata": {},
   "outputs": [
    {
     "name": "stdout",
     "output_type": "stream",
     "text": [
      "[[0 0 0 0 1 0]\n",
      " [0 0 0 0 0 1]\n",
      " [0 0 0 0 0 0]\n",
      " [0 0 0 0 0 0]\n",
      " [0 0 0 0 0 0]\n",
      " [0 0 0 0 0 0]]\n"
     ]
    }
   ],
   "source": [
    "import numpy as np\n",
    "a=np.eye(6,k=4,dtype=int)\n",
    "print(a)"
   ]
  },
  {
   "cell_type": "code",
   "execution_count": 23,
   "id": "eb7e8714-fb73-4348-a9dc-36103d6005b7",
   "metadata": {},
   "outputs": [
    {
     "name": "stdout",
     "output_type": "stream",
     "text": [
      "[[0 0 0 0 0 0 0 0 0 0 0 0 0 0 0]\n",
      " [0 0 0 0 0 0 0 0 0 0 0 0 0 0 0]\n",
      " [1 0 0 0 0 0 0 0 0 0 0 0 0 0 0]\n",
      " [0 1 0 0 0 0 0 0 0 0 0 0 0 0 0]\n",
      " [0 0 1 0 0 0 0 0 0 0 0 0 0 0 0]\n",
      " [0 0 0 1 0 0 0 0 0 0 0 0 0 0 0]]\n"
     ]
    }
   ],
   "source": [
    "import numpy as np\n",
    "a=np.eye(6,15,k=-2,dtype=int)\n",
    "print(a)"
   ]
  },
  {
   "cell_type": "code",
   "execution_count": 25,
   "id": "eeb9b9dd-353a-4a68-a953-ae7f79f50cfa",
   "metadata": {},
   "outputs": [
    {
     "name": "stdout",
     "output_type": "stream",
     "text": [
      "[[0 1 0 0 0 0 0 0 0 0 0 0 0 0 0]\n",
      " [0 0 1 0 0 0 0 0 0 0 0 0 0 0 0]\n",
      " [0 0 0 1 0 0 0 0 0 0 0 0 0 0 0]\n",
      " [0 0 0 0 1 0 0 0 0 0 0 0 0 0 0]\n",
      " [0 0 0 0 0 1 0 0 0 0 0 0 0 0 0]\n",
      " [0 0 0 0 0 0 1 0 0 0 0 0 0 0 0]]\n"
     ]
    }
   ],
   "source": [
    "import numpy as np\n",
    "a=np.eye(6,15,k=1,dtype=int)\n",
    "print(a)"
   ]
  },
  {
   "cell_type": "code",
   "execution_count": 27,
   "id": "a1afc9a1-fb99-4273-b7f6-fd4baf02ce1f",
   "metadata": {},
   "outputs": [
    {
     "name": "stdout",
     "output_type": "stream",
     "text": [
      "[[10 20 30]\n",
      " [40 50 60]]\n",
      "[[1 2]\n",
      " [3 4]]\n"
     ]
    }
   ],
   "source": [
    " import numpy as np\n",
    "a=np.array([[10,20,30],[40,50,60]])\n",
    "print(a)\n",
    "b=np.array([[1,2],[3,4]])\n",
    "print(b)"
   ]
  },
  {
   "cell_type": "code",
   "execution_count": 29,
   "id": "26f06069-85b0-4eaf-b9da-0d9f52e386d5",
   "metadata": {},
   "outputs": [
    {
     "name": "stdout",
     "output_type": "stream",
     "text": [
      "[[ 1  2 10 20 30]\n",
      " [ 3  4 40 50 60]]\n"
     ]
    }
   ],
   "source": [
    "c=np.hstack((b,a))\n",
    "print(c)"
   ]
  },
  {
   "cell_type": "code",
   "execution_count": 31,
   "id": "8864553f-ec04-4a97-8168-39387fb42718",
   "metadata": {},
   "outputs": [
    {
     "name": "stdout",
     "output_type": "stream",
     "text": [
      "---------------------------------\n",
      "Array1\n",
      "[[0 1 2]\n",
      " [3 4 5]\n",
      " [6 7 8]]\n",
      "---------------------------------\n",
      "Array2\n",
      "[[10 20 30]\n",
      " [40 50 60]\n",
      " [70 80 90]]\n",
      "---------------------------------\n"
     ]
    }
   ],
   "source": [
    "#Example\n",
    "a=np.arange(9).reshape(3,3)\n",
    "b=np.array([10,20,30,40,50,60,70,80,90]).reshape(3,3)\n",
    "print(\"---------------------------------\")\n",
    "print(\"Array1\")\n",
    "print(a)\n",
    "print(\"---------------------------------\")\n",
    "print(\"Array2\")\n",
    "print(b)\n",
    "print(\"---------------------------------\")"
   ]
  },
  {
   "cell_type": "code",
   "execution_count": 33,
   "id": "4e8d1a0a-2474-4df9-b975-a22f0f59fa3d",
   "metadata": {},
   "outputs": [
    {
     "name": "stdout",
     "output_type": "stream",
     "text": [
      "Merged Array\n",
      "[[ 0  1  2 10 20 30]\n",
      " [ 3  4  5 40 50 60]\n",
      " [ 6  7  8 70 80 90]]\n",
      "---------------------------------\n"
     ]
    }
   ],
   "source": [
    "#merge array1 and array2 in array3\n",
    "c=np.hstack((a,b))\n",
    "print(\"Merged Array\")\n",
    "print(c)\n",
    "print(\"---------------------------------\")\n"
   ]
  },
  {
   "cell_type": "code",
   "execution_count": 35,
   "id": "68cde122-d58f-4cad-9c54-b14f41ef3558",
   "metadata": {},
   "outputs": [
    {
     "name": "stdout",
     "output_type": "stream",
     "text": [
      "Merged Array\n",
      "[[ 0  1  2]\n",
      " [ 3  4  5]\n",
      " [ 6  7  8]\n",
      " [10 20 30]\n",
      " [40 50 60]\n",
      " [70 80 90]]\n",
      "---------------------------------\n"
     ]
    }
   ],
   "source": [
    "\n",
    "#merge array1 and array2 in array3\n",
    "c=np.vstack((a,b))\n",
    "print(\"Merged Array\")\n",
    "print(c)\n",
    "print(\"---------------------------------\")"
   ]
  },
  {
   "cell_type": "code",
   "execution_count": 37,
   "id": "0ddb88ba-677d-4113-88b5-72276783cb52",
   "metadata": {},
   "outputs": [
    {
     "name": "stdout",
     "output_type": "stream",
     "text": [
      "---------------------------------\n",
      "Array1\n",
      "[[10 20 30]\n",
      " [40 50 60]]\n",
      "---------------------------------\n",
      "Array2\n",
      "[[1 2 3]\n",
      " [3 4 5]\n",
      " [6 7 8]]\n",
      "---------------------------------\n"
     ]
    }
   ],
   "source": [
    "#Syntax:  varname=numpy.vstack((ndarray1,ndarray2))\n",
    "import numpy as np\n",
    "a=np.array([[10,20,30],[40,50,60]])\n",
    "print(\"---------------------------------\")\n",
    "print(\"Array1\")\n",
    "print(a)\n",
    "print(\"---------------------------------\")\n",
    "b=np.array([[1,2,3],[3,4,5],[6,7,8]])\n",
    "print(\"Array2\")\n",
    "print(b)\n",
    "print(\"---------------------------------\")"
   ]
  },
  {
   "cell_type": "code",
   "execution_count": 39,
   "id": "de4a27b7-f5a9-4762-9897-faf1a5b20b81",
   "metadata": {},
   "outputs": [
    {
     "name": "stdout",
     "output_type": "stream",
     "text": [
      "Merged Array\n",
      "[[10 20 30]\n",
      " [40 50 60]\n",
      " [ 1  2  3]\n",
      " [ 3  4  5]\n",
      " [ 6  7  8]]\n",
      "---------------------------------\n"
     ]
    }
   ],
   "source": [
    "#merge array1 and array2 in array3 vertically\n",
    "c=np.vstack((a,b))\n",
    "print(\"Merged Array\")\n",
    "print(c)\n",
    "print(\"---------------------------------\")"
   ]
  },
  {
   "cell_type": "code",
   "execution_count": 41,
   "id": "6e56911f-46d3-44ce-badd-36cc3a0c7522",
   "metadata": {},
   "outputs": [
    {
     "name": "stdout",
     "output_type": "stream",
     "text": [
      "Merged Array\n",
      "[[ 1  2  3]\n",
      " [ 3  4  5]\n",
      " [ 6  7  8]\n",
      " [10 20 30]\n",
      " [40 50 60]]\n",
      "---------------------------------\n"
     ]
    }
   ],
   "source": [
    "#merge array1 and array2 in array3 vertically\n",
    "d=np.vstack((b,a))\n",
    "print(\"Merged Array\")\n",
    "print(d)\n",
    "print(\"---------------------------------\")"
   ]
  },
  {
   "cell_type": "code",
   "execution_count": null,
   "id": "13bf187b-43d3-4c47-8d5f-ddd6fbe70a63",
   "metadata": {},
   "outputs": [],
   "source": []
  }
 ],
 "metadata": {
  "kernelspec": {
   "display_name": "Python [conda env:base] *",
   "language": "python",
   "name": "conda-base-py"
  },
  "language_info": {
   "codemirror_mode": {
    "name": "ipython",
    "version": 3
   },
   "file_extension": ".py",
   "mimetype": "text/x-python",
   "name": "python",
   "nbconvert_exporter": "python",
   "pygments_lexer": "ipython3",
   "version": "3.12.7"
  }
 },
 "nbformat": 4,
 "nbformat_minor": 5
}
