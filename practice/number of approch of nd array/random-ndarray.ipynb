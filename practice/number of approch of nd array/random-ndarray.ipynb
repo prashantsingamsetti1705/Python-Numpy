{
 "cells": [
  {
   "cell_type": "code",
   "execution_count": 1,
   "id": "ff2535d2-0ef4-4513-821d-7cecc5d28074",
   "metadata": {},
   "outputs": [],
   "source": [
    "#random module of numpy \n",
    "#randint(),rand(),unifrom(),rand(),normal(),shuffle(),choice()"
   ]
  },
  {
   "cell_type": "code",
   "execution_count": 3,
   "id": "45db6522-0fa6-4954-9886-d4aa8db20f16",
   "metadata": {},
   "outputs": [
    {
     "name": "stdout",
     "output_type": "stream",
     "text": [
      "0\n"
     ]
    }
   ],
   "source": [
    "import numpy.random as nr\n",
    "a=nr.randint(3)\n",
    "print(a)"
   ]
  },
  {
   "cell_type": "code",
   "execution_count": 11,
   "id": "18a38cbb-9575-4e27-b1b8-6d7edb2ee8f4",
   "metadata": {},
   "outputs": [
    {
     "name": "stdout",
     "output_type": "stream",
     "text": [
      "34\n"
     ]
    }
   ],
   "source": [
    "a=nr.randint(3,100)\n",
    "print(a)"
   ]
  },
  {
   "cell_type": "code",
   "execution_count": 21,
   "id": "a9107ce7-1e64-4eed-b448-e259054deb47",
   "metadata": {},
   "outputs": [
    {
     "name": "stdout",
     "output_type": "stream",
     "text": [
      "[59 46  9  6 99]\n"
     ]
    }
   ],
   "source": [
    "a=nr.randint(3,100,size=5)\n",
    "print(a)"
   ]
  },
  {
   "cell_type": "code",
   "execution_count": 29,
   "id": "240fea5e-2e0d-43ef-9522-c51d58390936",
   "metadata": {},
   "outputs": [
    {
     "name": "stdout",
     "output_type": "stream",
     "text": [
      "[[[34 93  6 71]\n",
      "  [48 60 84 27]\n",
      "  [28 67 32 10]]\n",
      "\n",
      " [[95 29 71 61]\n",
      "  [12 59 78 12]\n",
      "  [28 62 31 95]]]\n",
      "(2, 3, 4)\n",
      "3\n",
      "<class 'numpy.ndarray'> int32\n"
     ]
    }
   ],
   "source": [
    "import numpy.random as nr\n",
    "a=nr.randint(3,100,size=(2,3,4))\n",
    "print(a)\n",
    "print(a.shape)\n",
    "print(a.ndim)\n",
    "print(type(a),a.dtype)"
   ]
  },
  {
   "cell_type": "code",
   "execution_count": 31,
   "id": "2f1ad110-859e-4bec-8c47-4d5a785f49cc",
   "metadata": {},
   "outputs": [
    {
     "name": "stdout",
     "output_type": "stream",
     "text": [
      "[0.69636029 0.51975141 0.54366103 0.01370554 0.05500806]\n"
     ]
    }
   ],
   "source": [
    "a=nr.rand(5)\n",
    "print(a)"
   ]
  },
  {
   "cell_type": "code",
   "execution_count": 33,
   "id": "db0f9d2c-9926-42fb-acdd-793442b45572",
   "metadata": {},
   "outputs": [
    {
     "name": "stdout",
     "output_type": "stream",
     "text": [
      "[0.35587134]\n"
     ]
    }
   ],
   "source": [
    "a=nr.rand(1)\n",
    "print(a)"
   ]
  },
  {
   "cell_type": "code",
   "execution_count": 43,
   "id": "1c0c3981-bab5-45c3-99ee-270151401898",
   "metadata": {},
   "outputs": [
    {
     "name": "stdout",
     "output_type": "stream",
     "text": [
      "[0.60463677 0.01038916 0.79894013 0.3067396  0.33540404] the dimension is= 1\n",
      "<class 'numpy.ndarray'> float64\n"
     ]
    }
   ],
   "source": [
    "a=nr.rand(5)\n",
    "print(a,\"the dimension is=\",a.ndim)\n",
    "print(type(a),a.dtype)"
   ]
  },
  {
   "cell_type": "code",
   "execution_count": 45,
   "id": "e91a5c86-8540-44f8-8d20-d696216f1a23",
   "metadata": {},
   "outputs": [
    {
     "name": "stdout",
     "output_type": "stream",
     "text": [
      "[[0.3633146  0.7373183  0.75882707 0.28865896 0.0282419 ]\n",
      " [0.23955891 0.4878744  0.56484978 0.16207759 0.31123202]\n",
      " [0.27384945 0.65151072 0.80152341 0.27688448 0.92513292]] the dimension is= 2\n",
      "<class 'numpy.ndarray'> float64\n"
     ]
    }
   ],
   "source": [
    "a=nr.rand(3,5)\n",
    "print(a,\"the dimension is=\",a.ndim)\n",
    "print(type(a),a.dtype)"
   ]
  },
  {
   "cell_type": "code",
   "execution_count": 47,
   "id": "0eae8ba0-8a3d-4998-a651-ed60d927e713",
   "metadata": {},
   "outputs": [
    {
     "name": "stdout",
     "output_type": "stream",
     "text": [
      "[[[0.09732936 0.15166604 0.95394015 0.67255668 0.202586  ]\n",
      "  [0.84390823 0.83072295 0.20556849 0.1914388  0.82821653]\n",
      "  [0.39853922 0.01271931 0.38847064 0.99550427 0.58963158]]\n",
      "\n",
      " [[0.3369694  0.38749618 0.12965038 0.87179696 0.63420302]\n",
      "  [0.67992636 0.47572228 0.16392226 0.08550085 0.01989175]\n",
      "  [0.66697532 0.4224215  0.00374668 0.4400353  0.98595543]]] the dimension is= 3\n",
      "<class 'numpy.ndarray'> float64\n"
     ]
    }
   ],
   "source": [
    "a=nr.rand(2,3,5)\n",
    "print(a,\"the dimension is=\",a.ndim)\n",
    "print(type(a),a.dtype)"
   ]
  },
  {
   "cell_type": "code",
   "execution_count": 71,
   "id": "b0cfa63b-30f4-4309-bc50-b0fcf956dd86",
   "metadata": {},
   "outputs": [
    {
     "name": "stdout",
     "output_type": "stream",
     "text": [
      "[[[0.77184929 0.31262299 0.68331546 0.17409765 0.46897529]\n",
      "  [0.23335072 0.95868042 0.50057014 0.27569119 0.50898376]\n",
      "  [0.51876361 0.1980502  0.88952176 0.9319254  0.203578  ]\n",
      "  [0.22186303 0.58990554 0.45043388 0.22702011 0.82670265]]\n",
      "\n",
      " [[0.52487645 0.45740215 0.83476841 0.84087008 0.3912763 ]\n",
      "  [0.52441182 0.3813744  0.22333214 0.27012864 0.82446354]\n",
      "  [0.67272313 0.13958024 0.24742421 0.59859383 0.31400992]\n",
      "  [0.93679894 0.6623751  0.74793942 0.91049111 0.34809514]]] the dimension is= 3\n",
      "<class 'numpy.ndarray'> float64\n",
      "0 00 10 20 3\n",
      "1 01 11 21 3\n",
      "2 02 12 22 3\n",
      "3 03 13 23 3\n"
     ]
    }
   ],
   "source": [
    "a=nr.rand(2,4,5)\n",
    "print(a,\"the dimension is=\",a.ndim)\n",
    "print(type(a),a.dtype)\n",
    "for s in range(len(a[0])):\n",
    "    for s1 in range(len(a[0])):\n",
    "        print(s,s1,end=\"\")\n",
    "    print()\n",
    "    "
   ]
  },
  {
   "cell_type": "code",
   "execution_count": 73,
   "id": "cfea6331-d953-47a3-bafa-b6ef51c36164",
   "metadata": {},
   "outputs": [
    {
     "name": "stdout",
     "output_type": "stream",
     "text": [
      "0.8062552778743464\n"
     ]
    }
   ],
   "source": [
    "#unifrom\n",
    "import numpy.random as r\n",
    "uv=r.uniform()\n",
    "print(uv)"
   ]
  },
  {
   "cell_type": "code",
   "execution_count": 75,
   "id": "4ca01fad-375b-423d-be24-20d8574f971b",
   "metadata": {},
   "outputs": [
    {
     "name": "stdout",
     "output_type": "stream",
     "text": [
      "10.615339534057936\n"
     ]
    }
   ],
   "source": [
    "import numpy.random as r\n",
    "uv=r.uniform(10,11)\n",
    "print(uv)"
   ]
  },
  {
   "cell_type": "code",
   "execution_count": 77,
   "id": "b8e036ef-6a6e-4780-ac93-cc40cc7d2eee",
   "metadata": {},
   "outputs": [
    {
     "name": "stdout",
     "output_type": "stream",
     "text": [
      "[10.72918143 10.93647102 10.77054904 10.0424127  10.99288266]\n",
      "the dimension= 1\n",
      "type= <class 'numpy.ndarray'>\n",
      "size= 5\n"
     ]
    }
   ],
   "source": [
    "import numpy.random as r\n",
    "uv=r.uniform(10,11,size=5)\n",
    "print(uv)\n",
    "print(\"the dimension=\",uv.ndim)\n",
    "print(\"type=\",type(uv))\n",
    "print(\"size=\",uv.size)"
   ]
  },
  {
   "cell_type": "code",
   "execution_count": 79,
   "id": "780e06f2-600f-4419-8d33-a4924d959ae6",
   "metadata": {},
   "outputs": [
    {
     "name": "stdout",
     "output_type": "stream",
     "text": [
      "[10.02536533 10.02975489 10.52027487 10.50844662 10.37627402]\n",
      "the dimension= 1\n",
      "type= <class 'numpy.ndarray'>\n",
      "size= 5\n",
      "dtype= float64\n",
      "shape= (5,)\n"
     ]
    }
   ],
   "source": [
    "import numpy.random as r\n",
    "uv=r.uniform(10,11,size=5)\n",
    "print(uv)\n",
    "print(\"the dimension=\",uv.ndim)\n",
    "print(\"type=\",type(uv))\n",
    "print(\"size=\",uv.size)\n",
    "print(\"dtype=\",uv.dtype)\n",
    "print(\"shape=\",uv.shape)"
   ]
  },
  {
   "cell_type": "code",
   "execution_count": 83,
   "id": "7f4bee7a-c453-423b-ba53-1fa9496c141f",
   "metadata": {},
   "outputs": [
    {
     "name": "stdout",
     "output_type": "stream",
     "text": [
      "[[10.14867376 10.8917266  10.37436874 10.26345682 10.89385455]\n",
      " [10.64927277 10.87128766 10.9242703  10.35485969 10.86198845]\n",
      " [10.51978583 10.17750028 10.00683955 10.87690795 10.20570621]]\n",
      "the dimension= 2\n",
      "type= <class 'numpy.ndarray'>\n",
      "size= 15\n",
      "dtype= float64\n",
      "shape= (3, 5)\n"
     ]
    }
   ],
   "source": [
    "import numpy.random as r\n",
    "uv=r.uniform(10,11,size=(3,5))\n",
    "print(uv)\n",
    "print(\"the dimension=\",uv.ndim)\n",
    "print(\"type=\",type(uv))\n",
    "print(\"size=\",uv.size)\n",
    "print(\"dtype=\",uv.dtype)\n",
    "print(\"shape=\",uv.shape)"
   ]
  },
  {
   "cell_type": "code",
   "execution_count": 85,
   "id": "916647f1-6993-435a-bcc5-d0bbf33910c3",
   "metadata": {},
   "outputs": [
    {
     "name": "stdout",
     "output_type": "stream",
     "text": [
      "[[[10.61347634 10.1883313  10.87606083 10.37051116 10.3957573 ]\n",
      "  [10.89631448 10.81111369 10.26449746 10.47085791 10.45641577]\n",
      "  [10.89632252 10.92389169 10.45695636 10.41585502 10.34103174]]\n",
      "\n",
      " [[10.85174821 10.80709781 10.67616467 10.19148144 10.25354671]\n",
      "  [10.09924545 10.24360599 10.91607233 10.81450356 10.85403141]\n",
      "  [10.86890369 10.53661843 10.36343452 10.70842494 10.50309835]]]\n",
      "the dimension= 3\n",
      "type= <class 'numpy.ndarray'>\n",
      "size= 30\n",
      "dtype= float64\n",
      "shape= (2, 3, 5)\n"
     ]
    }
   ],
   "source": [
    "import numpy.random as r\n",
    "uv=r.uniform(10,11,size=(2,3,5))\n",
    "print(uv)\n",
    "print(\"the dimension=\",uv.ndim)\n",
    "print(\"type=\",type(uv))\n",
    "print(\"size=\",uv.size)\n",
    "print(\"dtype=\",uv.dtype)\n",
    "print(\"shape=\",uv.shape)"
   ]
  },
  {
   "cell_type": "code",
   "execution_count": 3,
   "id": "3bd98e5e-8abb-4ef3-aba4-4d2a1f087d13",
   "metadata": {},
   "outputs": [
    {
     "name": "stdout",
     "output_type": "stream",
     "text": [
      "-0.7056363659786561\n"
     ]
    }
   ],
   "source": [
    "#Syntax-1: numpy.random.randn()\n",
    "#Syntax-2: numpy.random.randn(value)\n",
    "#Generating Number of Random floating Values (Value times) \n",
    "#for standard Normal Distribution and either +ve or -ve\n",
    "import numpy.random as r\n",
    "rv=r.randn()\n",
    "print(rv)\n"
   ]
  },
  {
   "cell_type": "code",
   "execution_count": 7,
   "id": "28b1a175-2499-44d4-bfe9-df61e2628ede",
   "metadata": {},
   "outputs": [
    {
     "name": "stdout",
     "output_type": "stream",
     "text": [
      "[[-0.71958092 -1.61453859 -0.51206884  0.00873229 -2.19602705 -0.03392785\n",
      "   1.21908732  0.08568062 -1.30155007  1.24142994  0.0476506   0.16962588]\n",
      " [ 0.90072465  1.29632776  0.51329423  1.40085118 -1.0619274   0.29351742\n",
      "   1.21996002  0.7533987  -0.53992842 -0.99163543  0.52833987  0.93592987]\n",
      " [-0.96286549 -0.77697843 -0.60455061  1.3855656  -0.24845391 -0.27529773\n",
      "   2.63869045  0.53634132 -0.99435063  0.13776034  0.50295694  1.32335185]\n",
      " [-0.87886141 -2.17407795  0.25271024  2.33183164  1.03377686  0.66028926\n",
      "  -0.23113562  0.81822971  0.88590485  0.32360194  0.10879906  1.45817008]\n",
      " [-0.13645402 -0.36980238 -0.17925524 -2.12513406 -2.01769098  0.07724032\n",
      "   1.33707763 -1.83667441 -1.22991565  0.24652949 -1.49852155 -1.44739058]\n",
      " [-0.33151094 -0.59119348  0.75057001  1.59479463 -0.04985406  2.13300667\n",
      "  -0.10470139  1.22039615 -1.09522456 -0.18422275 -0.29306482 -0.26407335]\n",
      " [-0.6883192  -1.10233931  1.44343843 -0.426027   -0.51044661  0.93089711\n",
      "  -1.41797428  0.8732686  -0.78454482  1.20973412  0.57461016 -1.56367602]\n",
      " [-0.81808472 -1.57533848  0.53774358  0.93862287 -0.62555985 -1.92087593\n",
      "   0.13750245 -1.61968664  0.03634898  0.82319844 -1.46024205  0.78753056]\n",
      " [-1.47099252  0.17185165  0.1757559  -0.15673196  0.33274978  2.10185533\n",
      "   0.21452048  1.94434307 -0.00474534 -0.14505366 -0.79368674 -0.11943687]\n",
      " [ 1.10530522  0.5048282  -0.44361968  1.59534815  0.19237936 -0.93187508\n",
      "   1.04159242 -0.5121797   0.54237999 -0.6861959   0.00804345 -1.44240978]]\n",
      "dimension of rv 2\n",
      "size= 120\n",
      "type <class 'numpy.ndarray'> float64\n"
     ]
    }
   ],
   "source": [
    "rv=r.randn(10,12)\n",
    "print(rv)\n",
    "print(\"dimension of rv\",rv.ndim)\n",
    "print(\"size=\",rv.size)\n",
    "print(\"type\",type(rv),rv.dtype)\n"
   ]
  },
  {
   "cell_type": "code",
   "execution_count": 21,
   "id": "ab7ea7b5-0555-4fb4-af24-76b76034b42c",
   "metadata": {},
   "outputs": [
    {
     "name": "stdout",
     "output_type": "stream",
     "text": [
      "[[[-0.41549209 -0.43450124 -0.16463916]\n",
      "  [ 0.97986334  1.3051173  -0.3079383 ]]\n",
      "\n",
      " [[-0.11500247  0.65855871 -0.07193419]\n",
      "  [-0.62330827  0.4621535   1.11786121]]\n",
      "\n",
      " [[-1.19326422  0.1746324  -1.20423326]\n",
      "  [ 0.30673726 -1.4991644  -0.14415653]]]\n",
      "dimension of rv 3\n",
      "size= 18 (3, 2, 3)\n",
      "type <class 'numpy.ndarray'> float64\n"
     ]
    }
   ],
   "source": [
    "rv=r.randn(3,2,3)\n",
    "print(rv)\n",
    "print(\"dimension of rv\",rv.ndim)\n",
    "print(\"size=\",rv.size,rv.shape)\n",
    "print(\"type\",type(rv),rv.dtype)"
   ]
  },
  {
   "cell_type": "code",
   "execution_count": 23,
   "id": "d164c61d-97c0-47b5-9722-0e58cafc3844",
   "metadata": {},
   "outputs": [
    {
     "name": "stdout",
     "output_type": "stream",
     "text": [
      "-0.42\t-0.43\t\n",
      "0.98\t1.31\t\n",
      "\n",
      "-0.12\t0.66\t\n",
      "-0.62\t0.46\t\n",
      "\n",
      "-1.19\t0.17\t\n",
      "0.31\t-1.5\t\n",
      "\n"
     ]
    }
   ],
   "source": [
    "for mn in range(len(rv)):\n",
    "    for rn in range(len(rv[0])):\n",
    "        for rk in range(len(rv[0])):\n",
    "            print(round(rv[mn,rn,rk],2),end=\"\\t\")\n",
    "        print()\n",
    "    print()"
   ]
  },
  {
   "cell_type": "code",
   "execution_count": 27,
   "id": "2dba9601-5ca2-4c8f-81e1-0f92b32c39c1",
   "metadata": {},
   "outputs": [
    {
     "name": "stdout",
     "output_type": "stream",
     "text": [
      "1.3544793414529719\n"
     ]
    }
   ],
   "source": [
    "#Syntax-1: numpy.random.normal()\n",
    "#Syntax-2: numpy.random.normal(loc=0.0,scale=1.0)\n",
    "import numpy.random as r\n",
    "rv=r.normal()\n",
    "print(rv)"
   ]
  },
  {
   "cell_type": "code",
   "execution_count": 41,
   "id": "c7db68a1-3344-433f-82e2-41519f18bf4b",
   "metadata": {},
   "outputs": [
    {
     "name": "stdout",
     "output_type": "stream",
     "text": [
      "-0.9771468387824123\n"
     ]
    }
   ],
   "source": [
    "import numpy.random as r\n",
    "rv=r.normal(2,5)\n",
    "print(rv)"
   ]
  },
  {
   "cell_type": "code",
   "execution_count": 39,
   "id": "83f494da-fc27-4692-8ae5-9df84749ddc0",
   "metadata": {},
   "outputs": [
    {
     "name": "stdout",
     "output_type": "stream",
     "text": [
      "[ 3.75951746  4.19884769 -0.2642693   4.75139052  8.43647244]\n",
      "shape= (5,)\n",
      "the dimension = 1\n"
     ]
    }
   ],
   "source": [
    "import numpy.random as r\n",
    "rv=r.normal(2,5,size=5)\n",
    "print(rv)\n",
    "print(\"shape=\",rv.shape)\n",
    "print(\"the dimension =\",rv.ndim)"
   ]
  },
  {
   "cell_type": "code",
   "execution_count": 47,
   "id": "3e237f34-f51b-4d74-93b1-2481d983f29d",
   "metadata": {},
   "outputs": [
    {
     "name": "stdout",
     "output_type": "stream",
     "text": [
      "[[ 1.68042449 -8.86089573 -3.5834118 ]\n",
      " [-1.46297103  0.98527959 -1.31468188]]\n",
      "shape= (2, 3)\n",
      "the dimension = 2\n"
     ]
    }
   ],
   "source": [
    "import numpy.random as r\n",
    "rv=r.normal(2,5,size=(2,3))\n",
    "print(rv)\n",
    "print(\"shape=\",rv.shape)\n",
    "print(\"the dimension =\",rv.ndim)"
   ]
  },
  {
   "cell_type": "code",
   "execution_count": 49,
   "id": "98f92754-c36a-4288-9cbd-eee16dd89f1e",
   "metadata": {},
   "outputs": [
    {
     "name": "stdout",
     "output_type": "stream",
     "text": [
      "[[[-1.85706594  4.7005475   1.36766328 -4.52685775  8.95234601\n",
      "    1.4555623 ]\n",
      "  [ 5.18643064  3.48769533  6.03597428  6.08510173  0.86911097\n",
      "   -1.61890453]\n",
      "  [ 2.95794629  5.94268518  6.30160409 10.58812805  0.87545078\n",
      "   -1.95606179]]\n",
      "\n",
      " [[-1.06115387  5.07495392  1.4818702  -4.6873691  -0.23092688\n",
      "   -2.74457881]\n",
      "  [ 1.94818495 -0.99707717  1.27489885 -2.33649798  6.05800124\n",
      "   -2.67670073]\n",
      "  [-0.77179244  5.34800322 -1.79279193  4.06361312  0.30510557\n",
      "   -1.80649619]]]\n",
      "shape= (2, 3, 6)\n",
      "the dimension = 3\n"
     ]
    }
   ],
   "source": [
    "import numpy.random as r\n",
    "rv=r.normal(2,5,size=(2,3,6))\n",
    "print(rv)\n",
    "print(\"shape=\",rv.shape)\n",
    "print(\"the dimension =\",rv.ndim)"
   ]
  },
  {
   "cell_type": "code",
   "execution_count": 53,
   "id": "80afd34f-90ba-4f38-99c4-884a3a724fdc",
   "metadata": {},
   "outputs": [
    {
     "name": "stdout",
     "output_type": "stream",
     "text": [
      "[10 20 50 40 60 80]\n",
      "[10 20 50 40 60 80] <class 'numpy.ndarray'>\n"
     ]
    }
   ],
   "source": [
    "import numpy as np \n",
    "import numpy.random as r\n",
    "a=np.array([10,20,50,40,60,80])\n",
    "print(a)\n",
    "print(a,type(a))"
   ]
  },
  {
   "cell_type": "code",
   "execution_count": 63,
   "id": "73c69382-cdb1-47c2-b5fb-e493053c6440",
   "metadata": {},
   "outputs": [
    {
     "name": "stdout",
     "output_type": "stream",
     "text": [
      "60\n",
      "60 <class 'numpy.int32'>\n"
     ]
    }
   ],
   "source": [
    "cv=r.choice(a)\n",
    "print(cv)\n",
    "print(cv,type(cv))"
   ]
  },
  {
   "cell_type": "code",
   "execution_count": 65,
   "id": "28f028ca-5d78-4d4f-ac6a-80b08e56f962",
   "metadata": {},
   "outputs": [
    {
     "name": "stdout",
     "output_type": "stream",
     "text": [
      "n\n"
     ]
    }
   ],
   "source": [
    "a=np.array(list(\"python\"))\n",
    "cv=r.choice(a)\n",
    "print(cv)"
   ]
  },
  {
   "cell_type": "code",
   "execution_count": 72,
   "id": "20fe58d4-08e5-4286-b8c4-b3f68033e0d1",
   "metadata": {},
   "outputs": [
    {
     "name": "stdout",
     "output_type": "stream",
     "text": [
      "W <class 'numpy.str_'>\n"
     ]
    }
   ],
   "source": [
    "cv=r.choice(np.array(list(\"1234567890abcdfeghijklmnopqrstuvwxyzABCDFEGHIJKLMNOPQRSTUVWXYZ\")))\n",
    "print(cv,type(cv))"
   ]
  },
  {
   "cell_type": "code",
   "execution_count": 74,
   "id": "a65cc2c4-209a-4010-ba2a-b900213843ac",
   "metadata": {},
   "outputs": [
    {
     "name": "stdout",
     "output_type": "stream",
     "text": [
      "[10 20 30 50 20]\n"
     ]
    }
   ],
   "source": [
    "a=np.array([10,20,30,40,50])\n",
    "cv=r.choice(a,size=5)\n",
    "print(cv)"
   ]
  },
  {
   "cell_type": "code",
   "execution_count": 76,
   "id": "b6abf835-ae4b-4f2e-bd73-c7eb4dabc123",
   "metadata": {},
   "outputs": [
    {
     "name": "stdout",
     "output_type": "stream",
     "text": [
      "[[10 50 10]\n",
      " [20 10 50]]\n"
     ]
    }
   ],
   "source": [
    "a=np.array([10,20,30,40,50])\n",
    "cv=r.choice(a,size=(2,3))\n",
    "print(cv)"
   ]
  },
  {
   "cell_type": "code",
   "execution_count": 78,
   "id": "948fed17-fc15-4035-b239-f03ecb2d4e10",
   "metadata": {},
   "outputs": [
    {
     "name": "stdout",
     "output_type": "stream",
     "text": [
      "[[[30 10 20]\n",
      "  [20 40 50]]\n",
      "\n",
      " [[10 20 40]\n",
      "  [20 10 10]]\n",
      "\n",
      " [[10 30 10]\n",
      "  [30 40 20]]]\n"
     ]
    }
   ],
   "source": [
    "a=np.array([10,20,30,40,50])\n",
    "cv=r.choice(a,size=(3,2,3))\n",
    "print(cv)"
   ]
  },
  {
   "cell_type": "code",
   "execution_count": 20,
   "id": "106baaa4-2526-4191-8a1c-d968245621b3",
   "metadata": {},
   "outputs": [
    {
     "name": "stdout",
     "output_type": "stream",
     "text": [
      "Bike Plate Number = TS 66 PQ 5507\n"
     ]
    }
   ],
   "source": [
    "import numpy as np\n",
    "import random as r\n",
    "\n",
    "# Randomly selecting from predefined lists\n",
    "state_code = r.choice([\"TS\", \"AP\", \"MH\", \"KA\", \"TN\"])\n",
    "district_num = str(r.randint(0, 99)).zfill(2)  # Ensure two digits\n",
    "letters = ''.join(r.choice(\"ABCDEFGHIJKLMNOPQRSTUVWXYZ\") for _ in range(2))\n",
    "number = str(r.randint(0, 9999)).zfill(4)  # Ensure four digits\n",
    "\n",
    "# Combine all parts\n",
    "print(\"Bike Plate Number =\", state_code,district_num,letters,number)\n"
   ]
  },
  {
   "cell_type": "code",
   "execution_count": 3,
   "id": "7bef5a0b-58d8-45ea-9bf3-b4570a91b241",
   "metadata": {},
   "outputs": [
    {
     "name": "stdout",
     "output_type": "stream",
     "text": [
      "Original Content of ndarray\n",
      "[0 1 2 3 4 5 6 7 8 9]\n",
      "----------------------------------------\n",
      "Shuffled  Content of ndarray\n",
      "[1 9 8 2 7 3 4 5 0 6]\n"
     ]
    }
   ],
   "source": [
    "import numpy as np\n",
    "from numpy import random as r\n",
    "a=np.arange(10)\n",
    "print(\"Original Content of ndarray\")\n",
    "print(a)\n",
    "print(\"----------------------------------------\")\n",
    "r.shuffle(a)\n",
    "print(\"Shuffled  Content of ndarray\")\n",
    "print(a)"
   ]
  },
  {
   "cell_type": "code",
   "execution_count": 5,
   "id": "4e670cd8-b539-4963-9162-46a9efd27cdd",
   "metadata": {},
   "outputs": [
    {
     "name": "stdout",
     "output_type": "stream",
     "text": [
      "Original Content of ndarray\n",
      "[0 1 2 3 4 5 6 7 8 9] 1928185447792\n",
      "----------------------------------------\n",
      "Shuffled  Content of ndarray\n",
      "[3 7 1 0 4 9 5 8 2 6] 1928185447792\n"
     ]
    }
   ],
   "source": [
    "a=np.arange(10)\n",
    "print(\"Original Content of ndarray\")\n",
    "print(a,id(a))\n",
    "print(\"----------------------------------------\")\n",
    "r.shuffle(a)\n",
    "print(\"Shuffled  Content of ndarray\")\n",
    "print(a,id(a))"
   ]
  },
  {
   "cell_type": "code",
   "execution_count": 8,
   "id": "ae224cb4-eacb-4156-900c-a4846e5df5bb",
   "metadata": {},
   "outputs": [
    {
     "name": "stdout",
     "output_type": "stream",
     "text": [
      "Original Content of ndarray\n",
      "[0 1 2 3 4 5 6 7 8 9]\n",
      "----------------------------------------\n",
      "Combination:1-->[4 5 7 2 8 9 6 3 1 0]\n",
      "Combination:2-->[1 8 9 3 5 6 2 7 0 4]\n",
      "Combination:3-->[2 8 3 0 5 9 6 7 4 1]\n",
      "Combination:4-->[0 5 1 7 6 2 8 3 9 4]\n",
      "Combination:5-->[3 0 1 4 2 8 6 9 7 5]\n",
      "Combination:6-->[0 1 9 4 5 8 7 2 3 6]\n",
      "Combination:7-->[1 3 9 7 4 5 2 0 8 6]\n",
      "Combination:8-->[6 9 2 5 1 4 7 3 8 0]\n",
      "Combination:9-->[8 3 2 0 4 6 9 1 5 7]\n",
      "Combination:10-->[9 8 5 7 4 1 0 3 6 2]\n",
      "----------------------------------------\n"
     ]
    }
   ],
   "source": [
    "#what are various shuffled Values of ndarray\n",
    "a=np.arange(10)\n",
    "print(\"Original Content of ndarray\")\n",
    "print(a)\n",
    "print(\"----------------------------------------\")\n",
    "for i in range(1,len(a)+1):\n",
    "    r.shuffle(a)\n",
    "    print(\"Combination:{}-->{}\".format(i,a))\n",
    "print(\"----------------------------------------\")"
   ]
  },
  {
   "cell_type": "code",
   "execution_count": 14,
   "id": "2914cbe6-58b3-4129-af09-2ff940c215b8",
   "metadata": {},
   "outputs": [
    {
     "name": "stdout",
     "output_type": "stream",
     "text": [
      "----------------------------------\n",
      "Original Matrix\n",
      "----------------------------------\n",
      "[[82 87 66 18 45]\n",
      " [ 1  8 50 83 41]\n",
      " [17 93 24 57 43]\n",
      " [54 54 56 96 47]\n",
      " [87 26 42 73 10]\n",
      " [61 67 30 78 20]]\n",
      "----------------------------------\n",
      "ReShuffled  Matrix\n",
      "----------------------------------\n",
      "[[ 1  8 50 83 41]\n",
      " [17 93 24 57 43]\n",
      " [87 26 42 73 10]\n",
      " [61 67 30 78 20]\n",
      " [54 54 56 96 47]\n",
      " [82 87 66 18 45]]\n",
      "----------------------------------\n"
     ]
    }
   ],
   "source": [
    "#Shuffling 2-D Data\n",
    "a=r.randint(1,101,size=(6,5))\n",
    "print(\"----------------------------------\")\n",
    "print(\"Original Matrix\")\n",
    "print(\"----------------------------------\")\n",
    "print(a)\n",
    "print(\"----------------------------------\")\n",
    "print(\"ReShuffled  Matrix\")\n",
    "print(\"----------------------------------\")\n",
    "r.shuffle(a)\n",
    "print(a)\n",
    "print(\"----------------------------------\")"
   ]
  },
  {
   "cell_type": "code",
   "execution_count": 16,
   "id": "6b667931-9336-400a-9d1e-13cfd9416ed6",
   "metadata": {},
   "outputs": [
    {
     "name": "stdout",
     "output_type": "stream",
     "text": [
      "Original array before permutation\n",
      "[10 20 30 40 50 60 70]\n",
      "-------------------------------\n",
      "ReShuffled  Array\n",
      "[70 20 40 30 50 10 60]\n",
      "-------------------------------\n",
      "Original array after permutation\n"
     ]
    }
   ],
   "source": [
    "#Another Function for Re-arranging th Elements--permutation()\n",
    "a=np.array([10,20,30,40,50,60,70])\n",
    "print(\"Original array before permutation\")\n",
    "print(a)\n",
    "print(\"-------------------------------\")\n",
    "b=r.permutation(a)\n",
    "print(\"ReShuffled  Array\")\n",
    "print(b)\n",
    "print(\"-------------------------------\")\n",
    "print(\"Original array after permutation\")"
   ]
  },
  {
   "cell_type": "code",
   "execution_count": 18,
   "id": "a5c6e58a-0f68-40bb-a113-f37ac4cfdda5",
   "metadata": {},
   "outputs": [
    {
     "name": "stdout",
     "output_type": "stream",
     "text": [
      "Original array before permutation\n",
      "[10 20 30 40 50 60 70]\n",
      "-------------------------------\n",
      "Val of b= None\n",
      "-------------------------------\n",
      "Original array after Shuffle\n",
      "[40 30 70 60 50 10 20]\n"
     ]
    }
   ],
   "source": [
    "a=np.array([10,20,30,40,50,60,70])\n",
    "print(\"Original array before permutation\")\n",
    "print(a)\n",
    "print(\"-------------------------------\")\n",
    "b=r.shuffle(a)\n",
    "print(\"Val of b=\",b)\n",
    "print(\"-------------------------------\")\n",
    "print(\"Original array after Shuffle\")\n",
    "print(a)"
   ]
  },
  {
   "cell_type": "code",
   "execution_count": null,
   "id": "127e49cd-0729-47a0-9557-d66e8dfe30eb",
   "metadata": {},
   "outputs": [],
   "source": []
  }
 ],
 "metadata": {
  "kernelspec": {
   "display_name": "Python [conda env:base] *",
   "language": "python",
   "name": "conda-base-py"
  },
  "language_info": {
   "codemirror_mode": {
    "name": "ipython",
    "version": 3
   },
   "file_extension": ".py",
   "mimetype": "text/x-python",
   "name": "python",
   "nbconvert_exporter": "python",
   "pygments_lexer": "ipython3",
   "version": "3.12.7"
  }
 },
 "nbformat": 4,
 "nbformat_minor": 5
}
