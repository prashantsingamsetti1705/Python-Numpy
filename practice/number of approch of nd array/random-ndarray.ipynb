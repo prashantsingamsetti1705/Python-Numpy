{
 "cells": [
  {
   "cell_type": "code",
   "execution_count": 1,
   "id": "ff2535d2-0ef4-4513-821d-7cecc5d28074",
   "metadata": {},
   "outputs": [],
   "source": [
    "#random module of numpy \n",
    "#randint(),rand(),unifrom(),rand(),normal(),shuffle(),choice()"
   ]
  },
  {
   "cell_type": "code",
   "execution_count": 3,
   "id": "45db6522-0fa6-4954-9886-d4aa8db20f16",
   "metadata": {},
   "outputs": [
    {
     "name": "stdout",
     "output_type": "stream",
     "text": [
      "0\n"
     ]
    }
   ],
   "source": [
    "import numpy.random as nr\n",
    "a=nr.randint(3)\n",
    "print(a)"
   ]
  },
  {
   "cell_type": "code",
   "execution_count": 11,
   "id": "18a38cbb-9575-4e27-b1b8-6d7edb2ee8f4",
   "metadata": {},
   "outputs": [
    {
     "name": "stdout",
     "output_type": "stream",
     "text": [
      "34\n"
     ]
    }
   ],
   "source": [
    "a=nr.randint(3,100)\n",
    "print(a)"
   ]
  },
  {
   "cell_type": "code",
   "execution_count": 21,
   "id": "a9107ce7-1e64-4eed-b448-e259054deb47",
   "metadata": {},
   "outputs": [
    {
     "name": "stdout",
     "output_type": "stream",
     "text": [
      "[59 46  9  6 99]\n"
     ]
    }
   ],
   "source": [
    "a=nr.randint(3,100,size=5)\n",
    "print(a)"
   ]
  },
  {
   "cell_type": "code",
   "execution_count": 29,
   "id": "240fea5e-2e0d-43ef-9522-c51d58390936",
   "metadata": {},
   "outputs": [
    {
     "name": "stdout",
     "output_type": "stream",
     "text": [
      "[[[34 93  6 71]\n",
      "  [48 60 84 27]\n",
      "  [28 67 32 10]]\n",
      "\n",
      " [[95 29 71 61]\n",
      "  [12 59 78 12]\n",
      "  [28 62 31 95]]]\n",
      "(2, 3, 4)\n",
      "3\n",
      "<class 'numpy.ndarray'> int32\n"
     ]
    }
   ],
   "source": [
    "import numpy.random as nr\n",
    "a=nr.randint(3,100,size=(2,3,4))\n",
    "print(a)\n",
    "print(a.shape)\n",
    "print(a.ndim)\n",
    "print(type(a),a.dtype)"
   ]
  },
  {
   "cell_type": "code",
   "execution_count": 31,
   "id": "2f1ad110-859e-4bec-8c47-4d5a785f49cc",
   "metadata": {},
   "outputs": [
    {
     "name": "stdout",
     "output_type": "stream",
     "text": [
      "[0.69636029 0.51975141 0.54366103 0.01370554 0.05500806]\n"
     ]
    }
   ],
   "source": [
    "a=nr.rand(5)\n",
    "print(a)"
   ]
  },
  {
   "cell_type": "code",
   "execution_count": 33,
   "id": "db0f9d2c-9926-42fb-acdd-793442b45572",
   "metadata": {},
   "outputs": [
    {
     "name": "stdout",
     "output_type": "stream",
     "text": [
      "[0.35587134]\n"
     ]
    }
   ],
   "source": [
    "a=nr.rand(1)\n",
    "print(a)"
   ]
  },
  {
   "cell_type": "code",
   "execution_count": 43,
   "id": "1c0c3981-bab5-45c3-99ee-270151401898",
   "metadata": {},
   "outputs": [
    {
     "name": "stdout",
     "output_type": "stream",
     "text": [
      "[0.60463677 0.01038916 0.79894013 0.3067396  0.33540404] the dimension is= 1\n",
      "<class 'numpy.ndarray'> float64\n"
     ]
    }
   ],
   "source": [
    "a=nr.rand(5)\n",
    "print(a,\"the dimension is=\",a.ndim)\n",
    "print(type(a),a.dtype)"
   ]
  },
  {
   "cell_type": "code",
   "execution_count": 45,
   "id": "e91a5c86-8540-44f8-8d20-d696216f1a23",
   "metadata": {},
   "outputs": [
    {
     "name": "stdout",
     "output_type": "stream",
     "text": [
      "[[0.3633146  0.7373183  0.75882707 0.28865896 0.0282419 ]\n",
      " [0.23955891 0.4878744  0.56484978 0.16207759 0.31123202]\n",
      " [0.27384945 0.65151072 0.80152341 0.27688448 0.92513292]] the dimension is= 2\n",
      "<class 'numpy.ndarray'> float64\n"
     ]
    }
   ],
   "source": [
    "a=nr.rand(3,5)\n",
    "print(a,\"the dimension is=\",a.ndim)\n",
    "print(type(a),a.dtype)"
   ]
  },
  {
   "cell_type": "code",
   "execution_count": 47,
   "id": "0eae8ba0-8a3d-4998-a651-ed60d927e713",
   "metadata": {},
   "outputs": [
    {
     "name": "stdout",
     "output_type": "stream",
     "text": [
      "[[[0.09732936 0.15166604 0.95394015 0.67255668 0.202586  ]\n",
      "  [0.84390823 0.83072295 0.20556849 0.1914388  0.82821653]\n",
      "  [0.39853922 0.01271931 0.38847064 0.99550427 0.58963158]]\n",
      "\n",
      " [[0.3369694  0.38749618 0.12965038 0.87179696 0.63420302]\n",
      "  [0.67992636 0.47572228 0.16392226 0.08550085 0.01989175]\n",
      "  [0.66697532 0.4224215  0.00374668 0.4400353  0.98595543]]] the dimension is= 3\n",
      "<class 'numpy.ndarray'> float64\n"
     ]
    }
   ],
   "source": [
    "a=nr.rand(2,3,5)\n",
    "print(a,\"the dimension is=\",a.ndim)\n",
    "print(type(a),a.dtype)"
   ]
  },
  {
   "cell_type": "code",
   "execution_count": 71,
   "id": "b0cfa63b-30f4-4309-bc50-b0fcf956dd86",
   "metadata": {},
   "outputs": [
    {
     "name": "stdout",
     "output_type": "stream",
     "text": [
      "[[[0.77184929 0.31262299 0.68331546 0.17409765 0.46897529]\n",
      "  [0.23335072 0.95868042 0.50057014 0.27569119 0.50898376]\n",
      "  [0.51876361 0.1980502  0.88952176 0.9319254  0.203578  ]\n",
      "  [0.22186303 0.58990554 0.45043388 0.22702011 0.82670265]]\n",
      "\n",
      " [[0.52487645 0.45740215 0.83476841 0.84087008 0.3912763 ]\n",
      "  [0.52441182 0.3813744  0.22333214 0.27012864 0.82446354]\n",
      "  [0.67272313 0.13958024 0.24742421 0.59859383 0.31400992]\n",
      "  [0.93679894 0.6623751  0.74793942 0.91049111 0.34809514]]] the dimension is= 3\n",
      "<class 'numpy.ndarray'> float64\n",
      "0 00 10 20 3\n",
      "1 01 11 21 3\n",
      "2 02 12 22 3\n",
      "3 03 13 23 3\n"
     ]
    }
   ],
   "source": [
    "a=nr.rand(2,4,5)\n",
    "print(a,\"the dimension is=\",a.ndim)\n",
    "print(type(a),a.dtype)\n",
    "for s in range(len(a[0])):\n",
    "    for s1 in range(len(a[0])):\n",
    "        print(s,s1,end=\"\")\n",
    "    print()\n",
    "    "
   ]
  },
  {
   "cell_type": "code",
   "execution_count": 73,
   "id": "cfea6331-d953-47a3-bafa-b6ef51c36164",
   "metadata": {},
   "outputs": [
    {
     "name": "stdout",
     "output_type": "stream",
     "text": [
      "0.8062552778743464\n"
     ]
    }
   ],
   "source": [
    "#unifrom\n",
    "import numpy.random as r\n",
    "uv=r.uniform()\n",
    "print(uv)"
   ]
  },
  {
   "cell_type": "code",
   "execution_count": 75,
   "id": "4ca01fad-375b-423d-be24-20d8574f971b",
   "metadata": {},
   "outputs": [
    {
     "name": "stdout",
     "output_type": "stream",
     "text": [
      "10.615339534057936\n"
     ]
    }
   ],
   "source": [
    "import numpy.random as r\n",
    "uv=r.uniform(10,11)\n",
    "print(uv)"
   ]
  },
  {
   "cell_type": "code",
   "execution_count": 77,
   "id": "b8e036ef-6a6e-4780-ac93-cc40cc7d2eee",
   "metadata": {},
   "outputs": [
    {
     "name": "stdout",
     "output_type": "stream",
     "text": [
      "[10.72918143 10.93647102 10.77054904 10.0424127  10.99288266]\n",
      "the dimension= 1\n",
      "type= <class 'numpy.ndarray'>\n",
      "size= 5\n"
     ]
    }
   ],
   "source": [
    "import numpy.random as r\n",
    "uv=r.uniform(10,11,size=5)\n",
    "print(uv)\n",
    "print(\"the dimension=\",uv.ndim)\n",
    "print(\"type=\",type(uv))\n",
    "print(\"size=\",uv.size)"
   ]
  },
  {
   "cell_type": "code",
   "execution_count": 79,
   "id": "780e06f2-600f-4419-8d33-a4924d959ae6",
   "metadata": {},
   "outputs": [
    {
     "name": "stdout",
     "output_type": "stream",
     "text": [
      "[10.02536533 10.02975489 10.52027487 10.50844662 10.37627402]\n",
      "the dimension= 1\n",
      "type= <class 'numpy.ndarray'>\n",
      "size= 5\n",
      "dtype= float64\n",
      "shape= (5,)\n"
     ]
    }
   ],
   "source": [
    "import numpy.random as r\n",
    "uv=r.uniform(10,11,size=5)\n",
    "print(uv)\n",
    "print(\"the dimension=\",uv.ndim)\n",
    "print(\"type=\",type(uv))\n",
    "print(\"size=\",uv.size)\n",
    "print(\"dtype=\",uv.dtype)\n",
    "print(\"shape=\",uv.shape)"
   ]
  },
  {
   "cell_type": "code",
   "execution_count": 83,
   "id": "7f4bee7a-c453-423b-ba53-1fa9496c141f",
   "metadata": {},
   "outputs": [
    {
     "name": "stdout",
     "output_type": "stream",
     "text": [
      "[[10.14867376 10.8917266  10.37436874 10.26345682 10.89385455]\n",
      " [10.64927277 10.87128766 10.9242703  10.35485969 10.86198845]\n",
      " [10.51978583 10.17750028 10.00683955 10.87690795 10.20570621]]\n",
      "the dimension= 2\n",
      "type= <class 'numpy.ndarray'>\n",
      "size= 15\n",
      "dtype= float64\n",
      "shape= (3, 5)\n"
     ]
    }
   ],
   "source": [
    "import numpy.random as r\n",
    "uv=r.uniform(10,11,size=(3,5))\n",
    "print(uv)\n",
    "print(\"the dimension=\",uv.ndim)\n",
    "print(\"type=\",type(uv))\n",
    "print(\"size=\",uv.size)\n",
    "print(\"dtype=\",uv.dtype)\n",
    "print(\"shape=\",uv.shape)"
   ]
  },
  {
   "cell_type": "code",
   "execution_count": 85,
   "id": "916647f1-6993-435a-bcc5-d0bbf33910c3",
   "metadata": {},
   "outputs": [
    {
     "name": "stdout",
     "output_type": "stream",
     "text": [
      "[[[10.61347634 10.1883313  10.87606083 10.37051116 10.3957573 ]\n",
      "  [10.89631448 10.81111369 10.26449746 10.47085791 10.45641577]\n",
      "  [10.89632252 10.92389169 10.45695636 10.41585502 10.34103174]]\n",
      "\n",
      " [[10.85174821 10.80709781 10.67616467 10.19148144 10.25354671]\n",
      "  [10.09924545 10.24360599 10.91607233 10.81450356 10.85403141]\n",
      "  [10.86890369 10.53661843 10.36343452 10.70842494 10.50309835]]]\n",
      "the dimension= 3\n",
      "type= <class 'numpy.ndarray'>\n",
      "size= 30\n",
      "dtype= float64\n",
      "shape= (2, 3, 5)\n"
     ]
    }
   ],
   "source": [
    "import numpy.random as r\n",
    "uv=r.uniform(10,11,size=(2,3,5))\n",
    "print(uv)\n",
    "print(\"the dimension=\",uv.ndim)\n",
    "print(\"type=\",type(uv))\n",
    "print(\"size=\",uv.size)\n",
    "print(\"dtype=\",uv.dtype)\n",
    "print(\"shape=\",uv.shape)"
   ]
  },
  {
   "cell_type": "code",
   "execution_count": null,
   "id": "3bd98e5e-8abb-4ef3-aba4-4d2a1f087d13",
   "metadata": {},
   "outputs": [],
   "source": []
  }
 ],
 "metadata": {
  "kernelspec": {
   "display_name": "Python [conda env:base] *",
   "language": "python",
   "name": "conda-base-py"
  },
  "language_info": {
   "codemirror_mode": {
    "name": "ipython",
    "version": 3
   },
   "file_extension": ".py",
   "mimetype": "text/x-python",
   "name": "python",
   "nbconvert_exporter": "python",
   "pygments_lexer": "ipython3",
   "version": "3.12.7"
  }
 },
 "nbformat": 4,
 "nbformat_minor": 5
}
