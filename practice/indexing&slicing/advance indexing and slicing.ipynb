{
 "cells": [
  {
   "cell_type": "code",
   "execution_count": 3,
   "id": "1dff68a3-9ede-4724-be2f-7a4caa82e676",
   "metadata": {},
   "outputs": [
    {
     "name": "stdout",
     "output_type": "stream",
     "text": [
      "contrnt of a\n",
      "[10 20 30 40 50 60 70]\n"
     ]
    }
   ],
   "source": [
    "import numpy as np\n",
    "a=np.array([10,20,30,40,50,60,70])\n",
    "print(\"content of a\")\n",
    "print(a)"
   ]
  },
  {
   "cell_type": "code",
   "execution_count": 5,
   "id": "bf817c1e-185a-420c-8e3e-6983a5dbcafa",
   "metadata": {},
   "outputs": [],
   "source": [
    "#steps for adavnce indexing on 1-d\n",
    "#Step-1: Identify the Indices of Elements and taken them in Traditional object of Python or ndarray obj\n",
    "#Step-2: Pass the Traditional Object OR Ndarray Object with Idices of Elements to the NDArray Object        "
   ]
  },
  {
   "cell_type": "code",
   "execution_count": 7,
   "id": "e24e6e4b-e441-4413-811e-9234274f7e67",
   "metadata": {},
   "outputs": [
    {
     "data": {
      "text/plain": [
       "array([10, 40, 50])"
      ]
     },
     "execution_count": 7,
     "metadata": {},
     "output_type": "execute_result"
    }
   ],
   "source": [
    "lst=[0,3,4]# or #step1--tpl=(0,3,4)\n",
    "a[lst]#step2----[0,3,4]"
   ]
  },
  {
   "cell_type": "code",
   "execution_count": 9,
   "id": "39852f80-9879-4a9f-86f7-092784a404a7",
   "metadata": {},
   "outputs": [
    {
     "data": {
      "text/plain": [
       "array([10, 40, 50])"
      ]
     },
     "execution_count": 9,
     "metadata": {},
     "output_type": "execute_result"
    }
   ],
   "source": [
    "#OR\n",
    "#Step-1: Identify the Indices of 10 40 50 \n",
    "b=np.array([0,3,4]) \n",
    "#Step-2: Pass ndarray object b to ndarray object--a\n",
    "a[b]"
   ]
  },
  {
   "cell_type": "code",
   "execution_count": 11,
   "id": "e7a817de-2fbb-4a20-a645-30e821d6cd1d",
   "metadata": {},
   "outputs": [
    {
     "data": {
      "text/plain": [
       "array([10, 40, 50])"
      ]
     },
     "execution_count": 11,
     "metadata": {},
     "output_type": "execute_result"
    }
   ],
   "source": [
    "#OR\n",
    "#Examples:  I want to 10 40 50 Only by using Indexing\n",
    "a[[0,3,4]]"
   ]
  },
  {
   "cell_type": "code",
   "execution_count": 15,
   "id": "91ebc80c-b42c-4cac-b28d-ceb5e0a862e2",
   "metadata": {},
   "outputs": [
    {
     "data": {
      "text/plain": [
       "array([70, 60, 20, 10])"
      ]
     },
     "execution_count": 15,
     "metadata": {},
     "output_type": "execute_result"
    }
   ],
   "source": [
    "a[[-1,-2,1,0]]"
   ]
  },
  {
   "cell_type": "code",
   "execution_count": 23,
   "id": "c6c28500-4489-4f4e-bb0f-a1db64073806",
   "metadata": {},
   "outputs": [
    {
     "name": "stdout",
     "output_type": "stream",
     "text": [
      "[ 0  1  2  3  4  5  6  7  8  9 10 11 12 13 14 15 16 17 18 19 20 21 22 23\n",
      " 24]\n"
     ]
    }
   ],
   "source": [
    "a=np.arange(0,25)\n",
    "print(a)"
   ]
  },
  {
   "cell_type": "code",
   "execution_count": 27,
   "id": "77096aa7-1df6-4cfe-969a-336eb3eedc13",
   "metadata": {},
   "outputs": [
    {
     "data": {
      "text/plain": [
       "array([ 0,  9, 12, 14, 23])"
      ]
     },
     "execution_count": 27,
     "metadata": {},
     "output_type": "execute_result"
    }
   ],
   "source": [
    "a[[0,9,12,14,23]]"
   ]
  },
  {
   "cell_type": "code",
   "execution_count": 29,
   "id": "b461f217-50a6-490d-b50a-912c851e354a",
   "metadata": {},
   "outputs": [
    {
     "name": "stdout",
     "output_type": "stream",
     "text": [
      "[54 90 94 29 39  8 46 91 55 42 97 32  9 47 12 82 66 26  9 98 58 56 18 20\n",
      " 91]\n"
     ]
    }
   ],
   "source": [
    "a=np.random.randint(1,100,size=25)\n",
    "print(a)"
   ]
  },
  {
   "cell_type": "code",
   "execution_count": 35,
   "id": "062bee2d-d955-42dd-a52c-4034888cbe89",
   "metadata": {},
   "outputs": [
    {
     "name": "stdout",
     "output_type": "stream",
     "text": [
      "0 --------> 54\n",
      "1 --------> 90\n",
      "2 --------> 94\n",
      "3 --------> 29\n",
      "4 --------> 39\n",
      "5 --------> 8\n",
      "6 --------> 46\n",
      "7 --------> 91\n",
      "8 --------> 55\n",
      "9 --------> 42\n",
      "10 --------> 97\n",
      "11 --------> 32\n",
      "12 --------> 9\n",
      "13 --------> 47\n",
      "14 --------> 12\n",
      "15 --------> 82\n",
      "16 --------> 66\n",
      "17 --------> 26\n",
      "18 --------> 9\n",
      "19 --------> 98\n",
      "20 --------> 58\n",
      "21 --------> 56\n",
      "22 --------> 18\n",
      "23 --------> 20\n",
      "24 --------> 91\n"
     ]
    }
   ],
   "source": [
    "for index,value in enumerate(a):\n",
    "    print(index,\"-------->\",value)"
   ]
  },
  {
   "cell_type": "code",
   "execution_count": 37,
   "id": "75d12677-1800-4f4a-b71c-944f55061bd9",
   "metadata": {},
   "outputs": [
    {
     "data": {
      "text/plain": [
       "array([ 8, 20,  8])"
      ]
     },
     "execution_count": 37,
     "metadata": {},
     "output_type": "execute_result"
    }
   ],
   "source": [
    "a[[5,23,5]]"
   ]
  },
  {
   "cell_type": "code",
   "execution_count": 39,
   "id": "6cf49dba-5d52-4e78-a2bb-c58b71570c8a",
   "metadata": {},
   "outputs": [
    {
     "name": "stdout",
     "output_type": "stream",
     "text": [
      "[[17 68 45 35 47]\n",
      " [39 44  1 21 20]\n",
      " [71 37 65 60 85]\n",
      " [57 72  5  7 90]\n",
      " [77 78 31 38 81]]\n"
     ]
    }
   ],
   "source": [
    "a=np.random.randint(1,100,size=(5,5))\n",
    "print(a)"
   ]
  },
  {
   "cell_type": "code",
   "execution_count": 45,
   "id": "2215dc84-9e63-455a-84b4-1d2daf8128c1",
   "metadata": {},
   "outputs": [
    {
     "data": {
      "text/plain": [
       "17"
      ]
     },
     "execution_count": 45,
     "metadata": {},
     "output_type": "execute_result"
    }
   ],
   "source": [
    "a[(0,0)]"
   ]
  },
  {
   "cell_type": "code",
   "execution_count": 73,
   "id": "ce2b9e45-660e-4b23-8f86-5ad5350b4272",
   "metadata": {},
   "outputs": [
    {
     "data": {
      "text/plain": [
       "array([17,  1])"
      ]
     },
     "execution_count": 73,
     "metadata": {},
     "output_type": "execute_result"
    }
   ],
   "source": [
    "a[(0,1),(0,2)]"
   ]
  },
  {
   "cell_type": "code",
   "execution_count": 75,
   "id": "54ac6163-ccda-4c3c-95d1-a82272b281fc",
   "metadata": {},
   "outputs": [
    {
     "data": {
      "text/plain": [
       "array([68, 44, 37])"
      ]
     },
     "execution_count": 75,
     "metadata": {},
     "output_type": "execute_result"
    }
   ],
   "source": [
    "a[(0,1,2),(1,1,1)]"
   ]
  },
  {
   "cell_type": "code",
   "execution_count": 77,
   "id": "3198948c-989c-43ad-a8ea-336869d276e9",
   "metadata": {},
   "outputs": [
    {
     "name": "stdout",
     "output_type": "stream",
     "text": [
      "[[40 20 74 61 90]\n",
      " [67 66  6 19 85]\n",
      " [80 91 37 41 52]\n",
      " [20 81 84 19 39]\n",
      " [79 74 68 83 97]]\n"
     ]
    }
   ],
   "source": [
    "a=np.random.randint(1,100,size=(5,5))\n",
    "print(a)"
   ]
  },
  {
   "cell_type": "code",
   "execution_count": 79,
   "id": "56b7cced-4865-47fa-811d-8955c2c4cd7b",
   "metadata": {},
   "outputs": [
    {
     "data": {
      "text/plain": [
       "array([74, 41, 39])"
      ]
     },
     "execution_count": 79,
     "metadata": {},
     "output_type": "execute_result"
    }
   ],
   "source": [
    "a[(0,2,3),(2,3,4)]"
   ]
  },
  {
   "cell_type": "code",
   "execution_count": 81,
   "id": "2236adad-e2ca-44c9-a6ae-37d0a87745b4",
   "metadata": {},
   "outputs": [
    {
     "name": "stdout",
     "output_type": "stream",
     "text": [
      "[[[49 22 20 39 53]\n",
      "  [80 55 46 67  2]\n",
      "  [55 60 59 41 53]\n",
      "  [80 24  6 43 13]\n",
      "  [84 47  3 58 97]]\n",
      "\n",
      " [[68 29 18 90 23]\n",
      "  [48 39 88  8 21]\n",
      "  [10 82 17 16  5]\n",
      "  [67 26 23 57 21]\n",
      "  [60 96 18 12 30]]]\n"
     ]
    }
   ],
   "source": [
    "a=np.random.randint(1,100,size=(2,5,5))\n",
    "print(a)"
   ]
  },
  {
   "cell_type": "code",
   "execution_count": 83,
   "id": "3cef2afe-4d8b-4550-853b-d24eb0e12f38",
   "metadata": {},
   "outputs": [
    {
     "data": {
      "text/plain": [
       "array([55, 60])"
      ]
     },
     "execution_count": 83,
     "metadata": {},
     "output_type": "execute_result"
    }
   ],
   "source": [
    "a[[0,1],[2,4],[0,0]]"
   ]
  },
  {
   "cell_type": "code",
   "execution_count": null,
   "id": "e531729b-1e5e-497c-b73e-6c0916b662a3",
   "metadata": {},
   "outputs": [],
   "source": []
  }
 ],
 "metadata": {
  "kernelspec": {
   "display_name": "Python [conda env:base] *",
   "language": "python",
   "name": "conda-base-py"
  },
  "language_info": {
   "codemirror_mode": {
    "name": "ipython",
    "version": 3
   },
   "file_extension": ".py",
   "mimetype": "text/x-python",
   "name": "python",
   "nbconvert_exporter": "python",
   "pygments_lexer": "ipython3",
   "version": "3.12.7"
  }
 },
 "nbformat": 4,
 "nbformat_minor": 5
}
