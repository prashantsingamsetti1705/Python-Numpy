{
 "cells": [
  {
   "cell_type": "code",
   "execution_count": 3,
   "id": "ff2535d2-0ef4-4513-821d-7cecc5d28074",
   "metadata": {},
   "outputs": [
    {
     "name": "stdout",
     "output_type": "stream",
     "text": [
      "--------------------------------------------------\n",
      "content of a\n",
      "[10 20 30 40 50 60]\n",
      "dimension of a= 1\n",
      "shape os a= (6,)\n",
      "size of a = 6\n",
      "--------------------------------------------------\n"
     ]
    }
   ],
   "source": [
    "import numpy as np\n",
    "a=np.array([10,20,30,40,50,60])\n",
    "print(\"-\"*50)\n",
    "print(\"content of a\")\n",
    "print(a)\n",
    "print(\"dimension of a=\",a.ndim)\n",
    "print(\"shape os a=\",a.shape)\n",
    "print(\"size of a =\",a.size)\n",
    "print(\"-\"*50)\n"
   ]
  },
  {
   "cell_type": "code",
   "execution_count": 5,
   "id": "a4d392fc-0d09-4268-9a20-852333cd60c3",
   "metadata": {},
   "outputs": [
    {
     "data": {
      "text/plain": [
       "10"
      ]
     },
     "execution_count": 5,
     "metadata": {},
     "output_type": "execute_result"
    }
   ],
   "source": [
    "#get the value of 10 ndaarray obj \n",
    "a[0]"
   ]
  },
  {
   "cell_type": "code",
   "execution_count": 13,
   "id": "52b5fa58-009d-4c73-ba15-5ac9fea14aab",
   "metadata": {},
   "outputs": [
    {
     "data": {
      "text/plain": [
       "20"
      ]
     },
     "execution_count": 13,
     "metadata": {},
     "output_type": "execute_result"
    }
   ],
   "source": [
    "#get value of 20 from nd array object a\n",
    "a[1]"
   ]
  },
  {
   "cell_type": "code",
   "execution_count": 11,
   "id": "1f595342-d60f-4652-a1a5-e3b29b017c9e",
   "metadata": {},
   "outputs": [
    {
     "data": {
      "text/plain": [
       "60"
      ]
     },
     "execution_count": 11,
     "metadata": {},
     "output_type": "execute_result"
    }
   ],
   "source": [
    "a[-1]"
   ]
  },
  {
   "cell_type": "code",
   "execution_count": null,
   "id": "cc3c9230-452c-46c4-8785-c3c6d1f014a8",
   "metadata": {},
   "outputs": [],
   "source": [
    "#Basic Indexing in 2-D(Matrix)---Obtains Single Element\n",
    "#Syntax-1: ndarraytobj[RowIndex,ColIndex]\n",
    "#Syntax-2: ndarraytobj[RowIndex][ColIndex]\n",
    "# Here RowIndex and ColIndex can be either +ve or -ve"
   ]
  },
  {
   "cell_type": "code",
   "execution_count": 63,
   "id": "ad0c4f38-7a4d-46b0-8335-d3c8e38d9102",
   "metadata": {},
   "outputs": [
    {
     "name": "stdout",
     "output_type": "stream",
     "text": [
      "-------------------------------------------------\n",
      "Content of a\n",
      "[[10 20 30 40]\n",
      " [50 60 70 80]\n",
      " [90 15 25 35]]\n",
      "Dimension of a= 2\n",
      "Shape of a= (3, 4)\n",
      "Size of a= 12\n",
      "-------------------------------------------------\n"
     ]
    }
   ],
   "source": [
    "a=np.array([10,20,30,40,50,60,70,80,90,15,25,35]).reshape(3,4)\n",
    "print(\"-------------------------------------------------\")\n",
    "print(\"Content of a\")\n",
    "print(a)\n",
    "print(\"Dimension of a=\",a.ndim)\n",
    "print(\"Shape of a=\",a.shape)\n",
    "print(\"Size of a=\",a.size)\n",
    "print(\"-------------------------------------------------\")"
   ]
  },
  {
   "cell_type": "code",
   "execution_count": 65,
   "id": "7ed788af-018a-4931-8929-3addd30e9f05",
   "metadata": {},
   "outputs": [
    {
     "data": {
      "text/plain": [
       "60"
      ]
     },
     "execution_count": 65,
     "metadata": {},
     "output_type": "execute_result"
    }
   ],
   "source": [
    "#get the element 60\n",
    "a[1,1]"
   ]
  },
  {
   "cell_type": "code",
   "execution_count": 29,
   "id": "2bab3544-137b-4078-9321-32eb6abf03df",
   "metadata": {},
   "outputs": [
    {
     "data": {
      "text/plain": [
       "20"
      ]
     },
     "execution_count": 29,
     "metadata": {},
     "output_type": "execute_result"
    }
   ],
   "source": [
    "#get the element 20\n",
    "a[-3,-3]"
   ]
  },
  {
   "cell_type": "code",
   "execution_count": 31,
   "id": "0285f676-a960-4924-aa94-83d0b90a11a6",
   "metadata": {},
   "outputs": [
    {
     "data": {
      "text/plain": [
       "20"
      ]
     },
     "execution_count": 31,
     "metadata": {},
     "output_type": "execute_result"
    }
   ],
   "source": [
    "a[0,-3]"
   ]
  },
  {
   "cell_type": "code",
   "execution_count": 33,
   "id": "dbbc9ed9-c819-49c1-9445-bcbcac4afdad",
   "metadata": {},
   "outputs": [
    {
     "name": "stdout",
     "output_type": "stream",
     "text": [
      "-------------------------------------------------\n",
      "Content of a\n",
      "[[10 20 30 40]\n",
      " [50 60 70 80]\n",
      " [90 15 25 35]]\n",
      "Dimension of a= 2\n",
      "Shape of a= (3, 4)\n",
      "Size of a= 12\n",
      "-------------------------------------------------\n"
     ]
    }
   ],
   "source": [
    "a=np.array([10,20,30,40,50,60,70,80,90,15,25,35]).reshape(3,4)\n",
    "print(\"-------------------------------------------------\")\n",
    "print(\"Content of a\")\n",
    "print(a)\n",
    "print(\"Dimension of a=\",a.ndim)\n",
    "print(\"Shape of a=\",a.shape)\n",
    "print(\"Size of a=\",a.size)\n",
    "print(\"-------------------------------------------------\")"
   ]
  },
  {
   "cell_type": "code",
   "execution_count": 35,
   "id": "baf8da07-a313-481e-99e3-0ee0b60c386f",
   "metadata": {},
   "outputs": [
    {
     "data": {
      "text/plain": [
       "array([10, 20, 30, 40])"
      ]
     },
     "execution_count": 35,
     "metadata": {},
     "output_type": "execute_result"
    }
   ],
   "source": [
    "#get Complete Row [10,20,30,40] by using Indexing\n",
    "a[0]"
   ]
  },
  {
   "cell_type": "code",
   "execution_count": 37,
   "id": "a45a1452-4045-40a9-98c5-2e74502a7ad8",
   "metadata": {},
   "outputs": [
    {
     "data": {
      "text/plain": [
       "array([90, 15, 25, 35])"
      ]
     },
     "execution_count": 37,
     "metadata": {},
     "output_type": "execute_result"
    }
   ],
   "source": [
    "#get Complete Row [90,15,25,35] by using Indexing\n",
    "a[2]"
   ]
  },
  {
   "cell_type": "code",
   "execution_count": 39,
   "id": "9fee1767-caa6-4efa-8bbf-de2f0e4fac5d",
   "metadata": {},
   "outputs": [
    {
     "data": {
      "text/plain": [
       "array([90, 15, 25, 35])"
      ]
     },
     "execution_count": 39,
     "metadata": {},
     "output_type": "execute_result"
    }
   ],
   "source": [
    "#get Complete Row [90,15,25,35] by using Indexing\n",
    "a[-1]"
   ]
  },
  {
   "cell_type": "code",
   "execution_count": 67,
   "id": "16af823f-c373-4699-8fe1-1e33438f72ba",
   "metadata": {},
   "outputs": [],
   "source": [
    "#Basic Indexing in n-D(MatrixNumber, Rows, Cols)---Obtains Single Element\n",
    "#Syntax-1: ndarraytobj[MatrixIndex,RowIndex,ColIndex]\n",
    "#Syntax-2: ndarraytobj[MatrixIndex][RowIndex][ColIndex]\n",
    "#Syntax-3: ndarraytobj[MatrixIndex,RowIndex][ColIndex]\n",
    "# Here Matrix Index , RowIndex and ColIndex can be either +ve or -ve"
   ]
  },
  {
   "cell_type": "code",
   "execution_count": 69,
   "id": "bdd661e5-d04c-42df-8c53-5e2c60b88587",
   "metadata": {},
   "outputs": [
    {
     "name": "stdout",
     "output_type": "stream",
     "text": [
      "-------------------------------------------------\n",
      "Content of a\n",
      "[[[10 20]\n",
      "  [30 40]\n",
      "  [50 60]]\n",
      "\n",
      " [[70 80]\n",
      "  [90 15]\n",
      "  [25 35]]]\n",
      "Dimension of a= 3\n",
      "Shape of a= (2, 3, 2)\n",
      "Size of a= 12\n",
      "-------------------------------------------------\n"
     ]
    }
   ],
   "source": [
    "a=np.array([10,20,30,40,50,60,70,80,90,15,25,35]).reshape(2,3,2)\n",
    "print(\"-------------------------------------------------\")\n",
    "print(\"Content of a\")\n",
    "print(a)\n",
    "print(\"Dimension of a=\",a.ndim)\n",
    "print(\"Shape of a=\",a.shape)\n",
    "print(\"Size of a=\",a.size)\n",
    "print(\"-------------------------------------------------\")"
   ]
  },
  {
   "cell_type": "code",
   "execution_count": 71,
   "id": "08a535e7-319b-4780-a326-5c69689e8f41",
   "metadata": {},
   "outputs": [
    {
     "data": {
      "text/plain": [
       "40"
      ]
     },
     "execution_count": 71,
     "metadata": {},
     "output_type": "execute_result"
    }
   ],
   "source": [
    "#get the element 40\n",
    "a[0,1,1]"
   ]
  },
  {
   "cell_type": "code",
   "execution_count": 81,
   "id": "de7f71bc-1366-49f9-9a90-3cf6df268c1e",
   "metadata": {},
   "outputs": [
    {
     "data": {
      "text/plain": [
       "25"
      ]
     },
     "execution_count": 81,
     "metadata": {},
     "output_type": "execute_result"
    }
   ],
   "source": [
    "#get the element 25\n",
    "a[1,2,0]"
   ]
  },
  {
   "cell_type": "code",
   "execution_count": 83,
   "id": "ae901a17-50f2-4476-8ecb-256b77ae2a9f",
   "metadata": {},
   "outputs": [
    {
     "data": {
      "text/plain": [
       "70"
      ]
     },
     "execution_count": 83,
     "metadata": {},
     "output_type": "execute_result"
    }
   ],
   "source": [
    "#get the element 70\n",
    "a[1,0,0]"
   ]
  },
  {
   "cell_type": "code",
   "execution_count": 85,
   "id": "17817676-abec-4987-96b6-45e0b5963845",
   "metadata": {},
   "outputs": [
    {
     "data": {
      "text/plain": [
       "array([[10, 20],\n",
       "       [30, 40],\n",
       "       [50, 60]])"
      ]
     },
     "execution_count": 85,
     "metadata": {},
     "output_type": "execute_result"
    }
   ],
   "source": [
    "#get the element 1st matrix\n",
    "a[0]"
   ]
  },
  {
   "cell_type": "code",
   "execution_count": 87,
   "id": "0ead087f-6d95-45ae-bd46-790afa5a69b6",
   "metadata": {},
   "outputs": [
    {
     "data": {
      "text/plain": [
       "array([[70, 80],\n",
       "       [90, 15],\n",
       "       [25, 35]])"
      ]
     },
     "execution_count": 87,
     "metadata": {},
     "output_type": "execute_result"
    }
   ],
   "source": [
    "#get the element 2nd matrix\n",
    "a[1]"
   ]
  },
  {
   "cell_type": "code",
   "execution_count": 89,
   "id": "6a9ba6d6-8753-4c72-b593-19179b6e23a4",
   "metadata": {},
   "outputs": [
    {
     "data": {
      "text/plain": [
       "90"
      ]
     },
     "execution_count": 89,
     "metadata": {},
     "output_type": "execute_result"
    }
   ],
   "source": [
    "#get the element 90\n",
    "a[-1,-2,-2]"
   ]
  },
  {
   "cell_type": "code",
   "execution_count": null,
   "id": "6c480f58-caac-428a-9f69-0d7838b2235b",
   "metadata": {},
   "outputs": [],
   "source": [
    "#get the element 35\n",
    "a[-1,2,-1]"
   ]
  }
 ],
 "metadata": {
  "kernelspec": {
   "display_name": "Python [conda env:base] *",
   "language": "python",
   "name": "conda-base-py"
  },
  "language_info": {
   "codemirror_mode": {
    "name": "ipython",
    "version": 3
   },
   "file_extension": ".py",
   "mimetype": "text/x-python",
   "name": "python",
   "nbconvert_exporter": "python",
   "pygments_lexer": "ipython3",
   "version": "3.12.7"
  }
 },
 "nbformat": 4,
 "nbformat_minor": 5
}
