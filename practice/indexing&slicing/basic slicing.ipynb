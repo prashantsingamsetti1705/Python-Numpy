{
 "cells": [
  {
   "cell_type": "code",
   "execution_count": 1,
   "id": "4b71c0a0-5441-4eb5-bd78-8dd8af5f1c2f",
   "metadata": {},
   "outputs": [],
   "source": [
    "#basic silicing on 1d array\n",
    "#syntax-1:1dndarray[start:stop:step]"
   ]
  },
  {
   "cell_type": "code",
   "execution_count": 3,
   "id": "1039f974-e369-4149-853b-13d0c3e7ae2b",
   "metadata": {},
   "outputs": [
    {
     "name": "stdout",
     "output_type": "stream",
     "text": [
      "--------------------------------------------------\n",
      "content of a\n",
      "[10 20 30 40 50 60 70 80 90 15 25 35]\n",
      "dimension of a= 1\n",
      "shape of a= (12,)\n",
      "size of a= 12\n",
      "--------------------------------------------------\n"
     ]
    }
   ],
   "source": [
    "import numpy as np\n",
    "a=np.array([10,20,30,40,50,60,70,80,90,15,25,35])\n",
    "print(\"-\"*50)\n",
    "print(\"content of a\")\n",
    "print(a)\n",
    "print(\"dimension of a=\",a.ndim)\n",
    "print(\"shape of a=\",a.shape)\n",
    "print(\"size of a=\",a.size)\n",
    "print(\"-\"*50)"
   ]
  },
  {
   "cell_type": "code",
   "execution_count": 5,
   "id": "144478b0-307f-449b-b492-cc8eea94cb8c",
   "metadata": {},
   "outputs": [
    {
     "data": {
      "text/plain": [
       "array([10, 20, 30, 40])"
      ]
     },
     "execution_count": 5,
     "metadata": {},
     "output_type": "execute_result"
    }
   ],
   "source": [
    "#+ve:+ve:+ve\n",
    "a[0:4]"
   ]
  },
  {
   "cell_type": "code",
   "execution_count": 7,
   "id": "75c1d952-4bdc-4843-a646-acd4e8987f78",
   "metadata": {},
   "outputs": [
    {
     "data": {
      "text/plain": [
       "array([], dtype=int32)"
      ]
     },
     "execution_count": 7,
     "metadata": {},
     "output_type": "execute_result"
    }
   ],
   "source": [
    "a[4:0]"
   ]
  },
  {
   "cell_type": "code",
   "execution_count": 9,
   "id": "e2da53ed-3e0d-49bf-914d-b8da7b0e4511",
   "metadata": {},
   "outputs": [
    {
     "data": {
      "text/plain": [
       "array([40, 50, 60, 70])"
      ]
     },
     "execution_count": 9,
     "metadata": {},
     "output_type": "execute_result"
    }
   ],
   "source": [
    "a[3:7]"
   ]
  },
  {
   "cell_type": "code",
   "execution_count": 11,
   "id": "7c0b2b89-c506-45e5-9001-5b8a50b3459b",
   "metadata": {},
   "outputs": [
    {
     "data": {
      "text/plain": [
       "array([10, 20, 30, 40, 50, 60, 70])"
      ]
     },
     "execution_count": 11,
     "metadata": {},
     "output_type": "execute_result"
    }
   ],
   "source": [
    "#-ve :-ve:+ve\n",
    "a[-12:-5]"
   ]
  },
  {
   "cell_type": "code",
   "execution_count": 13,
   "id": "47cb3d78-6d30-4672-a92b-51a2c5a12233",
   "metadata": {},
   "outputs": [
    {
     "data": {
      "text/plain": [
       "array([10, 30, 50, 70])"
      ]
     },
     "execution_count": 13,
     "metadata": {},
     "output_type": "execute_result"
    }
   ],
   "source": [
    "a[-12:-5:2]"
   ]
  },
  {
   "cell_type": "code",
   "execution_count": 15,
   "id": "d42f3be7-843d-48d9-9d5a-9b7ad36027a2",
   "metadata": {},
   "outputs": [
    {
     "data": {
      "text/plain": [
       "array([10, 20, 30, 40, 50, 60, 70, 80, 90, 15, 25, 35])"
      ]
     },
     "execution_count": 15,
     "metadata": {},
     "output_type": "execute_result"
    }
   ],
   "source": [
    "a[:]"
   ]
  },
  {
   "cell_type": "code",
   "execution_count": 17,
   "id": "8b3299b0-6b25-46bd-a043-d2820e00a35c",
   "metadata": {},
   "outputs": [
    {
     "data": {
      "text/plain": [
       "array([10, 20])"
      ]
     },
     "execution_count": 17,
     "metadata": {},
     "output_type": "execute_result"
    }
   ],
   "source": [
    "a[:2]"
   ]
  },
  {
   "cell_type": "code",
   "execution_count": 19,
   "id": "3c6a0edc-ee84-4d5d-b8df-c5517883422b",
   "metadata": {},
   "outputs": [
    {
     "data": {
      "text/plain": [
       "array([10, 30, 50, 70, 90, 25])"
      ]
     },
     "execution_count": 19,
     "metadata": {},
     "output_type": "execute_result"
    }
   ],
   "source": [
    "a[-100::2]"
   ]
  },
  {
   "cell_type": "code",
   "execution_count": 21,
   "id": "935b0ca2-307a-4f4a-ac7f-08b72abfedb7",
   "metadata": {},
   "outputs": [
    {
     "data": {
      "text/plain": [
       "array([10, 30, 50, 70, 90, 25])"
      ]
     },
     "execution_count": 21,
     "metadata": {},
     "output_type": "execute_result"
    }
   ],
   "source": [
    "a[:100:2]"
   ]
  },
  {
   "cell_type": "code",
   "execution_count": 23,
   "id": "7bce31ac-c834-43a3-8b30-40b3229b79a2",
   "metadata": {},
   "outputs": [
    {
     "data": {
      "text/plain": [
       "array([10, 40, 70, 15])"
      ]
     },
     "execution_count": 23,
     "metadata": {},
     "output_type": "execute_result"
    }
   ],
   "source": [
    "a[::3]"
   ]
  },
  {
   "cell_type": "code",
   "execution_count": 25,
   "id": "899c3df5-3640-4ecb-a979-4598658a193f",
   "metadata": {},
   "outputs": [
    {
     "data": {
      "text/plain": [
       "array([35, 25, 15, 90, 80, 70, 60, 50, 40, 30, 20, 10])"
      ]
     },
     "execution_count": 25,
     "metadata": {},
     "output_type": "execute_result"
    }
   ],
   "source": [
    "a[::-1]"
   ]
  },
  {
   "cell_type": "code",
   "execution_count": 27,
   "id": "33215fca-0a0d-4391-bd30-0acf1bc09b19",
   "metadata": {},
   "outputs": [
    {
     "data": {
      "text/plain": [
       "array([35, 15, 80, 60, 40, 20])"
      ]
     },
     "execution_count": 27,
     "metadata": {},
     "output_type": "execute_result"
    }
   ],
   "source": [
    "a[::-2]"
   ]
  },
  {
   "cell_type": "code",
   "execution_count": 37,
   "id": "02011c18-d6b0-411f-baf6-c186057fc5cd",
   "metadata": {},
   "outputs": [
    {
     "name": "stdout",
     "output_type": "stream",
     "text": [
      "--------------------------------------------------\n",
      "content of a \n",
      "[[10 20 30 40]\n",
      " [50 60 70 80]\n",
      " [90 15 25 35]]\n",
      "dimension of a 2\n",
      "sahpe of a= (3, 4)\n",
      "size of a= 12\n",
      "--------------------------------------------------\n"
     ]
    }
   ],
   "source": [
    "import numpy as np \n",
    "a=np.array([10,20,30,40,50,60,70,80,90,15,25,35]).reshape(3,4)\n",
    "print(\"-\"*50)\n",
    "print(\"content of a \")\n",
    "print(a)\n",
    "print(\"dimension of a\",a.ndim)\n",
    "print(\"sahpe of a=\",a.shape)\n",
    "print(\"size of a=\",a.size)\n",
    "print(\"-\"*50)"
   ]
  },
  {
   "cell_type": "code",
   "execution_count": 41,
   "id": "dda14b82-4e51-4353-9d5a-ebe8fd19092c",
   "metadata": {},
   "outputs": [
    {
     "data": {
      "text/plain": [
       "array([[10],\n",
       "       [90]])"
      ]
     },
     "execution_count": 41,
     "metadata": {},
     "output_type": "execute_result"
    }
   ],
   "source": [
    "a[0:3:2,0:1]"
   ]
  },
  {
   "cell_type": "code",
   "execution_count": 45,
   "id": "a85867df-333d-49ef-a57e-6ab312894791",
   "metadata": {},
   "outputs": [
    {
     "data": {
      "text/plain": [
       "array([[10, 20],\n",
       "       [50, 60],\n",
       "       [90, 15]])"
      ]
     },
     "execution_count": 45,
     "metadata": {},
     "output_type": "execute_result"
    }
   ],
   "source": [
    "a[::,0:2]"
   ]
  },
  {
   "cell_type": "code",
   "execution_count": 61,
   "id": "0cb2a088-29db-4cea-826a-0de8f1fe467a",
   "metadata": {},
   "outputs": [
    {
     "data": {
      "text/plain": [
       "array([[50]])"
      ]
     },
     "execution_count": 61,
     "metadata": {},
     "output_type": "execute_result"
    }
   ],
   "source": [
    "a[1:3:2,0:1]"
   ]
  },
  {
   "cell_type": "code",
   "execution_count": 63,
   "id": "5a9746b9-77d6-4c49-becf-1fd86dac6d05",
   "metadata": {},
   "outputs": [
    {
     "data": {
      "text/plain": [
       "array([[10],\n",
       "       [50],\n",
       "       [90]])"
      ]
     },
     "execution_count": 63,
     "metadata": {},
     "output_type": "execute_result"
    }
   ],
   "source": [
    "#Get 0th Column [10,50,90]\n",
    "a[::1,0:1:1]"
   ]
  },
  {
   "cell_type": "code",
   "execution_count": 65,
   "id": "f7554000-496a-4bcf-8b6c-b9ccb736f789",
   "metadata": {},
   "outputs": [
    {
     "data": {
      "text/plain": [
       "array([[50, 60, 70, 80],\n",
       "       [90, 15, 25, 35]])"
      ]
     },
     "execution_count": 65,
     "metadata": {},
     "output_type": "execute_result"
    }
   ],
   "source": [
    "# Get 1 Row to last with all Cols\n",
    "a[1:,0:]"
   ]
  },
  {
   "cell_type": "code",
   "execution_count": 67,
   "id": "272c37ab-f6df-4ce9-ad8d-12987773c458",
   "metadata": {},
   "outputs": [
    {
     "data": {
      "text/plain": [
       "array([[30, 40],\n",
       "       [70, 80]])"
      ]
     },
     "execution_count": 67,
     "metadata": {},
     "output_type": "execute_result"
    }
   ],
   "source": [
    "a[:2:,2::]"
   ]
  },
  {
   "cell_type": "code",
   "execution_count": 69,
   "id": "6d5dc595-65ae-4b97-b8b9-76145d5e968a",
   "metadata": {},
   "outputs": [
    {
     "name": "stdout",
     "output_type": "stream",
     "text": [
      "[[10 20 30 40]\n",
      " [50 60 70 80]\n",
      " [90 15 25 35]]\n"
     ]
    }
   ],
   "source": [
    "print(a)"
   ]
  },
  {
   "cell_type": "code",
   "execution_count": 19,
   "id": "bb635f7a-655a-4ade-acb5-640b9bb009d0",
   "metadata": {},
   "outputs": [
    {
     "name": "stdout",
     "output_type": "stream",
     "text": [
      "contet of a\n",
      "[[[10 20]\n",
      "  [30 40]\n",
      "  [50 60]\n",
      "  [70 80]]\n",
      "\n",
      " [[90 15]\n",
      "  [25 35]\n",
      "  [55 65]\n",
      "  [75 12]]]\n",
      "shape= (2, 4, 2)\n"
     ]
    }
   ],
   "source": [
    "# N-D Array Slicing\n",
    "#Syntax:NDarrayobj[MatRowBeg:MatRowEnd:MatStep,RowBegin:RowEnd:RowStep, ColBegin:ColEnd:ColStep]\n",
    "import numpy as np\n",
    "a=np.array([10,20,30,40,50,60,70,80,90,15,25,35,55,65,75,12]).reshape(2,4,2)\n",
    "print(\"contet of a\")\n",
    "print(a)\n",
    "print(\"shape=\",a.shape)"
   ]
  },
  {
   "cell_type": "code",
   "execution_count": 21,
   "id": "f04e7f36-c60f-4ad1-969a-263a7a7e5c60",
   "metadata": {},
   "outputs": [
    {
     "data": {
      "text/plain": [
       "array([[[30, 40],\n",
       "        [50, 60]]])"
      ]
     },
     "execution_count": 21,
     "metadata": {},
     "output_type": "execute_result"
    }
   ],
   "source": [
    "a[0:1,1:3,0:2]"
   ]
  },
  {
   "cell_type": "code",
   "execution_count": 23,
   "id": "795e1be5-65a5-46e0-a9a6-9dfc5577079e",
   "metadata": {},
   "outputs": [
    {
     "data": {
      "text/plain": [
       "array([[[25, 35],\n",
       "        [55, 65],\n",
       "        [75, 12]]])"
      ]
     },
     "execution_count": 23,
     "metadata": {},
     "output_type": "execute_result"
    }
   ],
   "source": [
    "a[1:,1:,0:]"
   ]
  },
  {
   "cell_type": "code",
   "execution_count": 25,
   "id": "72ec8f5d-ce1b-4f54-96c3-2c5d7f3a146d",
   "metadata": {},
   "outputs": [
    {
     "name": "stdout",
     "output_type": "stream",
     "text": [
      "[[[10 20]\n",
      "  [30 40]\n",
      "  [50 60]\n",
      "  [70 80]]\n",
      "\n",
      " [[90 15]\n",
      "  [25 35]\n",
      "  [55 65]\n",
      "  [75 12]]]\n"
     ]
    }
   ],
   "source": [
    "print(a)"
   ]
  },
  {
   "cell_type": "code",
   "execution_count": 29,
   "id": "02232984-bc70-4797-80ea-ff31da39f918",
   "metadata": {},
   "outputs": [
    {
     "data": {
      "text/plain": [
       "array([[[10],\n",
       "        [30],\n",
       "        [50]]])"
      ]
     },
     "execution_count": 29,
     "metadata": {},
     "output_type": "execute_result"
    }
   ],
   "source": [
    "a[:1,0:3,0:1]"
   ]
  },
  {
   "cell_type": "code",
   "execution_count": 37,
   "id": "ba4300db-12a4-408e-b2a4-b5059a7905da",
   "metadata": {},
   "outputs": [
    {
     "data": {
      "text/plain": [
       "array([[[10, 20]],\n",
       "\n",
       "       [[90, 15]]])"
      ]
     },
     "execution_count": 37,
     "metadata": {},
     "output_type": "execute_result"
    }
   ],
   "source": [
    "a[0:2,0:1,0:2]"
   ]
  },
  {
   "cell_type": "code",
   "execution_count": 39,
   "id": "239533d2-ceb5-476d-bd8f-733fd6826d49",
   "metadata": {},
   "outputs": [
    {
     "name": "stdout",
     "output_type": "stream",
     "text": [
      "[[[10 20]\n",
      "  [30 40]\n",
      "  [50 60]\n",
      "  [70 80]]\n",
      "\n",
      " [[90 15]\n",
      "  [25 35]\n",
      "  [55 65]\n",
      "  [75 12]]]\n"
     ]
    }
   ],
   "source": [
    "print(a)"
   ]
  },
  {
   "cell_type": "code",
   "execution_count": 41,
   "id": "6543ba89-7e8b-4938-91aa-bb65d8479c90",
   "metadata": {},
   "outputs": [
    {
     "data": {
      "text/plain": [
       "array([[[90, 15],\n",
       "        [25, 35]]])"
      ]
     },
     "execution_count": 41,
     "metadata": {},
     "output_type": "execute_result"
    }
   ],
   "source": [
    "a[1:,0:2,0:2]"
   ]
  },
  {
   "cell_type": "code",
   "execution_count": 45,
   "id": "b7265d5b-da10-482c-b694-db802d046fb3",
   "metadata": {},
   "outputs": [
    {
     "name": "stdout",
     "output_type": "stream",
     "text": [
      "contet of a\n",
      "[[[[10 20]\n",
      "   [30 40]]\n",
      "\n",
      "  [[50 60]\n",
      "   [70 80]]]\n",
      "\n",
      "\n",
      " [[[90 15]\n",
      "   [25 35]]\n",
      "\n",
      "  [[55 65]\n",
      "   [75 12]]]]\n",
      "shape= (2, 2, 2, 2)\n"
     ]
    }
   ],
   "source": [
    "# N-D Array Slicing\n",
    "#Syntax:NDarrayobj[MatRowBeg:MatRowEnd:MatStep,RowBegin:RowEnd:RowStep, ColBegin:ColEnd:ColStep]\n",
    "import numpy as np\n",
    "a=np.array([10,20,30,40,50,60,70,80,90,15,25,35,55,65,75,12]).reshape(2,2,2,2)\n",
    "print(\"contet of a\")\n",
    "print(a)\n",
    "print(\"shape=\",a.shape)"
   ]
  },
  {
   "cell_type": "code",
   "execution_count": 57,
   "id": "6886a4ff-3726-4354-a960-0fd73ab6801b",
   "metadata": {},
   "outputs": [
    {
     "data": {
      "text/plain": [
       "array([[[[10, 20]]]])"
      ]
     },
     "execution_count": 57,
     "metadata": {},
     "output_type": "execute_result"
    }
   ],
   "source": [
    "a[0:1,0:1,0:1,0:2]"
   ]
  },
  {
   "cell_type": "code",
   "execution_count": 59,
   "id": "b1c7f9ff-7928-402a-975a-441a0d089e72",
   "metadata": {},
   "outputs": [
    {
     "name": "stdout",
     "output_type": "stream",
     "text": [
      "[[[[10 20]\n",
      "   [30 40]]\n",
      "\n",
      "  [[50 60]\n",
      "   [70 80]]]\n",
      "\n",
      "\n",
      " [[[90 15]\n",
      "   [25 35]]\n",
      "\n",
      "  [[55 65]\n",
      "   [75 12]]]]\n"
     ]
    }
   ],
   "source": [
    "print(a)"
   ]
  },
  {
   "cell_type": "code",
   "execution_count": null,
   "id": "7c79dc3e-7fb0-4115-b5d2-68889434400b",
   "metadata": {},
   "outputs": [],
   "source": []
  }
 ],
 "metadata": {
  "kernelspec": {
   "display_name": "Python [conda env:base] *",
   "language": "python",
   "name": "conda-base-py"
  },
  "language_info": {
   "codemirror_mode": {
    "name": "ipython",
    "version": 3
   },
   "file_extension": ".py",
   "mimetype": "text/x-python",
   "name": "python",
   "nbconvert_exporter": "python",
   "pygments_lexer": "ipython3",
   "version": "3.12.7"
  }
 },
 "nbformat": 4,
 "nbformat_minor": 5
}
