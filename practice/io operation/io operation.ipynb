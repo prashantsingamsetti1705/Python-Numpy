{
 "cells": [
  {
   "cell_type": "code",
   "execution_count": 1,
   "id": "0ce1ab18-ebc1-48fe-b86f-c5ba634a0a84",
   "metadata": {},
   "outputs": [
    {
     "name": "stdout",
     "output_type": "stream",
     "text": [
      "text file created and data saved in file:\n"
     ]
    }
   ],
   "source": [
    "#writing the data to the text file\n",
    "with open(\"nit.text\",\"w\")as fp:\n",
    "    fp.write(\"1.0 2.0 3.0\\n 4.0 5.0 6.0\\n7.0 8.0 9.0\")\n",
    "    print(\"text file created and data saved in file:\")"
   ]
  },
  {
   "cell_type": "code",
   "execution_count": 5,
   "id": "4e71ee96-bd07-4f12-871e-87ef77d35841",
   "metadata": {},
   "outputs": [
    {
     "name": "stdout",
     "output_type": "stream",
     "text": [
      "File Data\n",
      "1.0 2.0 3.0\n",
      " 4.0 5.0 6.0\n",
      "7.0 8.0 9.0\n"
     ]
    }
   ],
   "source": [
    "#read the Data from text File\n",
    "try:\n",
    "    with open('nit.text',\"r\") as fp:\n",
    "        filedata=fp.read()\n",
    "        print(\"File Data\")\n",
    "        print(filedata)\n",
    "except FileNotFoundError:\n",
    "    print(\"File Does not Exist\")"
   ]
  },
  {
   "cell_type": "code",
   "execution_count": 9,
   "id": "570aafd0-05b8-40fe-b6ac-8099982816fa",
   "metadata": {},
   "outputs": [
    {
     "name": "stdout",
     "output_type": "stream",
     "text": [
      "file data\n",
      "[[1. 2. 3.]\n",
      " [4. 5. 6.]\n",
      " [7. 8. 9.]] <class 'numpy.ndarray'>\n"
     ]
    }
   ],
   "source": [
    "#read the data from text file by using numpy.loadtxt()\n",
    "import numpy as np\n",
    "filedata=np.loadtxt(\"nit.text\")\n",
    "print(\"file data\")\n",
    "print(filedata,type(filedata))"
   ]
  },
  {
   "cell_type": "code",
   "execution_count": 13,
   "id": "44f5705f-c366-44ad-a6ff-30278d45480f",
   "metadata": {},
   "outputs": [
    {
     "name": "stdout",
     "output_type": "stream",
     "text": [
      "given ndarray object\n",
      "[[1. 2. 3.]\n",
      " [4. 5. 6.]\n",
      " [7. 8. 9.]]\n",
      "**************************************************\n",
      "nd array data saved in text file\n"
     ]
    }
   ],
   "source": [
    "#program for demonstrating writing the ndarray object data to the text file \n",
    "a=np.array([[1.0,2.0,3.0],[4.0,5.0,6.0],[7.0,8.0,9.0]])\n",
    "print(\"given ndarray object\")\n",
    "print(a)\n",
    "print(\"*\"*50)\n",
    "np.savetxt(\"nit1.text\",a)\n",
    "print(\"nd array data saved in text file\")"
   ]
  },
  {
   "cell_type": "code",
   "execution_count": null,
   "id": "b34c97a3-da35-44b1-bf52-566acb8d2da8",
   "metadata": {},
   "outputs": [],
   "source": [
    "#program for demostrating writing the ndarray object data to birany file"
   ]
  },
  {
   "cell_type": "code",
   "execution_count": 40,
   "id": "5b028aef-ec07-42e5-a22b-622572e40c42",
   "metadata": {},
   "outputs": [
    {
     "name": "stdout",
     "output_type": "stream",
     "text": [
      "given ndaarray object\n",
      "[[1. 2. 3.]\n",
      " [4. 5. 6.]\n",
      " [7. 8. 9.]]\n",
      "ndarray data saved in binary file---verify\n"
     ]
    }
   ],
   "source": [
    "import numpy as np\n",
    "a=np.array([[1.0,2.0,3.0],[4.0,5.0,6.0],[7.0,8.0,9.0]])\n",
    "print(\"given ndaarray object\")\n",
    "print(a)\n",
    "np.save(\"nit5.npy\",a)\n",
    "print(\"ndarray data saved in binary file---verify\")"
   ]
  },
  {
   "cell_type": "code",
   "execution_count": 44,
   "id": "30dc34b9-2ca1-45d3-b215-65c180893dfd",
   "metadata": {},
   "outputs": [
    {
     "name": "stdout",
     "output_type": "stream",
     "text": [
      "file data\n",
      "[[1. 2. 3.]\n",
      " [4. 5. 6.]\n",
      " [7. 8. 9.]]\n"
     ]
    }
   ],
   "source": [
    "filedata=np.load(\"nit5.npy\")\n",
    "print(\"file data\")\n",
    "print(filedata)"
   ]
  },
  {
   "cell_type": "code",
   "execution_count": 46,
   "id": "16330ab4-e9e0-4514-b5f7-7a3ea9d083f2",
   "metadata": {},
   "outputs": [
    {
     "name": "stdout",
     "output_type": "stream",
     "text": [
      "File Data\n",
      "[[1. 2. 3.]] <class 'numpy.ndarray'>\n"
     ]
    }
   ],
   "source": [
    "#Program for Demonstrating Reading data from Binary file into ndarray object\n",
    "filedata=np.load(\"nit5.npy\")\n",
    "print(\"File Data\")\n",
    "print(filedata[0:1,::],type(filedata))"
   ]
  },
  {
   "cell_type": "code",
   "execution_count": 54,
   "id": "750ee74b-0b44-43b2-9a81-9d4f98b440f6",
   "metadata": {},
   "outputs": [
    {
     "name": "stdout",
     "output_type": "stream",
     "text": [
      "csv file created and data saved in file:\n"
     ]
    }
   ],
   "source": [
    "#writing the data to the csv file\n",
    "import numpy as np\n",
    "with open('nit6.csv','w')as fp:\n",
    "    fp.write(\"1.0 2.0 3.0/n 4.0 5.0 6.0\\n7.0 8.0 9.0\")\n",
    "    print(\"csv file created and data saved in file:\")"
   ]
  },
  {
   "cell_type": "code",
   "execution_count": 64,
   "id": "baeb5409-97ae-43c1-93d0-983c9b767e81",
   "metadata": {},
   "outputs": [
    {
     "name": "stdout",
     "output_type": "stream",
     "text": [
      "[[1. 2. 3.]\n",
      " [4. 5. 6.]\n",
      " [7. 8. 9.]] <class 'numpy.ndarray'>\n"
     ]
    }
   ],
   "source": [
    "#reading the data from the saved in file:\n",
    "import numpy as np\n",
    "filedata2=np.genfromtxt('nit6.csv',delimiter=',')\n",
    "print(filedata,type(filedata2))"
   ]
  },
  {
   "cell_type": "code",
   "execution_count": 78,
   "id": "0d67fca3-b50c-4987-84fb-121537af6725",
   "metadata": {},
   "outputs": [
    {
     "name": "stdout",
     "output_type": "stream",
     "text": [
      "[nan nan nan nan] <class 'numpy.ndarray'>\n"
     ]
    }
   ],
   "source": [
    "#Reading  the Data from the CSV File where It contains str data\n",
    "import numpy as np\n",
    "filedata=np.genfromtxt('C:\\\\Users\\\\prash\\\\OneDrive\\\\Desktop\\\\Numpy\\\\Numpy CLASS NOTES ON 11-02-2025\\\\anil.csv',delimiter=',')\n",
    "print(filedata,type(filedata))"
   ]
  },
  {
   "cell_type": "code",
   "execution_count": 76,
   "id": "50a2f7e7-371e-44f1-9efd-2775d8c38896",
   "metadata": {},
   "outputs": [
    {
     "name": "stdout",
     "output_type": "stream",
     "text": [
      "['[[\"prasahant\"' '\"anil\"]' '[\"sai\"' '\"raju\"]]'] <class 'numpy.ndarray'>\n"
     ]
    }
   ],
   "source": [
    "#Reading  the Data from the CSV File where It contains str data\n",
    "import numpy as np\n",
    "filedata=np.genfromtxt('C:\\\\Users\\\\prash\\\\OneDrive\\\\Desktop\\\\Numpy\\\\Numpy CLASS NOTES ON 11-02-2025\\\\anil.csv',delimiter=',',dtype=\"str\")\n",
    "print(filedata,type(filedata))"
   ]
  },
  {
   "cell_type": "code",
   "execution_count": 82,
   "id": "f6ffdb66-c3cf-4fe9-915f-7f839dead5b3",
   "metadata": {},
   "outputs": [
    {
     "name": "stdout",
     "output_type": "stream",
     "text": [
      "['[[\"prasahant\"' '\"anil\"]' '[\"sai\"' '\"raju\"]]'] <class 'numpy.ndarray'>\n"
     ]
    }
   ],
   "source": [
    "#Reading  the Data from the CSV File where It contains str data\n",
    "import numpy as np\n",
    "filedata=np.loadtxt('C:\\\\Users\\\\prash\\\\OneDrive\\\\Desktop\\\\Numpy\\\\Numpy CLASS NOTES ON 11-02-2025\\\\anil.csv',delimiter=',',dtype=\"str\")\n",
    "print(filedata,type(filedata))"
   ]
  },
  {
   "cell_type": "code",
   "execution_count": 94,
   "id": "298bc832-223d-44a9-a869-55bcfabc4903",
   "metadata": {},
   "outputs": [
    {
     "name": "stdout",
     "output_type": "stream",
     "text": [
      "content of the ndarray\n",
      "[[1 'gudio' 95.5]\n",
      " [2 'travis' 90.0]] <class 'numpy.ndarray'>\n"
     ]
    }
   ],
   "source": [
    "#create a numpyarray with both numeric  and string data\n",
    "import numpy as np\n",
    "a=np.array([[1,'gudio',95.5],[2,'travis',90.0]],dtype=object)\n",
    "print(\"content of the ndarray\")\n",
    "print(a,type(a))"
   ]
  },
  {
   "cell_type": "code",
   "execution_count": 98,
   "id": "4879742d-e0ca-40bb-a240-993178f23fce",
   "metadata": {},
   "outputs": [
    {
     "name": "stdout",
     "output_type": "stream",
     "text": [
      "ND Array data written to the  file--verify\n"
     ]
    }
   ],
   "source": [
    "#Write the above ndarray data to CSV File\n",
    "import csv\n",
    "with open(\"ndnit.csv\",\"w\") as fp:\n",
    "    csvwr=csv.writer(fp)\n",
    "    csvwr.writerows(a) # Here 'a' is called ndarray object\n",
    "    print(\"ND Array data written to the  file--verify\")"
   ]
  },
  {
   "cell_type": "code",
   "execution_count": 100,
   "id": "23962a6c-080f-4c19-8d46-ce5a1f516289",
   "metadata": {},
   "outputs": [
    {
     "name": "stdout",
     "output_type": "stream",
     "text": [
      "ND Array data written to the  file--verify\n"
     ]
    }
   ],
   "source": [
    "import numpy as np\n",
    "import csv\n",
    "# Create a NumPy array with both numeric and string data\n",
    "a = np.array([\n",
    "    [1, 'GUIDO ROSSUM', 95.5],\n",
    "    [2, 'TRAVIS OLIPHANT', 90.0],\n",
    "    [3, 'DENNIS RITCHE', 80.0],\n",
    "    [4, 'JHON HUNTER', 91.5]\n",
    "], dtype=object)\n",
    "with open(\"ndnit2.csv\",\"w\") as fp:\n",
    "    csvwr=csv.writer(fp)\n",
    "    for row in a:\n",
    "        csvwr.writerow(row)\n",
    "print(\"ND Array data written to the  file--verify\")"
   ]
  },
  {
   "cell_type": "code",
   "execution_count": 102,
   "id": "61782a04-71ae-4441-af06-5fdf7f03d372",
   "metadata": {},
   "outputs": [
    {
     "ename": "FileNotFoundError",
     "evalue": "sci.csv not found.",
     "output_type": "error",
     "traceback": [
      "\u001b[1;31m---------------------------------------------------------------------------\u001b[0m",
      "\u001b[1;31mFileNotFoundError\u001b[0m                         Traceback (most recent call last)",
      "Cell \u001b[1;32mIn[102], line 9\u001b[0m\n\u001b[0;32m      6\u001b[0m dtype \u001b[38;5;241m=\u001b[39m [(\u001b[38;5;124m'\u001b[39m\u001b[38;5;124mID\u001b[39m\u001b[38;5;124m'\u001b[39m, \u001b[38;5;124m'\u001b[39m\u001b[38;5;124mi4\u001b[39m\u001b[38;5;124m'\u001b[39m), (\u001b[38;5;124m'\u001b[39m\u001b[38;5;124mName\u001b[39m\u001b[38;5;124m'\u001b[39m, \u001b[38;5;124m'\u001b[39m\u001b[38;5;124mU10\u001b[39m\u001b[38;5;124m'\u001b[39m), (\u001b[38;5;124m'\u001b[39m\u001b[38;5;124mScore\u001b[39m\u001b[38;5;124m'\u001b[39m, \u001b[38;5;124m'\u001b[39m\u001b[38;5;124mf4\u001b[39m\u001b[38;5;124m'\u001b[39m)]\n\u001b[0;32m      8\u001b[0m \u001b[38;5;66;03m# Read the CSV file into a structured NumPy array\u001b[39;00m\n\u001b[1;32m----> 9\u001b[0m sa \u001b[38;5;241m=\u001b[39m np\u001b[38;5;241m.\u001b[39mgenfromtxt(csv_file_path, delimiter\u001b[38;5;241m=\u001b[39m\u001b[38;5;124m'\u001b[39m\u001b[38;5;124m,\u001b[39m\u001b[38;5;124m'\u001b[39m, dtype\u001b[38;5;241m=\u001b[39mdtype, names\u001b[38;5;241m=\u001b[39m\u001b[38;5;28;01mTrue\u001b[39;00m)\n\u001b[0;32m     11\u001b[0m \u001b[38;5;66;03m# Print the structured NumPy array\u001b[39;00m\n\u001b[0;32m     12\u001b[0m \u001b[38;5;28mprint\u001b[39m(sa,\u001b[38;5;28mtype\u001b[39m(sa))\n",
      "File \u001b[1;32m~\\anaconda3\\Lib\\site-packages\\numpy\\lib\\npyio.py:1980\u001b[0m, in \u001b[0;36mgenfromtxt\u001b[1;34m(fname, dtype, comments, delimiter, skip_header, skip_footer, converters, missing_values, filling_values, usecols, names, excludelist, deletechars, replace_space, autostrip, case_sensitive, defaultfmt, unpack, usemask, loose, invalid_raise, max_rows, encoding, ndmin, like)\u001b[0m\n\u001b[0;32m   1978\u001b[0m     fname \u001b[38;5;241m=\u001b[39m os_fspath(fname)\n\u001b[0;32m   1979\u001b[0m \u001b[38;5;28;01mif\u001b[39;00m \u001b[38;5;28misinstance\u001b[39m(fname, \u001b[38;5;28mstr\u001b[39m):\n\u001b[1;32m-> 1980\u001b[0m     fid \u001b[38;5;241m=\u001b[39m np\u001b[38;5;241m.\u001b[39mlib\u001b[38;5;241m.\u001b[39m_datasource\u001b[38;5;241m.\u001b[39mopen(fname, \u001b[38;5;124m'\u001b[39m\u001b[38;5;124mrt\u001b[39m\u001b[38;5;124m'\u001b[39m, encoding\u001b[38;5;241m=\u001b[39mencoding)\n\u001b[0;32m   1981\u001b[0m     fid_ctx \u001b[38;5;241m=\u001b[39m contextlib\u001b[38;5;241m.\u001b[39mclosing(fid)\n\u001b[0;32m   1982\u001b[0m \u001b[38;5;28;01melse\u001b[39;00m:\n",
      "File \u001b[1;32m~\\anaconda3\\Lib\\site-packages\\numpy\\lib\\_datasource.py:193\u001b[0m, in \u001b[0;36mopen\u001b[1;34m(path, mode, destpath, encoding, newline)\u001b[0m\n\u001b[0;32m    156\u001b[0m \u001b[38;5;250m\u001b[39m\u001b[38;5;124;03m\"\"\"\u001b[39;00m\n\u001b[0;32m    157\u001b[0m \u001b[38;5;124;03mOpen `path` with `mode` and return the file object.\u001b[39;00m\n\u001b[0;32m    158\u001b[0m \n\u001b[1;32m   (...)\u001b[0m\n\u001b[0;32m    189\u001b[0m \n\u001b[0;32m    190\u001b[0m \u001b[38;5;124;03m\"\"\"\u001b[39;00m\n\u001b[0;32m    192\u001b[0m ds \u001b[38;5;241m=\u001b[39m DataSource(destpath)\n\u001b[1;32m--> 193\u001b[0m \u001b[38;5;28;01mreturn\u001b[39;00m ds\u001b[38;5;241m.\u001b[39mopen(path, mode, encoding\u001b[38;5;241m=\u001b[39mencoding, newline\u001b[38;5;241m=\u001b[39mnewline)\n",
      "File \u001b[1;32m~\\anaconda3\\Lib\\site-packages\\numpy\\lib\\_datasource.py:533\u001b[0m, in \u001b[0;36mDataSource.open\u001b[1;34m(self, path, mode, encoding, newline)\u001b[0m\n\u001b[0;32m    530\u001b[0m     \u001b[38;5;28;01mreturn\u001b[39;00m _file_openers[ext](found, mode\u001b[38;5;241m=\u001b[39mmode,\n\u001b[0;32m    531\u001b[0m                               encoding\u001b[38;5;241m=\u001b[39mencoding, newline\u001b[38;5;241m=\u001b[39mnewline)\n\u001b[0;32m    532\u001b[0m \u001b[38;5;28;01melse\u001b[39;00m:\n\u001b[1;32m--> 533\u001b[0m     \u001b[38;5;28;01mraise\u001b[39;00m \u001b[38;5;167;01mFileNotFoundError\u001b[39;00m(\u001b[38;5;124mf\u001b[39m\u001b[38;5;124m\"\u001b[39m\u001b[38;5;132;01m{\u001b[39;00mpath\u001b[38;5;132;01m}\u001b[39;00m\u001b[38;5;124m not found.\u001b[39m\u001b[38;5;124m\"\u001b[39m)\n",
      "\u001b[1;31mFileNotFoundError\u001b[0m: sci.csv not found."
     ]
    }
   ],
   "source": [
    "#Most IMP: This Reads the Data from CSV File where It Contains Different Col names with Diff type\n",
    "import numpy as np\n",
    "# Define the path to the CSV file\n",
    "csv_file_path = \"sci.csv\"\n",
    "# Define the data types for each column\n",
    "dtype = [('ID', 'i4'), ('Name', 'U10'), ('Score', 'f4')]\n",
    "\n",
    "# Read the CSV file into a structured NumPy array\n",
    "sa = np.genfromtxt(csv_file_path, delimiter=',', dtype=dtype, names=True)\n",
    "\n",
    "# Print the structured NumPy array\n",
    "print(sa,type(sa))"
   ]
  },
  {
   "cell_type": "code",
   "execution_count": 104,
   "id": "dce7ef26-837f-4bbd-af3e-a3d457713eeb",
   "metadata": {},
   "outputs": [
    {
     "name": "stdout",
     "output_type": "stream",
     "text": [
      "------------------------------------------------------\n",
      "ndarray object Data saved in text File\n",
      "------------------------------------------------------\n",
      "Original NumPy Array:\n",
      "[[1 2 3]\n",
      " [4 5 6]\n",
      " [7 8 9]]\n"
     ]
    }
   ],
   "source": [
    "#Most Imp: Writing the Ndarray object data to text File and Reading the Text File Data\n",
    "import numpy as np\n",
    "# Create a NumPy array\n",
    "data_array = np.array([[1, 2, 3], [4, 5, 6], [7, 8, 9]])\n",
    "# Define the path to the text file\n",
    "text_file_path = \"data.txt\"\n",
    "\n",
    "# Save the NumPy array to a text file with space as the delimiter\n",
    "np.savetxt(text_file_path, data_array)\n",
    "print(\"------------------------------------------------------\")\n",
    "print(\"ndarray object Data saved in text File\")\n",
    "print(\"------------------------------------------------------\")\n",
    "# Read the text file back into a NumPy array\n",
    "loaded_array = np.loadtxt(text_file_path)\n",
    "# Print the original and loaded NumPy arrays\n",
    "print(\"Original NumPy Array:\")\n",
    "print(data_array)"
   ]
  },
  {
   "cell_type": "code",
   "execution_count": 106,
   "id": "bfbc6962-6517-4180-a4b0-0659563a22a0",
   "metadata": {},
   "outputs": [
    {
     "name": "stdout",
     "output_type": "stream",
     "text": [
      "Original NumPy Array:\n",
      "[[1 2 3]\n",
      " [4 5 6]\n",
      " [7 8 9]]\n",
      "int32\n"
     ]
    }
   ],
   "source": [
    "print(\"Original NumPy Array:\")\n",
    "print(data_array)\n",
    "print(data_array.dtype)"
   ]
  },
  {
   "cell_type": "code",
   "execution_count": 108,
   "id": "1ec765dd-0cee-4233-8832-575b34ae2127",
   "metadata": {},
   "outputs": [
    {
     "name": "stdout",
     "output_type": "stream",
     "text": [
      "Original NumPy Array with float:\n",
      "float64\n"
     ]
    }
   ],
   "source": [
    "print(\"Original NumPy Array with float:\")\n",
    "loaded_array=loaded_array.astype(float)\n",
    "print(loaded_array.dtype)"
   ]
  },
  {
   "cell_type": "code",
   "execution_count": 110,
   "id": "4c6eb72b-e665-4759-9974-a9e97010bdb4",
   "metadata": {},
   "outputs": [
    {
     "name": "stdout",
     "output_type": "stream",
     "text": [
      "Original NumPy Array with float:\n",
      "[[1 2 3]\n",
      " [4 5 6]\n",
      " [7 8 9]]\n",
      "int16\n"
     ]
    }
   ],
   "source": [
    "print(\"Original NumPy Array with float:\")\n",
    "loaded_array=loaded_array.astype(\"i2\")\n",
    "print(loaded_array)\n",
    "print(loaded_array.dtype)"
   ]
  },
  {
   "cell_type": "code",
   "execution_count": 122,
   "id": "94c2a6d2-04dc-425c-ba8c-3b609dadb3e6",
   "metadata": {},
   "outputs": [
    {
     "name": "stdout",
     "output_type": "stream",
     "text": [
      "Dict data saved in Json File--verify\n"
     ]
    }
   ],
   "source": [
    "#save the Dict Object into Json File\n",
    "import json\n",
    "import numpy as np\n",
    "dictobj={'id': '09', 'name': 'Rossum', 'department': 'IT'} \n",
    "with open(\"nit10.json\",\"w\") as fp:\n",
    "    json.dump(dictobj,fp)\n",
    "    print(\"Dict data saved in Json File--verify\")"
   ]
  },
  {
   "cell_type": "code",
   "execution_count": 124,
   "id": "1cfcd9ac-b208-43e9-a5fd-93c22efc46f4",
   "metadata": {},
   "outputs": [
    {
     "name": "stdout",
     "output_type": "stream",
     "text": [
      "{'id': '09', 'name': 'Rossum', 'department': 'IT'}\n",
      "Dict data saved in Json File--verify\n"
     ]
    }
   ],
   "source": [
    "with open(\"nit10.json\",\"r\") as fp:\n",
    "    js=json.load(fp)\n",
    "    a=np.array(js)\n",
    "    print(a)\n",
    "    print(\"Dict data saved in Json File--verify\")"
   ]
  },
  {
   "cell_type": "code",
   "execution_count": 126,
   "id": "dbb6f5c1-e0f3-4ea3-b923-00a3b5d5fb63",
   "metadata": {},
   "outputs": [
    {
     "name": "stdout",
     "output_type": "stream",
     "text": [
      "\tid-->09\n",
      "\tname-->Rossum\n",
      "\tdepartment-->IT\n"
     ]
    }
   ],
   "source": [
    "for key,val in js.items(): # here jsondata is of type <class,dict>\n",
    "    print(\"\\t{}-->{}\".format(key,val))"
   ]
  },
  {
   "cell_type": "code",
   "execution_count": null,
   "id": "11a4e479-932d-4cb6-b379-9d17b36dd83c",
   "metadata": {},
   "outputs": [],
   "source": []
  }
 ],
 "metadata": {
  "kernelspec": {
   "display_name": "Python [conda env:base] *",
   "language": "python",
   "name": "conda-base-py"
  },
  "language_info": {
   "codemirror_mode": {
    "name": "ipython",
    "version": 3
   },
   "file_extension": ".py",
   "mimetype": "text/x-python",
   "name": "python",
   "nbconvert_exporter": "python",
   "pygments_lexer": "ipython3",
   "version": "3.12.7"
  }
 },
 "nbformat": 4,
 "nbformat_minor": 5
}
