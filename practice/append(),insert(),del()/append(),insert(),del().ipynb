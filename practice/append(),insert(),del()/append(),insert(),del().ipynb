{
 "cells": [
  {
   "cell_type": "code",
   "execution_count": 1,
   "id": "0672d7f2-0636-4008-8810-517e3ad77eb3",
   "metadata": {},
   "outputs": [],
   "source": [
    "#deleting--->delete(index,val),inseting--->insert(indesx,val),appending-->append(val)\n",
    "#note here axis=0---row,axis=1---col\n"
   ]
  },
  {
   "cell_type": "code",
   "execution_count": 9,
   "id": "b8e6ef72-a7c1-425b-a358-45a2c4132921",
   "metadata": {},
   "outputs": [
    {
     "name": "stdout",
     "output_type": "stream",
     "text": [
      "content of a\n",
      "[10 20 30 40 40 50]\n",
      "dimesion---> 1\n"
     ]
    }
   ],
   "source": [
    "import numpy as np\n",
    "a=np.array([10,20,30,40,40,50,])\n",
    "print(\"content of a\")\n",
    "print(a)\n",
    "print(\"dimesion--->\",a.ndim)"
   ]
  },
  {
   "cell_type": "code",
   "execution_count": 21,
   "id": "f0300c60-3f14-46e5-82ae-be7404970332",
   "metadata": {},
   "outputs": [
    {
     "name": "stdout",
     "output_type": "stream",
     "text": [
      "before appending the val\n",
      "[10 20 30 40 40 50 10]\n",
      "after appending the val\n",
      "[10 20 30 40 40 50 10 10]\n"
     ]
    }
   ],
   "source": [
    "#append the value in the 1d--array\n",
    "print(\"before appending the val\")\n",
    "print(a)\n",
    "a=np.append(a,10)\n",
    "print(\"after appending the val\")\n",
    "print(a)"
   ]
  },
  {
   "cell_type": "code",
   "execution_count": 13,
   "id": "0eef544e-6070-4b5e-bf98-d3182c57cbd1",
   "metadata": {},
   "outputs": [
    {
     "name": "stdout",
     "output_type": "stream",
     "text": [
      "after appending the val\n",
      "[10 20 30 40 10 30 10 20 30 40]\n"
     ]
    }
   ],
   "source": [
    "a=np.append(a,[10,20,30,40,])\n",
    "print(\"after appending the val\")\n",
    "print(a)"
   ]
  },
  {
   "cell_type": "code",
   "execution_count": 11,
   "id": "8172b3f7-a6ed-472d-86b6-9f24446df254",
   "metadata": {},
   "outputs": [
    {
     "name": "stdout",
     "output_type": "stream",
     "text": [
      "[[10 20]\n",
      " [30 40]\n",
      " [10 30]]\n"
     ]
    }
   ],
   "source": [
    "#addin the the value in the row\n",
    "import numpy as np\n",
    "a=np.array([[10,20],[30,40]])\n",
    "a=np.append(a,[[10,30]],axis=0)\n",
    "print(a)"
   ]
  },
  {
   "cell_type": "code",
   "execution_count": 27,
   "id": "0591d815-32d8-4996-b0e7-ae298121ed4f",
   "metadata": {},
   "outputs": [
    {
     "name": "stdout",
     "output_type": "stream",
     "text": [
      "[[40 50 60]\n",
      " [30 70 80]\n",
      " [40 50 40]]\n",
      "after updating the value\n",
      "[[40 50 60]\n",
      " [30 70 80]\n",
      " [40 50 40]\n",
      " [10 20 30]]\n"
     ]
    }
   ],
   "source": [
    "a=np.array([40,50,60,30,70,80,40,50,40]).reshape(3,3)\n",
    "print(a)\n",
    "a=np.append(a,[[10,20,30]],axis=0)\n",
    "print(\"after updating the value\")\n",
    "print(a)"
   ]
  },
  {
   "cell_type": "code",
   "execution_count": 35,
   "id": "ce13f2f0-e093-4dca-8768-6c72ed1db306",
   "metadata": {},
   "outputs": [
    {
     "name": "stdout",
     "output_type": "stream",
     "text": [
      "[[40 50 60]\n",
      " [30 40 50]]\n",
      "after updating the values\n",
      "[40 50 60 30 40 50 60 40]\n"
     ]
    }
   ],
   "source": [
    "#now insertingbthe value into the col\n",
    "import numpy as np\n",
    "a=np.array([40,50,60,30,40,50]).reshape(2,3)\n",
    "print(a)\n",
    "a=np.append(a,[[60],[40]])\n",
    "print(\"after updating the values\")\n",
    "print(a)"
   ]
  },
  {
   "cell_type": "code",
   "execution_count": 37,
   "id": "c60df167-13ed-41a9-b0b0-d0014d1a480c",
   "metadata": {},
   "outputs": [
    {
     "name": "stdout",
     "output_type": "stream",
     "text": [
      "[10 20 30 40 50 60 70]\n"
     ]
    }
   ],
   "source": [
    "#inserting the values into the 1-d,2d\n",
    "#insert(ind,val)\n",
    "import numpy as np\n",
    "a=np.array([10,20,30,40,50,60,70])\n",
    "print(a)"
   ]
  },
  {
   "cell_type": "code",
   "execution_count": 51,
   "id": "f83c12cb-2572-4f64-a536-cc9e59072635",
   "metadata": {},
   "outputs": [
    {
     "name": "stdout",
     "output_type": "stream",
     "text": [
      "[20 10 20 30 40 50 60 70]\n"
     ]
    }
   ],
   "source": [
    "#now we are inserting the value into the 1d array\n",
    "#insert of insert(a,ind,value)\n",
    "a=np.insert(a,0,20)\n",
    "print(a)"
   ]
  },
  {
   "cell_type": "code",
   "execution_count": 53,
   "id": "29076537-dd73-4616-8d52-534cf83cbb10",
   "metadata": {},
   "outputs": [
    {
     "name": "stdout",
     "output_type": "stream",
     "text": [
      "[10 20 30 40 50 60 70]\n",
      "[10 20 30 40 50 60 20 70]\n"
     ]
    }
   ],
   "source": [
    "import numpy as np\n",
    "a=np.array([10,20,30,40,50,60,70])\n",
    "print(a)\n",
    "a=np.insert(a,-1,20)\n",
    "print(a)"
   ]
  },
  {
   "cell_type": "code",
   "execution_count": 57,
   "id": "c2531791-5209-4e94-8cfd-9e3c1b1ea0c5",
   "metadata": {},
   "outputs": [
    {
     "name": "stdout",
     "output_type": "stream",
     "text": [
      "[[10 20]\n",
      " [30 40]]\n",
      "[[10 20]\n",
      " [50 60]\n",
      " [30 40]]\n"
     ]
    }
   ],
   "source": [
    "#2d--array inserting the data \n",
    "a=np.array([10,20,30,40]).reshape(2,2)\n",
    "print(a)\n",
    "#insertingbthe the value\n",
    "a=np.insert(a,1,[[50,60]],axis=0)\n",
    "print(a)"
   ]
  },
  {
   "cell_type": "code",
   "execution_count": 61,
   "id": "2a567ded-3347-4699-a7a4-1505a2a55c12",
   "metadata": {},
   "outputs": [
    {
     "name": "stdout",
     "output_type": "stream",
     "text": [
      "[[10 20]\n",
      " [30 40]]\n",
      "[[10 50 20]\n",
      " [30 60 40]]\n"
     ]
    }
   ],
   "source": [
    "#2d--array inserting the data \n",
    "a=np.array([10,20,30,40]).reshape(2,2)\n",
    "print(a)\n",
    "#insertingbthe the value\n",
    "a=np.insert(a,1,[[50,60]],axis=1)\n",
    "print(a)"
   ]
  },
  {
   "cell_type": "code",
   "execution_count": 1,
   "id": "f1269d6f-aa82-491f-a995-47a158b4cacf",
   "metadata": {},
   "outputs": [],
   "source": [
    "#here we are doing the delete operation\n",
    "#delte(index,value,axis)"
   ]
  },
  {
   "cell_type": "code",
   "execution_count": 11,
   "id": "72b1c6a4-6276-4b77-82cf-705b1243f4d6",
   "metadata": {},
   "outputs": [
    {
     "name": "stdout",
     "output_type": "stream",
     "text": [
      "content of a \n",
      "before deleting the value \n",
      "[10 20 30 40 50 40 56]\n",
      "after deleting the value \n",
      "[10 20 30 40 50 40]\n"
     ]
    }
   ],
   "source": [
    "import numpy as np\n",
    "a=np.array([10,20,30,40,50,40,56])\n",
    "print(\"content of a \")\n",
    "print(\"before deleting the value \")\n",
    "print(a)\n",
    "#here we are using the delete operation\n",
    "print(\"after deleting the value \")\n",
    "a=np.delete(a,-1)\n",
    "print(a)"
   ]
  },
  {
   "cell_type": "code",
   "execution_count": 13,
   "id": "c8b7491b-4d19-4f32-ad34-8a6556505bed",
   "metadata": {},
   "outputs": [
    {
     "name": "stdout",
     "output_type": "stream",
     "text": [
      "content of a \n",
      "before deleting the value \n",
      "[10 20 40 55 66 78]\n",
      "after deleting the value\n",
      "[40 55 66]\n"
     ]
    }
   ],
   "source": [
    "#deleting the three values\n",
    "a=np.array([10,20,40,55,66,78])\n",
    "print(\"content of a \")\n",
    "print(\"before deleting the value \")\n",
    "print(a)\n",
    "a=np.delete(a,[0,1,-1])\n",
    "print(\"after deleting the value\")\n",
    "print(a)\n"
   ]
  },
  {
   "cell_type": "code",
   "execution_count": 67,
   "id": "8f6d30fc-e7d9-4446-b5b9-994cacd27906",
   "metadata": {},
   "outputs": [
    {
     "name": "stdout",
     "output_type": "stream",
     "text": [
      "[[10 20 30]\n",
      " [40 50 60]\n",
      " [70 80 90]]\n",
      "[[40 50 60]\n",
      " [70 80 90]]\n"
     ]
    }
   ],
   "source": [
    "#we are  deleting the rows from the 2d matrix\n",
    "a=np.array([10,20,30,40,50,60,70,80,90]).reshape(3,3)\n",
    "print(a)\n",
    "#deleting the values from the matrix\n",
    "a=np.delete(a,0,axis=0)\n",
    "print(a)"
   ]
  },
  {
   "cell_type": "code",
   "execution_count": 69,
   "id": "e415457d-fb9a-4e04-8b1b-dd26bbff7488",
   "metadata": {},
   "outputs": [
    {
     "name": "stdout",
     "output_type": "stream",
     "text": [
      "[[40 60]\n",
      " [70 90]]\n"
     ]
    }
   ],
   "source": [
    "a=np.delete(a,1,axis=1)\n",
    "print(a)"
   ]
  },
  {
   "cell_type": "code",
   "execution_count": 76,
   "id": "3e9f2923-cbb9-44f4-b405-3b0eb2adc110",
   "metadata": {},
   "outputs": [
    {
     "name": "stdout",
     "output_type": "stream",
     "text": [
      "[[50 60]\n",
      " [70 90]]\n"
     ]
    }
   ],
   "source": [
    "a[0:1,:]=[50,60]\n",
    "print(a)"
   ]
  },
  {
   "cell_type": "code",
   "execution_count": 80,
   "id": "38751241-c29b-46a9-af00-5dc60041e01c",
   "metadata": {},
   "outputs": [
    {
     "name": "stdout",
     "output_type": "stream",
     "text": [
      "[[50 60]\n",
      " [50 60]]\n"
     ]
    }
   ],
   "source": []
  },
  {
   "cell_type": "code",
   "execution_count": null,
   "id": "55968005-3036-48f7-adab-8039e66d7d3d",
   "metadata": {},
   "outputs": [],
   "source": []
  }
 ],
 "metadata": {
  "kernelspec": {
   "display_name": "Python [conda env:base] *",
   "language": "python",
   "name": "conda-base-py"
  },
  "language_info": {
   "codemirror_mode": {
    "name": "ipython",
    "version": 3
   },
   "file_extension": ".py",
   "mimetype": "text/x-python",
   "name": "python",
   "nbconvert_exporter": "python",
   "pygments_lexer": "ipython3",
   "version": "3.12.7"
  }
 },
 "nbformat": 4,
 "nbformat_minor": 5
}
