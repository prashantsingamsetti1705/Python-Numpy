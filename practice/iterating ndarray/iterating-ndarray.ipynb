{
 "cells": [
  {
   "cell_type": "code",
   "execution_count": 1,
   "id": "c6dbb56d-d7cf-4e94-8fca-067c87e2bf71",
   "metadata": {},
   "outputs": [
    {
     "name": "stdout",
     "output_type": "stream",
     "text": [
      "[10 20 30 40 50 60 70 90]\n"
     ]
    }
   ],
   "source": [
    "#numpy iteerating the nd array\n",
    "#here we are iterating the data in 1d array\n",
    "#for i in nd:\n",
    "import numpy as np \n",
    "a=np.array([10,20,30,40,50,60,70,90])\n",
    "print(a)"
   ]
  },
  {
   "cell_type": "code",
   "execution_count": 3,
   "id": "91d66457-29b0-4f54-9623-888b7ca6bc28",
   "metadata": {},
   "outputs": [
    {
     "name": "stdout",
     "output_type": "stream",
     "text": [
      "10\n",
      "20\n",
      "30\n",
      "40\n",
      "50\n",
      "60\n",
      "70\n",
      "90\n"
     ]
    }
   ],
   "source": [
    "for i in a:\n",
    "    print(i)"
   ]
  },
  {
   "cell_type": "code",
   "execution_count": 29,
   "id": "615043bb-b346-4f4b-ae9f-28c01e1e9313",
   "metadata": {},
   "outputs": [
    {
     "name": "stdout",
     "output_type": "stream",
     "text": [
      "content of a\n",
      "[[10 20 30]\n",
      " [40 60 90]\n",
      " [80 75 56]]\n",
      "[10 20 30]\n",
      "[40 60 90]\n",
      "[80 75 56]\n"
     ]
    }
   ],
   "source": [
    "#here we are iterrating the 2d array\n",
    "a=np.array([10,20,30,40,60,90,80,75,56]).reshape(3,3)\n",
    "print(\"content of a\")\n",
    "print(a)\n",
    "for i in a:\n",
    "    print(i)"
   ]
  },
  {
   "cell_type": "code",
   "execution_count": 33,
   "id": "df7d541b-f0b2-4ca0-b0fb-edca10ecb2f5",
   "metadata": {},
   "outputs": [
    {
     "name": "stdout",
     "output_type": "stream",
     "text": [
      "[[12 10 15]\n",
      " [19 15 14]\n",
      " [17 13 18]]\n",
      "dimension of a= 2\n",
      "content of a\n",
      "shape of a= (3, 3)\n",
      "12\n",
      "10\n",
      "15\n",
      "19\n",
      "15\n",
      "14\n",
      "17\n",
      "13\n",
      "18\n",
      "[12 10 15]\n",
      "--------------------------------------------------\n"
     ]
    }
   ],
   "source": [
    "a=np.random.randint(10,20,size=(3,3))\n",
    "print(a)\n",
    "print(\"dimension of a=\",a.ndim)\n",
    "print(\"content of a\")\n",
    "print(\"shape of a=\",a.shape)\n",
    "#itereraing the data from 2d array\n",
    "for row in a:\n",
    "    for col in row:\n",
    "        print(col)\n",
    "print(\"-\"*50)"
   ]
  },
  {
   "cell_type": "code",
   "execution_count": 77,
   "id": "e221fe3d-cc06-430d-a62c-88c9ef70d5ed",
   "metadata": {},
   "outputs": [
    {
     "name": "stdout",
     "output_type": "stream",
     "text": [
      "[[[ 0  1  2]\n",
      "  [ 3  4  5]\n",
      "  [ 6  7  8]]\n",
      "\n",
      " [[ 9 10 11]\n",
      "  [12 13 14]\n",
      "  [15 16 17]]\n",
      "\n",
      " [[18 19 20]\n",
      "  [21 22 23]\n",
      "  [24 25 26]]]\n",
      "dimension of a= 3\n",
      "[0 1 2]\n",
      "[3 4 5]\n",
      "[6 7 8]\n",
      "--------------------------------------------------\n",
      "[0 1 2]\n",
      "[3 4 5]\n",
      "[6 7 8]\n",
      "--------------------------------------------------\n",
      "[0 1 2]\n",
      "[3 4 5]\n",
      "[6 7 8]\n",
      "--------------------------------------------------\n",
      "[ 9 10 11]\n",
      "[12 13 14]\n",
      "[15 16 17]\n",
      "--------------------------------------------------\n",
      "[ 9 10 11]\n",
      "[12 13 14]\n",
      "[15 16 17]\n",
      "--------------------------------------------------\n",
      "[ 9 10 11]\n",
      "[12 13 14]\n",
      "[15 16 17]\n",
      "--------------------------------------------------\n",
      "[18 19 20]\n",
      "[21 22 23]\n",
      "[24 25 26]\n",
      "--------------------------------------------------\n",
      "[18 19 20]\n",
      "[21 22 23]\n",
      "[24 25 26]\n",
      "--------------------------------------------------\n",
      "[18 19 20]\n",
      "[21 22 23]\n",
      "[24 25 26]\n",
      "--------------------------------------------------\n"
     ]
    }
   ],
   "source": [
    "import numpy as np \n",
    "a=np.arange(3*3*3).reshape(3,3,3)\n",
    "print(a)\n",
    "print(\"dimension of a=\",a.ndim)\n",
    "#iterating the data of 3d array \n",
    "for mat in a:\n",
    "    for row in mat:\n",
    "        for col in mat:\n",
    "            print(col)\n",
    "        print(\"-\"*50)"
   ]
  },
  {
   "cell_type": "code",
   "execution_count": 83,
   "id": "1e858b8d-9ce1-477c-bb1e-9f9abb9b3fa0",
   "metadata": {},
   "outputs": [
    {
     "name": "stdout",
     "output_type": "stream",
     "text": [
      "[50 51 52 53 54 55 56 57 58 59 60]\n",
      "50\n",
      "51\n",
      "52\n",
      "53\n",
      "54\n",
      "55\n",
      "56\n",
      "57\n",
      "58\n",
      "59\n",
      "60\n"
     ]
    }
   ],
   "source": [
    "#nditer()\n",
    "import numpy as np\n",
    "a=np.arange(50,61)\n",
    "print(a)\n",
    "#iterring the data from 1d array \n",
    "#uding nditer()\n",
    "for val in np.nditer(a):\n",
    "    print(val)"
   ]
  },
  {
   "cell_type": "code",
   "execution_count": 89,
   "id": "21282aef-c57d-4c17-81f3-1b7540331071",
   "metadata": {},
   "outputs": [
    {
     "name": "stdout",
     "output_type": "stream",
     "text": [
      "content of a\n",
      "[[12 17 14]\n",
      " [12 12 13]\n",
      " [13 14 12]]\n",
      "dimension of a= 2\n",
      "shape= (3, 3)\n",
      "12\n",
      "17\n",
      "14\n",
      "12\n",
      "12\n",
      "13\n",
      "13\n",
      "14\n",
      "12\n",
      "--------------------------------------------------\n"
     ]
    }
   ],
   "source": [
    "import numpy as np \n",
    "a=np.random.randint(10,20,size=(3,3))\n",
    "print(\"content of a\")\n",
    "print(a)\n",
    "print(\"dimension of a=\",a.ndim)\n",
    "print(\"shape=\",a.shape)\n",
    "#ittering the the 2d array \n",
    "for i in np.nditer(a):\n",
    "    print(i)\n",
    "print(\"-\"*50)"
   ]
  },
  {
   "cell_type": "code",
   "execution_count": 99,
   "id": "0774c825-5d3e-447a-89b4-2820b732a7a4",
   "metadata": {},
   "outputs": [
    {
     "name": "stdout",
     "output_type": "stream",
     "text": [
      "[[[19 19 16]\n",
      "  [24 23 10]\n",
      "  [14 22 22]]\n",
      "\n",
      " [[20 22 21]\n",
      "  [24 22 19]\n",
      "  [12 20 17]]]\n",
      "dimension of a = 3\n",
      "shape of a= (2, 3, 3)\n",
      "19\n",
      "19\n",
      "16\n",
      "24\n",
      "23\n",
      "10\n",
      "14\n",
      "22\n",
      "22\n",
      "20\n",
      "22\n",
      "21\n",
      "24\n",
      "22\n",
      "19\n",
      "12\n",
      "20\n",
      "17\n"
     ]
    }
   ],
   "source": [
    "#now itterating the data of 3d array\n",
    "a=np.random.randint(10,25,size=(2,3,3))\n",
    "print(a)\n",
    "print(\"dimension of a =\",a.ndim)\n",
    "print(\"shape of a=\", a.shape)\n",
    "for i in np.nditer(a):\n",
    "    print(i)"
   ]
  },
  {
   "cell_type": "code",
   "execution_count": 103,
   "id": "89596ba5-4fe1-44aa-8d0b-2d14340a695e",
   "metadata": {},
   "outputs": [
    {
     "name": "stdout",
     "output_type": "stream",
     "text": [
      "content of a\n",
      "[[[[ 0  1]\n",
      "   [ 2  3]]\n",
      "\n",
      "  [[ 4  5]\n",
      "   [ 6  7]]]\n",
      "\n",
      "\n",
      " [[[ 8  9]\n",
      "   [10 11]]\n",
      "\n",
      "  [[12 13]\n",
      "   [14 15]]]]\n",
      "Dim of a= 4\n",
      "---------------------------------\n",
      "0\n",
      "1\n",
      "2\n",
      "3\n",
      "4\n",
      "5\n",
      "6\n",
      "7\n",
      "8\n",
      "9\n",
      "10\n",
      "11\n",
      "12\n",
      "13\n",
      "14\n",
      "15\n"
     ]
    }
   ],
   "source": [
    "a=np.arange(2*2*2*2).reshape(2,2,2,2)\n",
    "print(\"content of a\")\n",
    "print(a)\n",
    "print(\"Dim of a=\",a.ndim)\n",
    "print(\"---------------------------------\")\n",
    "#itter the data od 4d array\n",
    "for i in np.nditer(a):\n",
    "    print(i)"
   ]
  },
  {
   "cell_type": "code",
   "execution_count": 109,
   "id": "f868de9b-1738-4496-8cdd-56ae00765bd9",
   "metadata": {},
   "outputs": [
    {
     "name": "stdout",
     "output_type": "stream",
     "text": [
      "content of a \n",
      "[10 20 50 60 70 80 90]\n",
      "dimension of a= 1\n",
      "((0,), 10) <class 'tuple'>\n",
      "((1,), 20) <class 'tuple'>\n",
      "((2,), 50) <class 'tuple'>\n",
      "((3,), 60) <class 'tuple'>\n",
      "((4,), 70) <class 'tuple'>\n",
      "((5,), 80) <class 'tuple'>\n",
      "((6,), 90) <class 'tuple'>\n"
     ]
    }
   ],
   "source": [
    "#iterartin the data from object using ndenumerate() with indices and values\n",
    "import numpy as np\n",
    "a=np.array([10,20,50,60,70,80,90])\n",
    "print(\"content of a \")\n",
    "print(a)\n",
    "print(\"dimension of a=\",a.ndim)\n",
    "for val in np.ndenumerate(a):\n",
    "    print(val,type(val))"
   ]
  },
  {
   "cell_type": "code",
   "execution_count": 113,
   "id": "71dbf81c-9140-453b-9bfe-e0d62ed87235",
   "metadata": {},
   "outputs": [
    {
     "name": "stdout",
     "output_type": "stream",
     "text": [
      "content of a \n",
      "[[10 20]\n",
      " [50 60]\n",
      " [70 80]\n",
      " [90 20]]\n",
      "dimension of a= 2\n",
      "((0, 0), 10) <class 'tuple'>\n",
      "((0, 1), 20) <class 'tuple'>\n",
      "((1, 0), 50) <class 'tuple'>\n",
      "((1, 1), 60) <class 'tuple'>\n",
      "((2, 0), 70) <class 'tuple'>\n",
      "((2, 1), 80) <class 'tuple'>\n",
      "((3, 0), 90) <class 'tuple'>\n",
      "((3, 1), 20) <class 'tuple'>\n"
     ]
    }
   ],
   "source": [
    "#iterartin the data from object using ndenumerate() with indices and values\n",
    "import numpy as np\n",
    "a=np.array([10,20,50,60,70,80,90,20]).reshape(4,2)\n",
    "print(\"content of a \")\n",
    "print(a)\n",
    "print(\"dimension of a=\",a.ndim)\n",
    "for val in np.ndenumerate(a):\n",
    "    print(val,type(val))"
   ]
  },
  {
   "cell_type": "code",
   "execution_count": 137,
   "id": "5f442864-7aad-45dc-b740-a31a03d5d8e4",
   "metadata": {},
   "outputs": [
    {
     "name": "stdout",
     "output_type": "stream",
     "text": [
      "content of a \n",
      "[[[12 21 17]\n",
      "  [12 12 14]\n",
      "  [24 10 12]]\n",
      "\n",
      " [[13 22 23]\n",
      "  [24 13 19]\n",
      "  [18 17 19]]]\n",
      "dimension of a= 3\n",
      "((0, 0, 0), 12) <class 'tuple'>\n",
      "((0, 0, 1), 21) <class 'tuple'>\n",
      "((0, 0, 2), 17) <class 'tuple'>\n",
      "((0, 1, 0), 12) <class 'tuple'>\n",
      "((0, 1, 1), 12) <class 'tuple'>\n",
      "((0, 1, 2), 14) <class 'tuple'>\n",
      "((0, 2, 0), 24) <class 'tuple'>\n",
      "((0, 2, 1), 10) <class 'tuple'>\n",
      "((0, 2, 2), 12) <class 'tuple'>\n",
      "((1, 0, 0), 13) <class 'tuple'>\n",
      "((1, 0, 1), 22) <class 'tuple'>\n",
      "((1, 0, 2), 23) <class 'tuple'>\n",
      "((1, 1, 0), 24) <class 'tuple'>\n",
      "((1, 1, 1), 13) <class 'tuple'>\n",
      "((1, 1, 2), 19) <class 'tuple'>\n",
      "((1, 2, 0), 18) <class 'tuple'>\n",
      "((1, 2, 1), 17) <class 'tuple'>\n",
      "((1, 2, 2), 19) <class 'tuple'>\n"
     ]
    }
   ],
   "source": [
    "#iterartin the data from object using ndenumerate() with indices and values\n",
    "import numpy as np\n",
    "a=np.random.randint(10,25,size=(2,3,3))\n",
    "print(\"content of a \")\n",
    "print(a)\n",
    "print(\"dimension of a=\",a.ndim)\n",
    "for val in np.ndenumerate(a):\n",
    "    print(val,type(val))"
   ]
  },
  {
   "cell_type": "code",
   "execution_count": 149,
   "id": "0d22f321-17da-43cd-872a-bb9e839afdfa",
   "metadata": {},
   "outputs": [
    {
     "name": "stdout",
     "output_type": "stream",
     "text": [
      "content of a \n",
      "[[[22 18 12]\n",
      "  [14 12 22]\n",
      "  [22 16 20]]\n",
      "\n",
      " [[17 23 21]\n",
      "  [23 20 19]\n",
      "  [11 12 10]]]\n",
      "dimension of a= 3\n",
      "(0, 0, 0) 22 <class 'numpy.int32'>\n",
      "(0, 0, 1) 18 <class 'numpy.int32'>\n",
      "(0, 0, 2) 12 <class 'numpy.int32'>\n",
      "(0, 1, 0) 14 <class 'numpy.int32'>\n",
      "(0, 1, 1) 12 <class 'numpy.int32'>\n",
      "(0, 1, 2) 22 <class 'numpy.int32'>\n",
      "(0, 2, 0) 22 <class 'numpy.int32'>\n",
      "(0, 2, 1) 16 <class 'numpy.int32'>\n",
      "(0, 2, 2) 20 <class 'numpy.int32'>\n",
      "(1, 0, 0) 17 <class 'numpy.int32'>\n",
      "(1, 0, 1) 23 <class 'numpy.int32'>\n",
      "(1, 0, 2) 21 <class 'numpy.int32'>\n",
      "(1, 1, 0) 23 <class 'numpy.int32'>\n",
      "(1, 1, 1) 20 <class 'numpy.int32'>\n",
      "(1, 1, 2) 19 <class 'numpy.int32'>\n",
      "(1, 2, 0) 11 <class 'numpy.int32'>\n",
      "(1, 2, 1) 12 <class 'numpy.int32'>\n",
      "(1, 2, 2) 10 <class 'numpy.int32'>\n"
     ]
    }
   ],
   "source": [
    "#iterartin the data from object using ndenumerate() with indices and values\n",
    "import numpy as np\n",
    "a=np.random.randint(10,25,size=(2,3,3))\n",
    "print(\"content of a \")\n",
    "print(a)\n",
    "print(\"dimension of a=\",a.ndim)\n",
    "for index,val in np.ndenumerate(a):\n",
    "    print(index,val,type(val))"
   ]
  },
  {
   "cell_type": "code",
   "execution_count": 5,
   "id": "7bf9e546-a78e-44d5-b6ca-6c9eedd5aeec",
   "metadata": {},
   "outputs": [
    {
     "name": "stdout",
     "output_type": "stream",
     "text": [
      "content of a \n",
      "[[[14 20 18]\n",
      "  [11 18 20]\n",
      "  [16 21 24]]\n",
      "\n",
      " [[16 16 11]\n",
      "  [20 14 10]\n",
      "  [11 16 11]]]\n",
      "dimension of a= 3\n",
      "0 14 <class 'numpy.int32'>\n",
      "0 20 <class 'numpy.int32'>\n",
      "0 18 <class 'numpy.int32'>\n",
      "0 11 <class 'numpy.int32'>\n",
      "0 18 <class 'numpy.int32'>\n",
      "0 20 <class 'numpy.int32'>\n",
      "0 16 <class 'numpy.int32'>\n",
      "0 21 <class 'numpy.int32'>\n",
      "0 24 <class 'numpy.int32'>\n",
      "1 16 <class 'numpy.int32'>\n",
      "1 16 <class 'numpy.int32'>\n",
      "1 11 <class 'numpy.int32'>\n",
      "1 20 <class 'numpy.int32'>\n",
      "1 14 <class 'numpy.int32'>\n",
      "1 10 <class 'numpy.int32'>\n",
      "1 11 <class 'numpy.int32'>\n",
      "1 16 <class 'numpy.int32'>\n",
      "1 11 <class 'numpy.int32'>\n"
     ]
    }
   ],
   "source": [
    "#iterartin the data from object using ndenumerate() with indices and values\n",
    "import numpy as np\n",
    "a=np.random.randint(10,25,size=(2,3,3))\n",
    "print(\"content of a \")\n",
    "print(a)\n",
    "print(\"dimension of a=\",a.ndim)\n",
    "for index,val in np.ndenumerate(a):\n",
    "    print(index[0],val,type(val))"
   ]
  },
  {
   "cell_type": "code",
   "execution_count": 7,
   "id": "a217cf2b-202c-48ab-88a7-4d47adc9a63a",
   "metadata": {},
   "outputs": [
    {
     "name": "stdout",
     "output_type": "stream",
     "text": [
      "MatrixNo\tRowNum\tColNum\tValue\n",
      "\t0\t0\t0\t14\n",
      "\t0\t0\t1\t20\n",
      "\t0\t0\t2\t18\n",
      "\t0\t1\t0\t11\n",
      "\t0\t1\t1\t18\n",
      "\t0\t1\t2\t20\n",
      "\t0\t2\t0\t16\n",
      "\t0\t2\t1\t21\n",
      "\t0\t2\t2\t24\n",
      "\t1\t0\t0\t16\n",
      "\t1\t0\t1\t16\n",
      "\t1\t0\t2\t11\n",
      "\t1\t1\t0\t20\n",
      "\t1\t1\t1\t14\n",
      "\t1\t1\t2\t10\n",
      "\t1\t2\t0\t11\n",
      "\t1\t2\t1\t16\n",
      "\t1\t2\t2\t11\n"
     ]
    }
   ],
   "source": [
    "print(\"MatrixNo\\tRowNum\\tColNum\\tValue\")\n",
    "for indval in np.ndenumerate(a):\n",
    "    print(\"\\t{}\\t{}\\t{}\\t{}\".format(indval[0][0],indval[0][1],indval[0][2],indval[1]))"
   ]
  },
  {
   "cell_type": "code",
   "execution_count": 9,
   "id": "f9260a54-604b-454e-a929-06d01e72b6b6",
   "metadata": {},
   "outputs": [
    {
     "name": "stdout",
     "output_type": "stream",
     "text": [
      "matrix\trow\tcol\tvalue\n",
      "0\t0\t0\t14\n",
      "0\t0\t1\t20\n",
      "0\t0\t2\t18\n",
      "0\t1\t0\t11\n",
      "0\t1\t1\t18\n",
      "0\t1\t2\t20\n",
      "0\t2\t0\t16\n",
      "0\t2\t1\t21\n",
      "0\t2\t2\t24\n",
      "1\t0\t0\t16\n",
      "1\t0\t1\t16\n",
      "1\t0\t2\t11\n",
      "1\t1\t0\t20\n",
      "1\t1\t1\t14\n",
      "1\t1\t2\t10\n",
      "1\t2\t0\t11\n",
      "1\t2\t1\t16\n",
      "1\t2\t2\t11\n"
     ]
    }
   ],
   "source": [
    "print(\"matrix\\trow\\tcol\\tvalue\")\n",
    "for ind in np.ndenumerate(a):\n",
    "    print(\"{}\\t{}\\t{}\\t{}\".format(ind[0][0],ind[0][1],ind[0][2],ind[1]))"
   ]
  },
  {
   "cell_type": "code",
   "execution_count": null,
   "id": "d8391bb4-870f-4806-9c88-92c4e1f14752",
   "metadata": {},
   "outputs": [],
   "source": []
  }
 ],
 "metadata": {
  "kernelspec": {
   "display_name": "Python [conda env:base] *",
   "language": "python",
   "name": "conda-base-py"
  },
  "language_info": {
   "codemirror_mode": {
    "name": "ipython",
    "version": 3
   },
   "file_extension": ".py",
   "mimetype": "text/x-python",
   "name": "python",
   "nbconvert_exporter": "python",
   "pygments_lexer": "ipython3",
   "version": "3.12.7"
  }
 },
 "nbformat": 4,
 "nbformat_minor": 5
}
